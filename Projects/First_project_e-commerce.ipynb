{
 "cells": [
  {
   "cell_type": "code",
   "execution_count": 2,
   "metadata": {},
   "outputs": [],
   "source": [
    "import numpy as np\n",
    "import pandas as pd \n",
    "\n",
    "import seaborn as sns\n",
    "import matplotlib.pyplot as plt\n",
    "from matplotlib import colors"
   ]
  },
  {
   "cell_type": "markdown",
   "metadata": {},
   "source": [
    "## Читаем файлы "
   ]
  },
  {
   "cell_type": "code",
   "execution_count": 3,
   "metadata": {},
   "outputs": [],
   "source": [
    "customers =pd.read_csv(\"~/First_project_files_ecommerce/olist_customers_dataset.csv\")"
   ]
  },
  {
   "cell_type": "code",
   "execution_count": 4,
   "metadata": {},
   "outputs": [],
   "source": [
    "orders = pd.read_csv(\"~/First_project_files_ecommerce/olist_orders_dataset.csv\", \n",
    "                     parse_dates=['order_purchase_timestamp',\n",
    "                                  'order_approved_at',\n",
    "                                  'order_delivered_carrier_date',\n",
    "                                  'order_delivered_customer_date',\n",
    "                                  'order_estimated_delivery_date'])"
   ]
  },
  {
   "cell_type": "code",
   "execution_count": 5,
   "metadata": {},
   "outputs": [],
   "source": [
    "order_items = pd.read_csv(\"~/First_project_files_ecommerce/olist_order_items_dataset.csv\", \n",
    "                         parse_dates=['shipping_limit_date'])"
   ]
  },
  {
   "cell_type": "code",
   "execution_count": 6,
   "metadata": {},
   "outputs": [
    {
     "data": {
      "text/html": [
       "<div>\n",
       "<style scoped>\n",
       "    .dataframe tbody tr th:only-of-type {\n",
       "        vertical-align: middle;\n",
       "    }\n",
       "\n",
       "    .dataframe tbody tr th {\n",
       "        vertical-align: top;\n",
       "    }\n",
       "\n",
       "    .dataframe thead th {\n",
       "        text-align: right;\n",
       "    }\n",
       "</style>\n",
       "<table border=\"1\" class=\"dataframe\">\n",
       "  <thead>\n",
       "    <tr style=\"text-align: right;\">\n",
       "      <th></th>\n",
       "      <th>customer_id</th>\n",
       "      <th>customer_unique_id</th>\n",
       "      <th>customer_zip_code_prefix</th>\n",
       "      <th>customer_city</th>\n",
       "      <th>customer_state</th>\n",
       "    </tr>\n",
       "  </thead>\n",
       "  <tbody>\n",
       "    <tr>\n",
       "      <th>0</th>\n",
       "      <td>06b8999e2fba1a1fbc88172c00ba8bc7</td>\n",
       "      <td>861eff4711a542e4b93843c6dd7febb0</td>\n",
       "      <td>14409</td>\n",
       "      <td>franca</td>\n",
       "      <td>SP</td>\n",
       "    </tr>\n",
       "    <tr>\n",
       "      <th>1</th>\n",
       "      <td>18955e83d337fd6b2def6b18a428ac77</td>\n",
       "      <td>290c77bc529b7ac935b93aa66c333dc3</td>\n",
       "      <td>9790</td>\n",
       "      <td>sao bernardo do campo</td>\n",
       "      <td>SP</td>\n",
       "    </tr>\n",
       "    <tr>\n",
       "      <th>2</th>\n",
       "      <td>4e7b3e00288586ebd08712fdd0374a03</td>\n",
       "      <td>060e732b5b29e8181a18229c7b0b2b5e</td>\n",
       "      <td>1151</td>\n",
       "      <td>sao paulo</td>\n",
       "      <td>SP</td>\n",
       "    </tr>\n",
       "  </tbody>\n",
       "</table>\n",
       "</div>"
      ],
      "text/plain": [
       "                        customer_id                customer_unique_id  \\\n",
       "0  06b8999e2fba1a1fbc88172c00ba8bc7  861eff4711a542e4b93843c6dd7febb0   \n",
       "1  18955e83d337fd6b2def6b18a428ac77  290c77bc529b7ac935b93aa66c333dc3   \n",
       "2  4e7b3e00288586ebd08712fdd0374a03  060e732b5b29e8181a18229c7b0b2b5e   \n",
       "\n",
       "   customer_zip_code_prefix          customer_city customer_state  \n",
       "0                     14409                 franca             SP  \n",
       "1                      9790  sao bernardo do campo             SP  \n",
       "2                      1151              sao paulo             SP  "
      ]
     },
     "execution_count": 6,
     "metadata": {},
     "output_type": "execute_result"
    }
   ],
   "source": [
    "customers.head(3)"
   ]
  },
  {
   "cell_type": "code",
   "execution_count": 7,
   "metadata": {},
   "outputs": [
    {
     "name": "stdout",
     "output_type": "stream",
     "text": [
      "<class 'pandas.core.frame.DataFrame'>\n",
      "RangeIndex: 99441 entries, 0 to 99440\n",
      "Data columns (total 5 columns):\n",
      " #   Column                    Non-Null Count  Dtype \n",
      "---  ------                    --------------  ----- \n",
      " 0   customer_id               99441 non-null  object\n",
      " 1   customer_unique_id        99441 non-null  object\n",
      " 2   customer_zip_code_prefix  99441 non-null  int64 \n",
      " 3   customer_city             99441 non-null  object\n",
      " 4   customer_state            99441 non-null  object\n",
      "dtypes: int64(1), object(4)\n",
      "memory usage: 3.8+ MB\n"
     ]
    }
   ],
   "source": [
    "customers.info()"
   ]
  },
  {
   "cell_type": "markdown",
   "metadata": {},
   "source": [
    " \n",
    " "
   ]
  },
  {
   "cell_type": "markdown",
   "metadata": {},
   "source": [
    " "
   ]
  },
  {
   "cell_type": "code",
   "execution_count": 8,
   "metadata": {},
   "outputs": [
    {
     "data": {
      "text/html": [
       "<div>\n",
       "<style scoped>\n",
       "    .dataframe tbody tr th:only-of-type {\n",
       "        vertical-align: middle;\n",
       "    }\n",
       "\n",
       "    .dataframe tbody tr th {\n",
       "        vertical-align: top;\n",
       "    }\n",
       "\n",
       "    .dataframe thead th {\n",
       "        text-align: right;\n",
       "    }\n",
       "</style>\n",
       "<table border=\"1\" class=\"dataframe\">\n",
       "  <thead>\n",
       "    <tr style=\"text-align: right;\">\n",
       "      <th></th>\n",
       "      <th>order_id</th>\n",
       "      <th>customer_id</th>\n",
       "      <th>order_status</th>\n",
       "      <th>order_purchase_timestamp</th>\n",
       "      <th>order_approved_at</th>\n",
       "      <th>order_delivered_carrier_date</th>\n",
       "      <th>order_delivered_customer_date</th>\n",
       "      <th>order_estimated_delivery_date</th>\n",
       "    </tr>\n",
       "  </thead>\n",
       "  <tbody>\n",
       "    <tr>\n",
       "      <th>0</th>\n",
       "      <td>e481f51cbdc54678b7cc49136f2d6af7</td>\n",
       "      <td>9ef432eb6251297304e76186b10a928d</td>\n",
       "      <td>delivered</td>\n",
       "      <td>2017-10-02 10:56:33</td>\n",
       "      <td>2017-10-02 11:07:15</td>\n",
       "      <td>2017-10-04 19:55:00</td>\n",
       "      <td>2017-10-10 21:25:13</td>\n",
       "      <td>2017-10-18</td>\n",
       "    </tr>\n",
       "    <tr>\n",
       "      <th>1</th>\n",
       "      <td>53cdb2fc8bc7dce0b6741e2150273451</td>\n",
       "      <td>b0830fb4747a6c6d20dea0b8c802d7ef</td>\n",
       "      <td>delivered</td>\n",
       "      <td>2018-07-24 20:41:37</td>\n",
       "      <td>2018-07-26 03:24:27</td>\n",
       "      <td>2018-07-26 14:31:00</td>\n",
       "      <td>2018-08-07 15:27:45</td>\n",
       "      <td>2018-08-13</td>\n",
       "    </tr>\n",
       "    <tr>\n",
       "      <th>2</th>\n",
       "      <td>47770eb9100c2d0c44946d9cf07ec65d</td>\n",
       "      <td>41ce2a54c0b03bf3443c3d931a367089</td>\n",
       "      <td>delivered</td>\n",
       "      <td>2018-08-08 08:38:49</td>\n",
       "      <td>2018-08-08 08:55:23</td>\n",
       "      <td>2018-08-08 13:50:00</td>\n",
       "      <td>2018-08-17 18:06:29</td>\n",
       "      <td>2018-09-04</td>\n",
       "    </tr>\n",
       "  </tbody>\n",
       "</table>\n",
       "</div>"
      ],
      "text/plain": [
       "                           order_id                       customer_id  \\\n",
       "0  e481f51cbdc54678b7cc49136f2d6af7  9ef432eb6251297304e76186b10a928d   \n",
       "1  53cdb2fc8bc7dce0b6741e2150273451  b0830fb4747a6c6d20dea0b8c802d7ef   \n",
       "2  47770eb9100c2d0c44946d9cf07ec65d  41ce2a54c0b03bf3443c3d931a367089   \n",
       "\n",
       "  order_status order_purchase_timestamp   order_approved_at  \\\n",
       "0    delivered      2017-10-02 10:56:33 2017-10-02 11:07:15   \n",
       "1    delivered      2018-07-24 20:41:37 2018-07-26 03:24:27   \n",
       "2    delivered      2018-08-08 08:38:49 2018-08-08 08:55:23   \n",
       "\n",
       "  order_delivered_carrier_date order_delivered_customer_date  \\\n",
       "0          2017-10-04 19:55:00           2017-10-10 21:25:13   \n",
       "1          2018-07-26 14:31:00           2018-08-07 15:27:45   \n",
       "2          2018-08-08 13:50:00           2018-08-17 18:06:29   \n",
       "\n",
       "  order_estimated_delivery_date  \n",
       "0                    2017-10-18  \n",
       "1                    2018-08-13  \n",
       "2                    2018-09-04  "
      ]
     },
     "execution_count": 8,
     "metadata": {},
     "output_type": "execute_result"
    }
   ],
   "source": [
    "orders.head(3)"
   ]
  },
  {
   "cell_type": "code",
   "execution_count": 67,
   "metadata": {},
   "outputs": [
    {
     "name": "stdout",
     "output_type": "stream",
     "text": [
      "<class 'pandas.core.frame.DataFrame'>\n",
      "RangeIndex: 99441 entries, 0 to 99440\n",
      "Data columns (total 8 columns):\n",
      " #   Column                         Non-Null Count  Dtype         \n",
      "---  ------                         --------------  -----         \n",
      " 0   order_id                       99441 non-null  object        \n",
      " 1   customer_id                    99441 non-null  object        \n",
      " 2   order_status                   99441 non-null  object        \n",
      " 3   order_purchase_timestamp       99441 non-null  datetime64[ns]\n",
      " 4   order_approved_at              99281 non-null  datetime64[ns]\n",
      " 5   order_delivered_carrier_date   97658 non-null  datetime64[ns]\n",
      " 6   order_delivered_customer_date  96476 non-null  datetime64[ns]\n",
      " 7   order_estimated_delivery_date  99441 non-null  datetime64[ns]\n",
      "dtypes: datetime64[ns](5), object(3)\n",
      "memory usage: 6.1+ MB\n"
     ]
    }
   ],
   "source": [
    "orders.info()"
   ]
  },
  {
   "cell_type": "code",
   "execution_count": 9,
   "metadata": {},
   "outputs": [
    {
     "data": {
      "text/plain": [
       "Text(0.5, 0, 'Количество пропусков в orders')"
      ]
     },
     "execution_count": 9,
     "metadata": {},
     "output_type": "execute_result"
    },
    {
     "data": {
      "image/png": "[encoded data removed]",
      "text/plain": [
       "<Figure size 1152x288 with 1 Axes>"
      ]
     },
     "metadata": {
      "needs_background": "light"
     },
     "output_type": "display_data"
    }
   ],
   "source": [
    "plt.figure(figsize=(16,4))\n",
    "sns.set_style(style='whitegrid')\n",
    "sns.barplot(y=orders.isnull().sum().index,x=orders.isnull().sum(), palette='summer')\n",
    "plt.xlabel('Количество пропусков в orders')"
   ]
  },
  {
   "cell_type": "code",
   "execution_count": 10,
   "metadata": {},
   "outputs": [
    {
     "name": "stdout",
     "output_type": "stream",
     "text": [
      "Количество уникальных order_id: 99441\n",
      "Количество уникальных customer_id: 99441\n",
      "Количество уникальных order_status: 8\n",
      "Количество уникальных order_purchase_timestamp: 98875\n",
      "Количество уникальных order_approved_at: 90733\n",
      "Количество уникальных order_delivered_carrier_date: 81018\n",
      "Количество уникальных order_delivered_customer_date: 95664\n",
      "Количество уникальных order_estimated_delivery_date: 459\n"
     ]
    }
   ],
   "source": [
    "for col in orders.columns:\n",
    "    un_n = orders[col].dropna().nunique()\n",
    "    print(f'Количество уникальных {col}: {un_n}')"
   ]
  },
  {
   "cell_type": "markdown",
   "metadata": {},
   "source": [
    "#### Если дропнуть пропуски, то останутся только два статуса"
   ]
  },
  {
   "cell_type": "code",
   "execution_count": 23,
   "metadata": {},
   "outputs": [
    {
     "data": {
      "text/plain": [
       "order_id                         96461\n",
       "customer_id                      96461\n",
       "order_status                         2\n",
       "order_purchase_timestamp         95939\n",
       "order_approved_at                88272\n",
       "order_delivered_carrier_date     80100\n",
       "order_delivered_customer_date    95649\n",
       "order_estimated_delivery_date      445\n",
       "dtype: int64"
      ]
     },
     "execution_count": 23,
     "metadata": {},
     "output_type": "execute_result"
    }
   ],
   "source": [
    "orders.dropna().nunique()"
   ]
  },
  {
   "cell_type": "code",
   "execution_count": 24,
   "metadata": {},
   "outputs": [
    {
     "data": {
      "text/plain": [
       "delivered    96455\n",
       "canceled         6\n",
       "Name: order_status, dtype: int64"
      ]
     },
     "execution_count": 24,
     "metadata": {},
     "output_type": "execute_result"
    }
   ],
   "source": [
    "orders.dropna().order_status.value_counts()                         "
   ]
  },
  {
   "cell_type": "markdown",
   "metadata": {},
   "source": [
    "#### Разберемся что стало с остальными\n",
    "\n",
    "created —  создан   \n",
    "approved —  подтверждён    \n",
    "invoiced —  выставлен счёт   \n",
    "processing —  в процессе сборки заказа   \n",
    "shipped —  отгружен со склада   \n",
    "delivered —  доставлен пользователю   \n",
    "unavailable —  недоступен  \n",
    "canceled —  отменён "
   ]
  },
  {
   "cell_type": "code",
   "execution_count": 144,
   "metadata": {},
   "outputs": [
    {
     "data": {
      "text/plain": [
       "shipped        1107\n",
       "canceled        619\n",
       "unavailable     609\n",
       "invoiced        314\n",
       "processing      301\n",
       "delivered         8\n",
       "created           5\n",
       "approved          2\n",
       "Name: order_status, dtype: int64"
      ]
     },
     "execution_count": 144,
     "metadata": {},
     "output_type": "execute_result"
    }
   ],
   "source": [
    "orders[~orders.order_delivered_customer_date.isin(orders.order_delivered_customer_date.dropna())]\\\n",
    "        .order_status.value_counts()"
   ]
  },
  {
   "cell_type": "markdown",
   "metadata": {},
   "source": [
    " "
   ]
  },
  {
   "cell_type": "markdown",
   "metadata": {},
   "source": [
    "#### Посмотрим (последние статусы) в какие месяцы заказ был сделан, но нет даты прыбытия товара покупателю"
   ]
  },
  {
   "cell_type": "code",
   "execution_count": 64,
   "metadata": {},
   "outputs": [],
   "source": [
    "x = orders[orders.order_delivered_customer_date.isna()]\\\n",
    "            .set_index('order_purchase_timestamp').to_period(\"M\")"
   ]
  },
  {
   "cell_type": "code",
   "execution_count": 66,
   "metadata": {},
   "outputs": [
    {
     "data": {
      "text/plain": [
       "<matplotlib.legend.Legend at 0x7fef3a594898>"
      ]
     },
     "execution_count": 66,
     "metadata": {},
     "output_type": "execute_result"
    },
    {
     "data": {
      "image/png": "[encoded data removed]",
      "text/plain": [
       "<Figure size 1152x432 with 1 Axes>"
      ]
     },
     "metadata": {},
     "output_type": "display_data"
    }
   ],
   "source": [
    "y = x.groupby(['order_purchase_timestamp','order_status']) \\\n",
    "        .agg({'order_id':'count'}) \\\n",
    "        .reset_index() \\\n",
    "        .sort_values(by=['order_purchase_timestamp','order_id'])\n",
    "\n",
    "plt.figure(figsize=(16,6))\n",
    "plt.xticks(rotation='30')\n",
    "sns.set_style(style='whitegrid')\n",
    "sns.barplot( data=y,   x = 'order_purchase_timestamp',\n",
    "                y = 'order_id', hue='order_status')\n",
    "plt.legend(loc='center left', bbox_to_anchor=(0.88, 0.8), ncol=1)"
   ]
  },
  {
   "cell_type": "markdown",
   "metadata": {},
   "source": [
    "created —  создан   \n",
    "approved —  подтверждён    \n",
    "invoiced —  выставлен счёт   \n",
    "processing —  в процессе сборки заказа   \n",
    "shipped —  отгружен со склада   \n",
    "delivered —  доставлен пользователю   \n",
    "unavailable —  недоступен  \n",
    "canceled —  отменён "
   ]
  },
  {
   "cell_type": "markdown",
   "metadata": {},
   "source": [
    " "
   ]
  },
  {
   "cell_type": "markdown",
   "metadata": {},
   "source": [
    "### Посмотрим на order_items"
   ]
  },
  {
   "cell_type": "code",
   "execution_count": 148,
   "metadata": {},
   "outputs": [
    {
     "data": {
      "text/html": [
       "<div>\n",
       "<style scoped>\n",
       "    .dataframe tbody tr th:only-of-type {\n",
       "        vertical-align: middle;\n",
       "    }\n",
       "\n",
       "    .dataframe tbody tr th {\n",
       "        vertical-align: top;\n",
       "    }\n",
       "\n",
       "    .dataframe thead th {\n",
       "        text-align: right;\n",
       "    }\n",
       "</style>\n",
       "<table border=\"1\" class=\"dataframe\">\n",
       "  <thead>\n",
       "    <tr style=\"text-align: right;\">\n",
       "      <th></th>\n",
       "      <th>order_id</th>\n",
       "      <th>order_item_id</th>\n",
       "      <th>product_id</th>\n",
       "      <th>seller_id</th>\n",
       "      <th>shipping_limit_date</th>\n",
       "      <th>price</th>\n",
       "      <th>freight_value</th>\n",
       "    </tr>\n",
       "  </thead>\n",
       "  <tbody>\n",
       "    <tr>\n",
       "      <th>0</th>\n",
       "      <td>00010242fe8c5a6d1ba2dd792cb16214</td>\n",
       "      <td>1</td>\n",
       "      <td>4244733e06e7ecb4970a6e2683c13e61</td>\n",
       "      <td>48436dade18ac8b2bce089ec2a041202</td>\n",
       "      <td>2017-09-19 09:45:35</td>\n",
       "      <td>58.9</td>\n",
       "      <td>13.29</td>\n",
       "    </tr>\n",
       "    <tr>\n",
       "      <th>1</th>\n",
       "      <td>00018f77f2f0320c557190d7a144bdd3</td>\n",
       "      <td>1</td>\n",
       "      <td>e5f2d52b802189ee658865ca93d83a8f</td>\n",
       "      <td>dd7ddc04e1b6c2c614352b383efe2d36</td>\n",
       "      <td>2017-05-03 11:05:13</td>\n",
       "      <td>239.9</td>\n",
       "      <td>19.93</td>\n",
       "    </tr>\n",
       "  </tbody>\n",
       "</table>\n",
       "</div>"
      ],
      "text/plain": [
       "                           order_id  order_item_id  \\\n",
       "0  00010242fe8c5a6d1ba2dd792cb16214              1   \n",
       "1  00018f77f2f0320c557190d7a144bdd3              1   \n",
       "\n",
       "                         product_id                         seller_id  \\\n",
       "0  4244733e06e7ecb4970a6e2683c13e61  48436dade18ac8b2bce089ec2a041202   \n",
       "1  e5f2d52b802189ee658865ca93d83a8f  dd7ddc04e1b6c2c614352b383efe2d36   \n",
       "\n",
       "  shipping_limit_date  price  freight_value  \n",
       "0 2017-09-19 09:45:35   58.9          13.29  \n",
       "1 2017-05-03 11:05:13  239.9          19.93  "
      ]
     },
     "execution_count": 148,
     "metadata": {},
     "output_type": "execute_result"
    }
   ],
   "source": [
    "order_items.head(2)"
   ]
  },
  {
   "cell_type": "code",
   "execution_count": 149,
   "metadata": {},
   "outputs": [
    {
     "name": "stdout",
     "output_type": "stream",
     "text": [
      "<class 'pandas.core.frame.DataFrame'>\n",
      "RangeIndex: 112650 entries, 0 to 112649\n",
      "Data columns (total 7 columns):\n",
      " #   Column               Non-Null Count   Dtype         \n",
      "---  ------               --------------   -----         \n",
      " 0   order_id             112650 non-null  object        \n",
      " 1   order_item_id        112650 non-null  int64         \n",
      " 2   product_id           112650 non-null  object        \n",
      " 3   seller_id            112650 non-null  object        \n",
      " 4   shipping_limit_date  112650 non-null  datetime64[ns]\n",
      " 5   price                112650 non-null  float64       \n",
      " 6   freight_value        112650 non-null  float64       \n",
      "dtypes: datetime64[ns](1), float64(2), int64(1), object(3)\n",
      "memory usage: 6.0+ MB\n"
     ]
    }
   ],
   "source": [
    "order_items.info()"
   ]
  },
  {
   "cell_type": "markdown",
   "metadata": {},
   "source": [
    "#### Кол-во пустых значений в order_items"
   ]
  },
  {
   "cell_type": "code",
   "execution_count": 150,
   "metadata": {},
   "outputs": [
    {
     "data": {
      "text/plain": [
       "order_id               0\n",
       "order_item_id          0\n",
       "product_id             0\n",
       "seller_id              0\n",
       "shipping_limit_date    0\n",
       "price                  0\n",
       "freight_value          0\n",
       "dtype: int64"
      ]
     },
     "execution_count": 150,
     "metadata": {},
     "output_type": "execute_result"
    }
   ],
   "source": [
    "order_items.isna().sum()"
   ]
  },
  {
   "cell_type": "markdown",
   "metadata": {},
   "source": [
    "#### Кол-во уникальных значений в order_items"
   ]
  },
  {
   "cell_type": "code",
   "execution_count": 7,
   "metadata": {},
   "outputs": [
    {
     "name": "stdout",
     "output_type": "stream",
     "text": [
      "Кол-во уникальных order_id: 98666\n",
      "Кол-во уникальных order_item_id: 21\n",
      "Кол-во уникальных product_id: 32951\n",
      "Кол-во уникальных seller_id: 3095\n",
      "Кол-во уникальных shipping_limit_date: 93318\n",
      "Кол-во уникальных price: 5968\n",
      "Кол-во уникальных freight_value: 6999\n"
     ]
    }
   ],
   "source": [
    "for col in order_items.columns:\n",
    "    un_n = order_items[col].nunique()\n",
    "    print(f'Кол-во уникальных {col}: {un_n}')"
   ]
  },
  {
   "cell_type": "code",
   "execution_count": null,
   "metadata": {},
   "outputs": [],
   "source": []
  },
  {
   "cell_type": "code",
   "execution_count": null,
   "metadata": {},
   "outputs": [],
   "source": []
  },
  {
   "cell_type": "markdown",
   "metadata": {},
   "source": [
    "### Будем считать покупкой:\n",
    "* #### статутсы не отменён  \"order_status != canceled\" \n",
    "* #### c датой доставки \"order_delivered_customer_date\"\n",
    "* #### и с заполненой датой оплаты \"order_approved_at\""
   ]
  },
  {
   "cell_type": "markdown",
   "metadata": {},
   "source": [
    "    Для подсчета покупок возьмем уникальный customers.customer_unique_id и далее по обычному customers.customer_id найдем \n",
    "    все заказы в orders со статусом != canceled и ~order_approved_at.isna(), ~order_delivered_customer_date.isna()"
   ]
  },
  {
   "cell_type": "code",
   "execution_count": 69,
   "metadata": {},
   "outputs": [
    {
     "data": {
      "text/plain": [
       "order_id                         96456\n",
       "customer_id                      96456\n",
       "order_status                         1\n",
       "order_purchase_timestamp         95934\n",
       "order_approved_at                88267\n",
       "order_delivered_carrier_date     80094\n",
       "order_delivered_customer_date    95644\n",
       "order_estimated_delivery_date      445\n",
       "dtype: int64"
      ]
     },
     "execution_count": 69,
     "metadata": {},
     "output_type": "execute_result"
    }
   ],
   "source": [
    "delivered = orders[(orders.order_status != 'canceled') & \n",
    "       (~orders.order_approved_at.isna()) &\n",
    "       (~orders.order_delivered_customer_date.isna())]\n",
    "delivered.nunique()"
   ]
  },
  {
   "cell_type": "markdown",
   "metadata": {},
   "source": [
    "### Посмотрим как распределились наши покупки  на графике по дням"
   ]
  },
  {
   "cell_type": "code",
   "execution_count": 64,
   "metadata": {},
   "outputs": [
    {
     "data": {
      "text/plain": [
       "<matplotlib.axes._subplots.AxesSubplot at 0x7ff619199c18>"
      ]
     },
     "execution_count": 64,
     "metadata": {},
     "output_type": "execute_result"
    },
    {
     "data": {
      "image/png": "[encoded data removed]",
      "text/plain": [
       "<Figure size 1152x216 with 1 Axes>"
      ]
     },
     "metadata": {},
     "output_type": "display_data"
    }
   ],
   "source": [
    "# поиск аномалий\n",
    "plt.figure(figsize=(16,3))\n",
    "plt.grid()\n",
    "\n",
    "anomaly_plot = delivered.set_index('order_purchase_timestamp')\\\n",
    "    .to_period('D').groupby('order_purchase_timestamp').order_id.nunique()\n",
    "anomaly_plot.plot.line()"
   ]
  },
  {
   "cell_type": "markdown",
   "metadata": {},
   "source": [
    "####  На 2017-11-24 выпадает аномально большое количество покупок."
   ]
  },
  {
   "cell_type": "code",
   "execution_count": 1076,
   "metadata": {},
   "outputs": [
    {
     "data": {
      "text/html": [
       "<div>\n",
       "<style scoped>\n",
       "    .dataframe tbody tr th:only-of-type {\n",
       "        vertical-align: middle;\n",
       "    }\n",
       "\n",
       "    .dataframe tbody tr th {\n",
       "        vertical-align: top;\n",
       "    }\n",
       "\n",
       "    .dataframe thead th {\n",
       "        text-align: right;\n",
       "    }\n",
       "</style>\n",
       "<table border=\"1\" class=\"dataframe\">\n",
       "  <thead>\n",
       "    <tr style=\"text-align: right;\">\n",
       "      <th></th>\n",
       "      <th>customer_id</th>\n",
       "      <th>customer_unique_id</th>\n",
       "      <th>customer_zip_code_prefix</th>\n",
       "      <th>customer_city</th>\n",
       "      <th>customer_state</th>\n",
       "      <th>order_id</th>\n",
       "      <th>order_status</th>\n",
       "      <th>order_purchase_timestamp</th>\n",
       "      <th>order_approved_at</th>\n",
       "      <th>order_delivered_carrier_date</th>\n",
       "      <th>order_delivered_customer_date</th>\n",
       "      <th>order_estimated_delivery_date</th>\n",
       "    </tr>\n",
       "  </thead>\n",
       "  <tbody>\n",
       "    <tr>\n",
       "      <th>28</th>\n",
       "      <td>e0eea8f69a457b3f1fa246e44c9ebefd</td>\n",
       "      <td>4d221875624017bc47b4d1ce7314a5b7</td>\n",
       "      <td>29311</td>\n",
       "      <td>cachoeiro de itapemirim</td>\n",
       "      <td>ES</td>\n",
       "      <td>3a6d41a4fe7a8e841b7c8e4b77d4e301</td>\n",
       "      <td>delivered</td>\n",
       "      <td>2017-11-24 11:29:52</td>\n",
       "      <td>2017-11-24 13:33:05</td>\n",
       "      <td>2017-11-27 21:12:51</td>\n",
       "      <td>2017-12-06 22:37:09</td>\n",
       "      <td>2017-12-18</td>\n",
       "    </tr>\n",
       "    <tr>\n",
       "      <th>147</th>\n",
       "      <td>7f2357cfd99c900565e6ffd6d2708d9d</td>\n",
       "      <td>466c3a741a952640c1984a48ebbffbf9</td>\n",
       "      <td>22251</td>\n",
       "      <td>rio de janeiro</td>\n",
       "      <td>RJ</td>\n",
       "      <td>f72289715f4416fb6e9a289031977b6d</td>\n",
       "      <td>delivered</td>\n",
       "      <td>2017-11-24 22:57:06</td>\n",
       "      <td>2017-11-25 01:57:33</td>\n",
       "      <td>2017-11-30 22:32:03</td>\n",
       "      <td>2017-12-08 21:29:11</td>\n",
       "      <td>2017-12-19</td>\n",
       "    </tr>\n",
       "    <tr>\n",
       "      <th>306</th>\n",
       "      <td>8a3083e3f5500b50d6f4f3003604df87</td>\n",
       "      <td>ad1ba362b0121447945a47fe07fef188</td>\n",
       "      <td>37950</td>\n",
       "      <td>sao sebastiao do paraiso</td>\n",
       "      <td>MG</td>\n",
       "      <td>d1a22a39de10a881fa47a509a1a9073b</td>\n",
       "      <td>delivered</td>\n",
       "      <td>2017-11-24 17:16:46</td>\n",
       "      <td>2017-11-24 20:53:47</td>\n",
       "      <td>2017-11-27 16:15:46</td>\n",
       "      <td>2017-12-06 22:48:41</td>\n",
       "      <td>2017-12-15</td>\n",
       "    </tr>\n",
       "  </tbody>\n",
       "</table>\n",
       "</div>"
      ],
      "text/plain": [
       "                          customer_id                customer_unique_id  \\\n",
       "28   e0eea8f69a457b3f1fa246e44c9ebefd  4d221875624017bc47b4d1ce7314a5b7   \n",
       "147  7f2357cfd99c900565e6ffd6d2708d9d  466c3a741a952640c1984a48ebbffbf9   \n",
       "306  8a3083e3f5500b50d6f4f3003604df87  ad1ba362b0121447945a47fe07fef188   \n",
       "\n",
       "     customer_zip_code_prefix             customer_city customer_state  \\\n",
       "28                      29311   cachoeiro de itapemirim             ES   \n",
       "147                     22251            rio de janeiro             RJ   \n",
       "306                     37950  sao sebastiao do paraiso             MG   \n",
       "\n",
       "                             order_id order_status order_purchase_timestamp  \\\n",
       "28   3a6d41a4fe7a8e841b7c8e4b77d4e301    delivered      2017-11-24 11:29:52   \n",
       "147  f72289715f4416fb6e9a289031977b6d    delivered      2017-11-24 22:57:06   \n",
       "306  d1a22a39de10a881fa47a509a1a9073b    delivered      2017-11-24 17:16:46   \n",
       "\n",
       "      order_approved_at order_delivered_carrier_date  \\\n",
       "28  2017-11-24 13:33:05          2017-11-27 21:12:51   \n",
       "147 2017-11-25 01:57:33          2017-11-30 22:32:03   \n",
       "306 2017-11-24 20:53:47          2017-11-27 16:15:46   \n",
       "\n",
       "    order_delivered_customer_date order_estimated_delivery_date  \n",
       "28            2017-12-06 22:37:09                    2017-12-18  \n",
       "147           2017-12-08 21:29:11                    2017-12-19  \n",
       "306           2017-12-06 22:48:41                    2017-12-15  "
      ]
     },
     "execution_count": 1076,
     "metadata": {},
     "output_type": "execute_result"
    }
   ],
   "source": [
    "#аномалия  \n",
    "anomaly = customer_status[(customer_status.order_purchase_timestamp >= '2017-11-24') \n",
    "                & (customer_status.order_purchase_timestamp < '2017-11-25')]\n",
    "anomaly.head(3)"
   ]
  },
  {
   "cell_type": "code",
   "execution_count": 1081,
   "metadata": {},
   "outputs": [
    {
     "data": {
      "text/plain": [
       "<matplotlib.axes._subplots.AxesSubplot at 0x7f622f371a58>"
      ]
     },
     "execution_count": 1081,
     "metadata": {},
     "output_type": "execute_result"
    },
    {
     "data": {
      "image/png": "[encoded data removed]",
      "text/plain": [
       "<Figure size 1152x432 with 1 Axes>"
      ]
     },
     "metadata": {},
     "output_type": "display_data"
    }
   ],
   "source": [
    "#Покупок по часам\n",
    "plt.figure(figsize=(16,6))\n",
    "x = anomaly.set_index('order_purchase_timestamp').to_period('h').order_id.reset_index()\n",
    "sns.countplot(y =x.order_purchase_timestamp.sort_values(), palette='summer')"
   ]
  },
  {
   "cell_type": "code",
   "execution_count": 26,
   "metadata": {},
   "outputs": [],
   "source": [
    "#anomaly.nunique()"
   ]
  },
  {
   "cell_type": "markdown",
   "metadata": {},
   "source": [
    "#### Вывод: \n",
    "       1147 Заказов и 1132 уникальных покупателя за день, все со статусом \"Доставлено\".\n",
    "       На 2017-11-24 выпадает \"черная пятница\", так что все в норме."
   ]
  },
  {
   "cell_type": "markdown",
   "metadata": {},
   "source": [
    "### Объединим таблицы customers, delivered для удобства"
   ]
  },
  {
   "cell_type": "code",
   "execution_count": 70,
   "metadata": {},
   "outputs": [],
   "source": [
    "customer_status = pd.merge(customers, delivered, on='customer_id')"
   ]
  },
  {
   "cell_type": "code",
   "execution_count": 71,
   "metadata": {
    "scrolled": true
   },
   "outputs": [
    {
     "data": {
      "text/html": [
       "<div>\n",
       "<style scoped>\n",
       "    .dataframe tbody tr th:only-of-type {\n",
       "        vertical-align: middle;\n",
       "    }\n",
       "\n",
       "    .dataframe tbody tr th {\n",
       "        vertical-align: top;\n",
       "    }\n",
       "\n",
       "    .dataframe thead th {\n",
       "        text-align: right;\n",
       "    }\n",
       "</style>\n",
       "<table border=\"1\" class=\"dataframe\">\n",
       "  <thead>\n",
       "    <tr style=\"text-align: right;\">\n",
       "      <th></th>\n",
       "      <th>customer_id</th>\n",
       "      <th>customer_unique_id</th>\n",
       "      <th>customer_zip_code_prefix</th>\n",
       "      <th>customer_city</th>\n",
       "      <th>customer_state</th>\n",
       "      <th>order_id</th>\n",
       "      <th>order_status</th>\n",
       "      <th>order_purchase_timestamp</th>\n",
       "      <th>order_approved_at</th>\n",
       "      <th>order_delivered_carrier_date</th>\n",
       "      <th>order_delivered_customer_date</th>\n",
       "      <th>order_estimated_delivery_date</th>\n",
       "    </tr>\n",
       "  </thead>\n",
       "  <tbody>\n",
       "    <tr>\n",
       "      <th>0</th>\n",
       "      <td>06b8999e2fba1a1fbc88172c00ba8bc7</td>\n",
       "      <td>861eff4711a542e4b93843c6dd7febb0</td>\n",
       "      <td>14409</td>\n",
       "      <td>franca</td>\n",
       "      <td>SP</td>\n",
       "      <td>00e7ee1b050b8499577073aeb2a297a1</td>\n",
       "      <td>delivered</td>\n",
       "      <td>2017-05-16 15:05:35</td>\n",
       "      <td>2017-05-16 15:22:12</td>\n",
       "      <td>2017-05-23 10:47:57</td>\n",
       "      <td>2017-05-25 10:35:35</td>\n",
       "      <td>2017-06-05</td>\n",
       "    </tr>\n",
       "    <tr>\n",
       "      <th>1</th>\n",
       "      <td>18955e83d337fd6b2def6b18a428ac77</td>\n",
       "      <td>290c77bc529b7ac935b93aa66c333dc3</td>\n",
       "      <td>9790</td>\n",
       "      <td>sao bernardo do campo</td>\n",
       "      <td>SP</td>\n",
       "      <td>29150127e6685892b6eab3eec79f59c7</td>\n",
       "      <td>delivered</td>\n",
       "      <td>2018-01-12 20:48:24</td>\n",
       "      <td>2018-01-12 20:58:32</td>\n",
       "      <td>2018-01-15 17:14:59</td>\n",
       "      <td>2018-01-29 12:41:19</td>\n",
       "      <td>2018-02-06</td>\n",
       "    </tr>\n",
       "    <tr>\n",
       "      <th>2</th>\n",
       "      <td>4e7b3e00288586ebd08712fdd0374a03</td>\n",
       "      <td>060e732b5b29e8181a18229c7b0b2b5e</td>\n",
       "      <td>1151</td>\n",
       "      <td>sao paulo</td>\n",
       "      <td>SP</td>\n",
       "      <td>b2059ed67ce144a36e2aa97d2c9e9ad2</td>\n",
       "      <td>delivered</td>\n",
       "      <td>2018-05-19 16:07:45</td>\n",
       "      <td>2018-05-20 16:19:10</td>\n",
       "      <td>2018-06-11 14:31:00</td>\n",
       "      <td>2018-06-14 17:58:51</td>\n",
       "      <td>2018-06-13</td>\n",
       "    </tr>\n",
       "  </tbody>\n",
       "</table>\n",
       "</div>"
      ],
      "text/plain": [
       "                        customer_id                customer_unique_id  \\\n",
       "0  06b8999e2fba1a1fbc88172c00ba8bc7  861eff4711a542e4b93843c6dd7febb0   \n",
       "1  18955e83d337fd6b2def6b18a428ac77  290c77bc529b7ac935b93aa66c333dc3   \n",
       "2  4e7b3e00288586ebd08712fdd0374a03  060e732b5b29e8181a18229c7b0b2b5e   \n",
       "\n",
       "   customer_zip_code_prefix          customer_city customer_state  \\\n",
       "0                     14409                 franca             SP   \n",
       "1                      9790  sao bernardo do campo             SP   \n",
       "2                      1151              sao paulo             SP   \n",
       "\n",
       "                           order_id order_status order_purchase_timestamp  \\\n",
       "0  00e7ee1b050b8499577073aeb2a297a1    delivered      2017-05-16 15:05:35   \n",
       "1  29150127e6685892b6eab3eec79f59c7    delivered      2018-01-12 20:48:24   \n",
       "2  b2059ed67ce144a36e2aa97d2c9e9ad2    delivered      2018-05-19 16:07:45   \n",
       "\n",
       "    order_approved_at order_delivered_carrier_date  \\\n",
       "0 2017-05-16 15:22:12          2017-05-23 10:47:57   \n",
       "1 2018-01-12 20:58:32          2018-01-15 17:14:59   \n",
       "2 2018-05-20 16:19:10          2018-06-11 14:31:00   \n",
       "\n",
       "  order_delivered_customer_date order_estimated_delivery_date  \n",
       "0           2017-05-25 10:35:35                    2017-06-05  \n",
       "1           2018-01-29 12:41:19                    2018-02-06  \n",
       "2           2018-06-14 17:58:51                    2018-06-13  "
      ]
     },
     "execution_count": 71,
     "metadata": {},
     "output_type": "execute_result"
    }
   ],
   "source": [
    "customer_status.head(3)"
   ]
  },
  {
   "cell_type": "code",
   "execution_count": 72,
   "metadata": {},
   "outputs": [],
   "source": [
    "#нет даты доставки или статус != 'delivered'"
   ]
  },
  {
   "cell_type": "code",
   "execution_count": 73,
   "metadata": {},
   "outputs": [],
   "source": [
    "not_delivered = orders[\n",
    "       (orders.order_status != 'delivered') |\n",
    "       (orders.order_delivered_customer_date.isna())]"
   ]
  },
  {
   "cell_type": "code",
   "execution_count": 74,
   "metadata": {},
   "outputs": [],
   "source": [
    "customer_status_not_delivered = pd.merge(customers, not_delivered, on='customer_id')"
   ]
  },
  {
   "cell_type": "code",
   "execution_count": 75,
   "metadata": {},
   "outputs": [
    {
     "data": {
      "text/plain": [
       "customer_id                      2971\n",
       "customer_unique_id               2971\n",
       "customer_zip_code_prefix         2971\n",
       "customer_city                    2971\n",
       "customer_state                   2971\n",
       "order_id                         2971\n",
       "order_status                     2971\n",
       "order_purchase_timestamp         2971\n",
       "order_approved_at                2825\n",
       "order_delivered_carrier_date     1189\n",
       "order_delivered_customer_date       6\n",
       "order_estimated_delivery_date    2971\n",
       "dtype: int64"
      ]
     },
     "execution_count": 75,
     "metadata": {},
     "output_type": "execute_result"
    }
   ],
   "source": [
    "customer_status_not_delivered.count()"
   ]
  },
  {
   "cell_type": "code",
   "execution_count": 76,
   "metadata": {},
   "outputs": [
    {
     "data": {
      "text/html": [
       "<div>\n",
       "<style scoped>\n",
       "    .dataframe tbody tr th:only-of-type {\n",
       "        vertical-align: middle;\n",
       "    }\n",
       "\n",
       "    .dataframe tbody tr th {\n",
       "        vertical-align: top;\n",
       "    }\n",
       "\n",
       "    .dataframe thead th {\n",
       "        text-align: right;\n",
       "    }\n",
       "</style>\n",
       "<table border=\"1\" class=\"dataframe\">\n",
       "  <thead>\n",
       "    <tr style=\"text-align: right;\">\n",
       "      <th></th>\n",
       "      <th>customer_id</th>\n",
       "      <th>customer_unique_id</th>\n",
       "      <th>customer_zip_code_prefix</th>\n",
       "      <th>customer_city</th>\n",
       "      <th>customer_state</th>\n",
       "      <th>order_id</th>\n",
       "      <th>order_status</th>\n",
       "      <th>order_purchase_timestamp</th>\n",
       "      <th>order_approved_at</th>\n",
       "      <th>order_delivered_carrier_date</th>\n",
       "      <th>order_delivered_customer_date</th>\n",
       "      <th>order_estimated_delivery_date</th>\n",
       "    </tr>\n",
       "  </thead>\n",
       "  <tbody>\n",
       "    <tr>\n",
       "      <th>0</th>\n",
       "      <td>f34a6e874087ec1f0e3dab9fdf659c5d</td>\n",
       "      <td>233896de79986082f1f479f1f85281cb</td>\n",
       "      <td>38300</td>\n",
       "      <td>ituiutaba</td>\n",
       "      <td>MG</td>\n",
       "      <td>6e98de3a85c84ead6689189b825d35b5</td>\n",
       "      <td>canceled</td>\n",
       "      <td>2018-03-15 10:07:02</td>\n",
       "      <td>2018-03-15 10:29:33</td>\n",
       "      <td>NaT</td>\n",
       "      <td>NaT</td>\n",
       "      <td>2018-04-09</td>\n",
       "    </tr>\n",
       "    <tr>\n",
       "      <th>1</th>\n",
       "      <td>c132855c926907970dcf6f2bf0b33a24</td>\n",
       "      <td>a8ae36a2bb6c2bbc3b5d62ede131c9ef</td>\n",
       "      <td>18740</td>\n",
       "      <td>taquarituba</td>\n",
       "      <td>SP</td>\n",
       "      <td>b5172d4a722c0ebb34c29bbbb7a3cb42</td>\n",
       "      <td>invoiced</td>\n",
       "      <td>2018-04-17 13:14:13</td>\n",
       "      <td>2018-04-18 05:31:51</td>\n",
       "      <td>NaT</td>\n",
       "      <td>NaT</td>\n",
       "      <td>2018-05-24</td>\n",
       "    </tr>\n",
       "    <tr>\n",
       "      <th>2</th>\n",
       "      <td>4c7241af24b5344cb01fe687643de4fe</td>\n",
       "      <td>b157c176c3fe04914fde33f2dc8b878a</td>\n",
       "      <td>60336</td>\n",
       "      <td>fortaleza</td>\n",
       "      <td>CE</td>\n",
       "      <td>ad380680e87dea0f2abf5cd5bace626c</td>\n",
       "      <td>shipped</td>\n",
       "      <td>2018-01-21 15:54:02</td>\n",
       "      <td>2018-01-22 13:52:41</td>\n",
       "      <td>2018-01-24 18:26:40</td>\n",
       "      <td>NaT</td>\n",
       "      <td>2018-02-20</td>\n",
       "    </tr>\n",
       "  </tbody>\n",
       "</table>\n",
       "</div>"
      ],
      "text/plain": [
       "                        customer_id                customer_unique_id  \\\n",
       "0  f34a6e874087ec1f0e3dab9fdf659c5d  233896de79986082f1f479f1f85281cb   \n",
       "1  c132855c926907970dcf6f2bf0b33a24  a8ae36a2bb6c2bbc3b5d62ede131c9ef   \n",
       "2  4c7241af24b5344cb01fe687643de4fe  b157c176c3fe04914fde33f2dc8b878a   \n",
       "\n",
       "   customer_zip_code_prefix customer_city customer_state  \\\n",
       "0                     38300     ituiutaba             MG   \n",
       "1                     18740   taquarituba             SP   \n",
       "2                     60336     fortaleza             CE   \n",
       "\n",
       "                           order_id order_status order_purchase_timestamp  \\\n",
       "0  6e98de3a85c84ead6689189b825d35b5     canceled      2018-03-15 10:07:02   \n",
       "1  b5172d4a722c0ebb34c29bbbb7a3cb42     invoiced      2018-04-17 13:14:13   \n",
       "2  ad380680e87dea0f2abf5cd5bace626c      shipped      2018-01-21 15:54:02   \n",
       "\n",
       "    order_approved_at order_delivered_carrier_date  \\\n",
       "0 2018-03-15 10:29:33                          NaT   \n",
       "1 2018-04-18 05:31:51                          NaT   \n",
       "2 2018-01-22 13:52:41          2018-01-24 18:26:40   \n",
       "\n",
       "  order_delivered_customer_date order_estimated_delivery_date  \n",
       "0                           NaT                    2018-04-09  \n",
       "1                           NaT                    2018-05-24  \n",
       "2                           NaT                    2018-02-20  "
      ]
     },
     "execution_count": 76,
     "metadata": {},
     "output_type": "execute_result"
    }
   ],
   "source": [
    "customer_status_not_delivered.head(3)"
   ]
  },
  {
   "cell_type": "markdown",
   "metadata": {},
   "source": [
    "#     "
   ]
  },
  {
   "cell_type": "markdown",
   "metadata": {},
   "source": [
    "### 1. Сколько у нас пользователей, которые совершили покупку только один раз? "
   ]
  },
  {
   "cell_type": "code",
   "execution_count": 77,
   "metadata": {},
   "outputs": [],
   "source": [
    "#customer_status\n",
    "#добавим колонку Year,Month (время создания заказа)\n",
    "customer_status['order_created_month'] = customer_status.order_purchase_timestamp.dt.to_period('M')\n",
    "#добавим колонку день недели (время создания заказа)\n",
    "customer_status['day_name'] = customer_status.order_purchase_timestamp.dt.day_name()\n",
    "\n",
    "\n",
    "#customer_status_not_delivered\n",
    "#добавим колонку Year,Month (время создания заказа)\n",
    "customer_status_not_delivered['order_created_month'] = customer_status_not_delivered.order_purchase_timestamp.dt.to_period('M')\n",
    "#добавим колонку день недели (время создания заказа)\n",
    "customer_status_not_delivered['day_name'] = customer_status_not_delivered.order_purchase_timestamp.dt.day_name()"
   ]
  },
  {
   "cell_type": "markdown",
   "metadata": {},
   "source": [
    "#### Всего заказов"
   ]
  },
  {
   "cell_type": "code",
   "execution_count": 78,
   "metadata": {},
   "outputs": [
    {
     "data": {
      "text/plain": [
       "99441"
      ]
     },
     "execution_count": 78,
     "metadata": {},
     "output_type": "execute_result"
    }
   ],
   "source": [
    "orders.order_id.nunique()"
   ]
  },
  {
   "cell_type": "markdown",
   "metadata": {},
   "source": [
    "#### Проверяем кол-во заказов отвечающих требованиям к покупке"
   ]
  },
  {
   "cell_type": "code",
   "execution_count": 79,
   "metadata": {},
   "outputs": [
    {
     "data": {
      "text/plain": [
       "96456"
      ]
     },
     "execution_count": 79,
     "metadata": {},
     "output_type": "execute_result"
    }
   ],
   "source": [
    "delivered.order_id.nunique()"
   ]
  },
  {
   "cell_type": "code",
   "execution_count": 80,
   "metadata": {},
   "outputs": [
    {
     "data": {
      "text/plain": [
       "96456"
      ]
     },
     "execution_count": 80,
     "metadata": {},
     "output_type": "execute_result"
    }
   ],
   "source": [
    "delivered.customer_id.nunique()"
   ]
  },
  {
   "cell_type": "markdown",
   "metadata": {},
   "source": [
    "* order_id —  уникальный идентификатор заказа (номер чека)\n",
    "* customer_id —  позаказный идентификатор пользователя   \n",
    "\n",
    "Выдаются покупателю только на один заказ, так что считать их каждый раз отдельно нет смысла"
   ]
  },
  {
   "cell_type": "markdown",
   "metadata": {},
   "source": [
    "#### Проверяем количество уникальных покупателей\n"
   ]
  },
  {
   "cell_type": "code",
   "execution_count": 81,
   "metadata": {},
   "outputs": [
    {
     "data": {
      "text/plain": [
       "93337"
      ]
     },
     "execution_count": 81,
     "metadata": {},
     "output_type": "execute_result"
    }
   ],
   "source": [
    "customer_status.customer_unique_id.nunique()"
   ]
  },
  {
   "cell_type": "markdown",
   "metadata": {},
   "source": [
    " "
   ]
  },
  {
   "cell_type": "markdown",
   "metadata": {},
   "source": [
    "#### Посмотрим на получившуюся таблицу"
   ]
  },
  {
   "cell_type": "code",
   "execution_count": 170,
   "metadata": {},
   "outputs": [
    {
     "data": {
      "text/html": [
       "<div>\n",
       "<style scoped>\n",
       "    .dataframe tbody tr th:only-of-type {\n",
       "        vertical-align: middle;\n",
       "    }\n",
       "\n",
       "    .dataframe tbody tr th {\n",
       "        vertical-align: top;\n",
       "    }\n",
       "\n",
       "    .dataframe thead th {\n",
       "        text-align: right;\n",
       "    }\n",
       "</style>\n",
       "<table border=\"1\" class=\"dataframe\">\n",
       "  <thead>\n",
       "    <tr style=\"text-align: right;\">\n",
       "      <th></th>\n",
       "      <th>customer_id</th>\n",
       "      <th>customer_unique_id</th>\n",
       "      <th>customer_zip_code_prefix</th>\n",
       "      <th>customer_city</th>\n",
       "      <th>customer_state</th>\n",
       "      <th>order_id</th>\n",
       "      <th>order_status</th>\n",
       "      <th>order_purchase_timestamp</th>\n",
       "      <th>order_approved_at</th>\n",
       "      <th>order_delivered_carrier_date</th>\n",
       "      <th>order_delivered_customer_date</th>\n",
       "      <th>order_estimated_delivery_date</th>\n",
       "      <th>order_created_month</th>\n",
       "      <th>day_name</th>\n",
       "    </tr>\n",
       "  </thead>\n",
       "  <tbody>\n",
       "    <tr>\n",
       "      <th>0</th>\n",
       "      <td>06b8999e2fba1a1fbc88172c00ba8bc7</td>\n",
       "      <td>861eff4711a542e4b93843c6dd7febb0</td>\n",
       "      <td>14409</td>\n",
       "      <td>franca</td>\n",
       "      <td>SP</td>\n",
       "      <td>00e7ee1b050b8499577073aeb2a297a1</td>\n",
       "      <td>delivered</td>\n",
       "      <td>2017-05-16 15:05:35</td>\n",
       "      <td>2017-05-16 15:22:12</td>\n",
       "      <td>2017-05-23 10:47:57</td>\n",
       "      <td>2017-05-25 10:35:35</td>\n",
       "      <td>2017-06-05</td>\n",
       "      <td>2017-05</td>\n",
       "      <td>Tuesday</td>\n",
       "    </tr>\n",
       "    <tr>\n",
       "      <th>1</th>\n",
       "      <td>18955e83d337fd6b2def6b18a428ac77</td>\n",
       "      <td>290c77bc529b7ac935b93aa66c333dc3</td>\n",
       "      <td>9790</td>\n",
       "      <td>sao bernardo do campo</td>\n",
       "      <td>SP</td>\n",
       "      <td>29150127e6685892b6eab3eec79f59c7</td>\n",
       "      <td>delivered</td>\n",
       "      <td>2018-01-12 20:48:24</td>\n",
       "      <td>2018-01-12 20:58:32</td>\n",
       "      <td>2018-01-15 17:14:59</td>\n",
       "      <td>2018-01-29 12:41:19</td>\n",
       "      <td>2018-02-06</td>\n",
       "      <td>2018-01</td>\n",
       "      <td>Friday</td>\n",
       "    </tr>\n",
       "    <tr>\n",
       "      <th>2</th>\n",
       "      <td>4e7b3e00288586ebd08712fdd0374a03</td>\n",
       "      <td>060e732b5b29e8181a18229c7b0b2b5e</td>\n",
       "      <td>1151</td>\n",
       "      <td>sao paulo</td>\n",
       "      <td>SP</td>\n",
       "      <td>b2059ed67ce144a36e2aa97d2c9e9ad2</td>\n",
       "      <td>delivered</td>\n",
       "      <td>2018-05-19 16:07:45</td>\n",
       "      <td>2018-05-20 16:19:10</td>\n",
       "      <td>2018-06-11 14:31:00</td>\n",
       "      <td>2018-06-14 17:58:51</td>\n",
       "      <td>2018-06-13</td>\n",
       "      <td>2018-05</td>\n",
       "      <td>Saturday</td>\n",
       "    </tr>\n",
       "  </tbody>\n",
       "</table>\n",
       "</div>"
      ],
      "text/plain": [
       "                        customer_id                customer_unique_id  \\\n",
       "0  06b8999e2fba1a1fbc88172c00ba8bc7  861eff4711a542e4b93843c6dd7febb0   \n",
       "1  18955e83d337fd6b2def6b18a428ac77  290c77bc529b7ac935b93aa66c333dc3   \n",
       "2  4e7b3e00288586ebd08712fdd0374a03  060e732b5b29e8181a18229c7b0b2b5e   \n",
       "\n",
       "   customer_zip_code_prefix          customer_city customer_state  \\\n",
       "0                     14409                 franca             SP   \n",
       "1                      9790  sao bernardo do campo             SP   \n",
       "2                      1151              sao paulo             SP   \n",
       "\n",
       "                           order_id order_status order_purchase_timestamp  \\\n",
       "0  00e7ee1b050b8499577073aeb2a297a1    delivered      2017-05-16 15:05:35   \n",
       "1  29150127e6685892b6eab3eec79f59c7    delivered      2018-01-12 20:48:24   \n",
       "2  b2059ed67ce144a36e2aa97d2c9e9ad2    delivered      2018-05-19 16:07:45   \n",
       "\n",
       "    order_approved_at order_delivered_carrier_date  \\\n",
       "0 2017-05-16 15:22:12          2017-05-23 10:47:57   \n",
       "1 2018-01-12 20:58:32          2018-01-15 17:14:59   \n",
       "2 2018-05-20 16:19:10          2018-06-11 14:31:00   \n",
       "\n",
       "  order_delivered_customer_date order_estimated_delivery_date  \\\n",
       "0           2017-05-25 10:35:35                    2017-06-05   \n",
       "1           2018-01-29 12:41:19                    2018-02-06   \n",
       "2           2018-06-14 17:58:51                    2018-06-13   \n",
       "\n",
       "  order_created_month  day_name  \n",
       "0             2017-05   Tuesday  \n",
       "1             2018-01    Friday  \n",
       "2             2018-05  Saturday  "
      ]
     },
     "execution_count": 170,
     "metadata": {},
     "output_type": "execute_result"
    }
   ],
   "source": [
    "customer_status.head(3)"
   ]
  },
  {
   "cell_type": "code",
   "execution_count": 82,
   "metadata": {},
   "outputs": [
    {
     "data": {
      "text/html": [
       "<div>\n",
       "<style scoped>\n",
       "    .dataframe tbody tr th:only-of-type {\n",
       "        vertical-align: middle;\n",
       "    }\n",
       "\n",
       "    .dataframe tbody tr th {\n",
       "        vertical-align: top;\n",
       "    }\n",
       "\n",
       "    .dataframe thead th {\n",
       "        text-align: right;\n",
       "    }\n",
       "</style>\n",
       "<table border=\"1\" class=\"dataframe\">\n",
       "  <thead>\n",
       "    <tr style=\"text-align: right;\">\n",
       "      <th></th>\n",
       "      <th>customer_unique_id</th>\n",
       "      <th>count_unique_delivery</th>\n",
       "    </tr>\n",
       "  </thead>\n",
       "  <tbody>\n",
       "    <tr>\n",
       "      <th>0</th>\n",
       "      <td>0000366f3b9a7992bf8c76cfdf3221e2</td>\n",
       "      <td>1</td>\n",
       "    </tr>\n",
       "    <tr>\n",
       "      <th>61775</th>\n",
       "      <td>a9411bb77ab13d6e4bf09d0365f0dd7f</td>\n",
       "      <td>1</td>\n",
       "    </tr>\n",
       "    <tr>\n",
       "      <th>61774</th>\n",
       "      <td>a9403b325f6e6619eaf3cfe9af0773bd</td>\n",
       "      <td>1</td>\n",
       "    </tr>\n",
       "    <tr>\n",
       "      <th>61773</th>\n",
       "      <td>a93ef4ff71d0f83d54ab658ad156cd23</td>\n",
       "      <td>1</td>\n",
       "    </tr>\n",
       "    <tr>\n",
       "      <th>61772</th>\n",
       "      <td>a93ded3225b94e83aba36406dda9dd6f</td>\n",
       "      <td>1</td>\n",
       "    </tr>\n",
       "    <tr>\n",
       "      <th>...</th>\n",
       "      <td>...</td>\n",
       "      <td>...</td>\n",
       "    </tr>\n",
       "    <tr>\n",
       "      <th>36700</th>\n",
       "      <td>6469f99c1f9dfae7733b25662e7f1782</td>\n",
       "      <td>7</td>\n",
       "    </tr>\n",
       "    <tr>\n",
       "      <th>73906</th>\n",
       "      <td>ca77025e7201e3b30c44b472ff346268</td>\n",
       "      <td>7</td>\n",
       "    </tr>\n",
       "    <tr>\n",
       "      <th>10058</th>\n",
       "      <td>1b6c7548a2a1f9037c1fd3ddfed95f33</td>\n",
       "      <td>7</td>\n",
       "    </tr>\n",
       "    <tr>\n",
       "      <th>22774</th>\n",
       "      <td>3e43e6105506432c953e165fb2acf44c</td>\n",
       "      <td>9</td>\n",
       "    </tr>\n",
       "    <tr>\n",
       "      <th>51421</th>\n",
       "      <td>8d50f5eadf50201ccdcedfb9e2ac8455</td>\n",
       "      <td>15</td>\n",
       "    </tr>\n",
       "  </tbody>\n",
       "</table>\n",
       "<p>93337 rows × 2 columns</p>\n",
       "</div>"
      ],
      "text/plain": [
       "                     customer_unique_id  count_unique_delivery\n",
       "0      0000366f3b9a7992bf8c76cfdf3221e2                      1\n",
       "61775  a9411bb77ab13d6e4bf09d0365f0dd7f                      1\n",
       "61774  a9403b325f6e6619eaf3cfe9af0773bd                      1\n",
       "61773  a93ef4ff71d0f83d54ab658ad156cd23                      1\n",
       "61772  a93ded3225b94e83aba36406dda9dd6f                      1\n",
       "...                                 ...                    ...\n",
       "36700  6469f99c1f9dfae7733b25662e7f1782                      7\n",
       "73906  ca77025e7201e3b30c44b472ff346268                      7\n",
       "10058  1b6c7548a2a1f9037c1fd3ddfed95f33                      7\n",
       "22774  3e43e6105506432c953e165fb2acf44c                      9\n",
       "51421  8d50f5eadf50201ccdcedfb9e2ac8455                     15\n",
       "\n",
       "[93337 rows x 2 columns]"
      ]
     },
     "execution_count": 82,
     "metadata": {},
     "output_type": "execute_result"
    }
   ],
   "source": [
    "#отбираем уникальных пользователей, считаем customer_id\n",
    "total_purchases = customer_status.groupby(['customer_unique_id'], as_index=False) \\\n",
    "                            .order_id.nunique() \\\n",
    "                            .sort_values(by='order_id') \\\n",
    "                            .rename(columns={'order_id':'count_unique_delivery'})\n",
    "total_purchases"
   ]
  },
  {
   "cell_type": "markdown",
   "metadata": {},
   "source": [
    "#   "
   ]
  },
  {
   "cell_type": "markdown",
   "metadata": {},
   "source": [
    "### Кол-во пользователей, которые совершили покупку только один раз"
   ]
  },
  {
   "cell_type": "code",
   "execution_count": 172,
   "metadata": {},
   "outputs": [
    {
     "data": {
      "text/plain": [
       "90537"
      ]
     },
     "execution_count": 172,
     "metadata": {},
     "output_type": "execute_result"
    }
   ],
   "source": [
    "total_purchases[(total_purchases.count_unique_delivery == 1)].customer_unique_id.nunique()"
   ]
  },
  {
   "cell_type": "code",
   "execution_count": 173,
   "metadata": {},
   "outputs": [
    {
     "data": {
      "text/plain": [
       "('only one purchase =', 90537, 'more then 1 purchase =', 2800)"
      ]
     },
     "execution_count": 173,
     "metadata": {},
     "output_type": "execute_result"
    },
    {
     "data": {
      "image/png": "[encoded data removed]",
      "text/plain": [
       "<Figure size 1152x216 with 1 Axes>"
      ]
     },
     "metadata": {},
     "output_type": "display_data"
    }
   ],
   "source": [
    "plt.figure(figsize=(16,3))\n",
    "sns.set_style(style='whitegrid')\n",
    "ax = sns.barplot(y= ['only one purchase','more then 1 purchase'], \n",
    "x= [total_purchases[(total_purchases.count_unique_delivery == 1)].customer_unique_id.nunique(),\n",
    "    total_purchases[(total_purchases.count_unique_delivery >1)].customer_unique_id.count()], palette='summer')\n",
    "\n",
    "'only one purchase =', total_purchases[(total_purchases.count_unique_delivery <=1)].customer_unique_id.nunique(),\\\n",
    "'more then 1 purchase =',total_purchases[(total_purchases.count_unique_delivery >1)].customer_unique_id.count()"
   ]
  },
  {
   "cell_type": "markdown",
   "metadata": {},
   "source": [
    "### Больше одной покупки "
   ]
  },
  {
   "cell_type": "code",
   "execution_count": 174,
   "metadata": {},
   "outputs": [
    {
     "data": {
      "text/html": [
       "<div>\n",
       "<style scoped>\n",
       "    .dataframe tbody tr th:only-of-type {\n",
       "        vertical-align: middle;\n",
       "    }\n",
       "\n",
       "    .dataframe tbody tr th {\n",
       "        vertical-align: top;\n",
       "    }\n",
       "\n",
       "    .dataframe thead th {\n",
       "        text-align: right;\n",
       "    }\n",
       "</style>\n",
       "<table border=\"1\" class=\"dataframe\">\n",
       "  <thead>\n",
       "    <tr style=\"text-align: right;\">\n",
       "      <th></th>\n",
       "      <th>count_unique_delivery</th>\n",
       "      <th>customer_unique_id</th>\n",
       "    </tr>\n",
       "  </thead>\n",
       "  <tbody>\n",
       "    <tr>\n",
       "      <th>0</th>\n",
       "      <td>2</td>\n",
       "      <td>2572</td>\n",
       "    </tr>\n",
       "    <tr>\n",
       "      <th>1</th>\n",
       "      <td>3</td>\n",
       "      <td>181</td>\n",
       "    </tr>\n",
       "    <tr>\n",
       "      <th>2</th>\n",
       "      <td>4</td>\n",
       "      <td>28</td>\n",
       "    </tr>\n",
       "    <tr>\n",
       "      <th>3</th>\n",
       "      <td>5</td>\n",
       "      <td>9</td>\n",
       "    </tr>\n",
       "    <tr>\n",
       "      <th>4</th>\n",
       "      <td>6</td>\n",
       "      <td>5</td>\n",
       "    </tr>\n",
       "    <tr>\n",
       "      <th>5</th>\n",
       "      <td>7</td>\n",
       "      <td>3</td>\n",
       "    </tr>\n",
       "    <tr>\n",
       "      <th>6</th>\n",
       "      <td>9</td>\n",
       "      <td>1</td>\n",
       "    </tr>\n",
       "    <tr>\n",
       "      <th>7</th>\n",
       "      <td>15</td>\n",
       "      <td>1</td>\n",
       "    </tr>\n",
       "  </tbody>\n",
       "</table>\n",
       "</div>"
      ],
      "text/plain": [
       "   count_unique_delivery  customer_unique_id\n",
       "0                      2                2572\n",
       "1                      3                 181\n",
       "2                      4                  28\n",
       "3                      5                   9\n",
       "4                      6                   5\n",
       "5                      7                   3\n",
       "6                      9                   1\n",
       "7                     15                   1"
      ]
     },
     "execution_count": 174,
     "metadata": {},
     "output_type": "execute_result"
    }
   ],
   "source": [
    "total_purchases[(total_purchases.count_unique_delivery >1)]\\\n",
    "                .groupby('count_unique_delivery', as_index=False)\\\n",
    "                .customer_unique_id.count()"
   ]
  },
  {
   "cell_type": "markdown",
   "metadata": {},
   "source": [
    "#   "
   ]
  },
  {
   "cell_type": "markdown",
   "metadata": {},
   "source": [
    "### 2. Сколько заказов в месяц в среднем не доставляется по разным причинам (вывести детализацию по причинам)?"
   ]
  },
  {
   "cell_type": "code",
   "execution_count": 83,
   "metadata": {},
   "outputs": [
    {
     "data": {
      "text/html": [
       "<div>\n",
       "<style scoped>\n",
       "    .dataframe tbody tr th:only-of-type {\n",
       "        vertical-align: middle;\n",
       "    }\n",
       "\n",
       "    .dataframe tbody tr th {\n",
       "        vertical-align: top;\n",
       "    }\n",
       "\n",
       "    .dataframe thead th {\n",
       "        text-align: right;\n",
       "    }\n",
       "</style>\n",
       "<table border=\"1\" class=\"dataframe\">\n",
       "  <thead>\n",
       "    <tr style=\"text-align: right;\">\n",
       "      <th></th>\n",
       "      <th>order_status</th>\n",
       "      <th>per month</th>\n",
       "      <th>all</th>\n",
       "    </tr>\n",
       "  </thead>\n",
       "  <tbody>\n",
       "    <tr>\n",
       "      <th>6</th>\n",
       "      <td>shipped</td>\n",
       "      <td>48.130435</td>\n",
       "      <td>1107</td>\n",
       "    </tr>\n",
       "    <tr>\n",
       "      <th>1</th>\n",
       "      <td>canceled</td>\n",
       "      <td>26.041667</td>\n",
       "      <td>625</td>\n",
       "    </tr>\n",
       "    <tr>\n",
       "      <th>7</th>\n",
       "      <td>unavailable</td>\n",
       "      <td>29.000000</td>\n",
       "      <td>609</td>\n",
       "    </tr>\n",
       "    <tr>\n",
       "      <th>4</th>\n",
       "      <td>invoiced</td>\n",
       "      <td>14.952381</td>\n",
       "      <td>314</td>\n",
       "    </tr>\n",
       "    <tr>\n",
       "      <th>5</th>\n",
       "      <td>processing</td>\n",
       "      <td>15.842105</td>\n",
       "      <td>301</td>\n",
       "    </tr>\n",
       "    <tr>\n",
       "      <th>3</th>\n",
       "      <td>delivered</td>\n",
       "      <td>2.000000</td>\n",
       "      <td>8</td>\n",
       "    </tr>\n",
       "    <tr>\n",
       "      <th>2</th>\n",
       "      <td>created</td>\n",
       "      <td>1.666667</td>\n",
       "      <td>5</td>\n",
       "    </tr>\n",
       "    <tr>\n",
       "      <th>0</th>\n",
       "      <td>approved</td>\n",
       "      <td>1.000000</td>\n",
       "      <td>2</td>\n",
       "    </tr>\n",
       "  </tbody>\n",
       "</table>\n",
       "</div>"
      ],
      "text/plain": [
       "  order_status  per month   all\n",
       "6      shipped  48.130435  1107\n",
       "1     canceled  26.041667   625\n",
       "7  unavailable  29.000000   609\n",
       "4     invoiced  14.952381   314\n",
       "5   processing  15.842105   301\n",
       "3    delivered   2.000000     8\n",
       "2      created   1.666667     5\n",
       "0     approved   1.000000     2"
      ]
     },
     "execution_count": 83,
     "metadata": {},
     "output_type": "execute_result"
    }
   ],
   "source": [
    "#группировка по год и месяц\n",
    "not_delivered_status =  customer_status_not_delivered\\\n",
    "    .groupby(['order_created_month','order_status'],as_index=False)\\\n",
    "    .agg({'order_id':'count'})\n",
    "\n",
    "#группировка по месяцам среднее и сумма\n",
    "not_delivered_plot = pd.merge(\n",
    "not_delivered_status.groupby('order_status',as_index=False).order_id.mean(),\n",
    "not_delivered_status.groupby('order_status',as_index=False).order_id.sum(),\n",
    "on='order_status').rename(columns={'order_id_x':'per month','order_id_y':'all'}).sort_values(by='all',ascending=False)\n",
    "\n",
    "not_delivered_plot"
   ]
  },
  {
   "cell_type": "code",
   "execution_count": 176,
   "metadata": {},
   "outputs": [
    {
     "data": {
      "text/plain": [
       "<matplotlib.axes._subplots.AxesSubplot at 0x7f9849385550>"
      ]
     },
     "execution_count": 176,
     "metadata": {},
     "output_type": "execute_result"
    },
    {
     "data": {
      "image/png": "[encoded data removed]",
      "text/plain": [
       "<Figure size 1152x432 with 2 Axes>"
      ]
     },
     "metadata": {},
     "output_type": "display_data"
    }
   ],
   "source": [
    "f, ax = plt.subplots(1,2, figsize=(16,6))\n",
    "sns.set_style(style='whitegrid')\n",
    "sns.barplot(data= not_delivered_plot, y='order_status' , x='per month', ax= ax[0], palette='summer')\n",
    "sns.barplot(data= not_delivered_plot, y='order_status' , x='all', ax= ax[1], palette='summer')"
   ]
  },
  {
   "cell_type": "markdown",
   "metadata": {},
   "source": [
    "created —  создан   \n",
    "approved —  подтверждён    \n",
    "invoiced —  выставлен счёт   \n",
    "processing —  в процессе сборки заказа   \n",
    "shipped —  отгружен со склада   \n",
    "delivered —  доставлен пользователю   \n",
    "unavailable —  недоступен  \n",
    "canceled —  отменён "
   ]
  },
  {
   "cell_type": "markdown",
   "metadata": {},
   "source": [
    "### Вывод: \n",
    "    Могие оплаченныe заказы имею статусы != delivered, причины указаны на графике, так же есть заказы со статусом delivered, но без даты доставки\n",
    "    Возможно ошибка при сборе данных, для более детального анализа недостаточно данных. "
   ]
  },
  {
   "cell_type": "markdown",
   "metadata": {},
   "source": [
    " "
   ]
  },
  {
   "cell_type": "markdown",
   "metadata": {},
   "source": [
    " "
   ]
  },
  {
   "cell_type": "markdown",
   "metadata": {},
   "source": [
    "#  "
   ]
  },
  {
   "cell_type": "markdown",
   "metadata": {},
   "source": [
    "### 3. По каждому товару определим, в какой день недели товар чаще всего покупали."
   ]
  },
  {
   "cell_type": "markdown",
   "metadata": {},
   "source": [
    "#### Объединим таблицу items с customer_status"
   ]
  },
  {
   "cell_type": "code",
   "execution_count": 84,
   "metadata": {},
   "outputs": [
    {
     "name": "stdout",
     "output_type": "stream",
     "text": [
      "<class 'pandas.core.frame.DataFrame'>\n",
      "Int64Index: 110174 entries, 0 to 110173\n",
      "Data columns (total 20 columns):\n",
      " #   Column                         Non-Null Count   Dtype         \n",
      "---  ------                         --------------   -----         \n",
      " 0   customer_id                    110174 non-null  object        \n",
      " 1   customer_unique_id             110174 non-null  object        \n",
      " 2   customer_zip_code_prefix       110174 non-null  int64         \n",
      " 3   customer_city                  110174 non-null  object        \n",
      " 4   customer_state                 110174 non-null  object        \n",
      " 5   order_id                       110174 non-null  object        \n",
      " 6   order_status                   110174 non-null  object        \n",
      " 7   order_purchase_timestamp       110174 non-null  datetime64[ns]\n",
      " 8   order_approved_at              110174 non-null  datetime64[ns]\n",
      " 9   order_delivered_carrier_date   110173 non-null  datetime64[ns]\n",
      " 10  order_delivered_customer_date  110174 non-null  datetime64[ns]\n",
      " 11  order_estimated_delivery_date  110174 non-null  datetime64[ns]\n",
      " 12  order_created_month            110174 non-null  period[M]     \n",
      " 13  day_name                       110174 non-null  object        \n",
      " 14  order_item_id                  110174 non-null  int64         \n",
      " 15  product_id                     110174 non-null  object        \n",
      " 16  seller_id                      110174 non-null  object        \n",
      " 17  shipping_limit_date            110174 non-null  datetime64[ns]\n",
      " 18  price                          110174 non-null  float64       \n",
      " 19  freight_value                  110174 non-null  float64       \n",
      "dtypes: datetime64[ns](6), float64(2), int64(2), object(9), period[M](1)\n",
      "memory usage: 17.7+ MB\n"
     ]
    }
   ],
   "source": [
    "customer_status_and_items = pd.merge(customer_status, order_items, \\\n",
    "         on='order_id')\n",
    "customer_status_and_items.info()"
   ]
  },
  {
   "cell_type": "code",
   "execution_count": 27,
   "metadata": {},
   "outputs": [
    {
     "data": {
      "text/html": [
       "<div>\n",
       "<style scoped>\n",
       "    .dataframe tbody tr th:only-of-type {\n",
       "        vertical-align: middle;\n",
       "    }\n",
       "\n",
       "    .dataframe tbody tr th {\n",
       "        vertical-align: top;\n",
       "    }\n",
       "\n",
       "    .dataframe thead th {\n",
       "        text-align: right;\n",
       "    }\n",
       "</style>\n",
       "<table border=\"1\" class=\"dataframe\">\n",
       "  <thead>\n",
       "    <tr style=\"text-align: right;\">\n",
       "      <th></th>\n",
       "      <th>customer_id</th>\n",
       "      <th>customer_unique_id</th>\n",
       "      <th>customer_zip_code_prefix</th>\n",
       "      <th>customer_city</th>\n",
       "      <th>customer_state</th>\n",
       "      <th>order_id</th>\n",
       "      <th>order_status</th>\n",
       "      <th>order_purchase_timestamp</th>\n",
       "      <th>order_approved_at</th>\n",
       "      <th>order_delivered_carrier_date</th>\n",
       "      <th>order_delivered_customer_date</th>\n",
       "      <th>order_estimated_delivery_date</th>\n",
       "      <th>order_created_month</th>\n",
       "      <th>day_name</th>\n",
       "      <th>order_item_id</th>\n",
       "      <th>product_id</th>\n",
       "      <th>seller_id</th>\n",
       "      <th>shipping_limit_date</th>\n",
       "      <th>price</th>\n",
       "      <th>freight_value</th>\n",
       "    </tr>\n",
       "  </thead>\n",
       "  <tbody>\n",
       "    <tr>\n",
       "      <th>0</th>\n",
       "      <td>06b8999e2fba1a1fbc88172c00ba8bc7</td>\n",
       "      <td>861eff4711a542e4b93843c6dd7febb0</td>\n",
       "      <td>14409</td>\n",
       "      <td>franca</td>\n",
       "      <td>SP</td>\n",
       "      <td>00e7ee1b050b8499577073aeb2a297a1</td>\n",
       "      <td>delivered</td>\n",
       "      <td>2017-05-16 15:05:35</td>\n",
       "      <td>2017-05-16 15:22:12</td>\n",
       "      <td>2017-05-23 10:47:57</td>\n",
       "      <td>2017-05-25 10:35:35</td>\n",
       "      <td>2017-06-05</td>\n",
       "      <td>2017-05</td>\n",
       "      <td>Tuesday</td>\n",
       "      <td>1</td>\n",
       "      <td>a9516a079e37a9c9c36b9b78b10169e8</td>\n",
       "      <td>7c67e1448b00f6e969d365cea6b010ab</td>\n",
       "      <td>2017-05-22 15:22:12</td>\n",
       "      <td>124.99</td>\n",
       "      <td>21.88</td>\n",
       "    </tr>\n",
       "    <tr>\n",
       "      <th>1</th>\n",
       "      <td>18955e83d337fd6b2def6b18a428ac77</td>\n",
       "      <td>290c77bc529b7ac935b93aa66c333dc3</td>\n",
       "      <td>9790</td>\n",
       "      <td>sao bernardo do campo</td>\n",
       "      <td>SP</td>\n",
       "      <td>29150127e6685892b6eab3eec79f59c7</td>\n",
       "      <td>delivered</td>\n",
       "      <td>2018-01-12 20:48:24</td>\n",
       "      <td>2018-01-12 20:58:32</td>\n",
       "      <td>2018-01-15 17:14:59</td>\n",
       "      <td>2018-01-29 12:41:19</td>\n",
       "      <td>2018-02-06</td>\n",
       "      <td>2018-01</td>\n",
       "      <td>Friday</td>\n",
       "      <td>1</td>\n",
       "      <td>4aa6014eceb682077f9dc4bffebc05b0</td>\n",
       "      <td>b8bc237ba3788b23da09c0f1f3a3288c</td>\n",
       "      <td>2018-01-18 20:58:32</td>\n",
       "      <td>289.00</td>\n",
       "      <td>46.48</td>\n",
       "    </tr>\n",
       "  </tbody>\n",
       "</table>\n",
       "</div>"
      ],
      "text/plain": [
       "                        customer_id                customer_unique_id  \\\n",
       "0  06b8999e2fba1a1fbc88172c00ba8bc7  861eff4711a542e4b93843c6dd7febb0   \n",
       "1  18955e83d337fd6b2def6b18a428ac77  290c77bc529b7ac935b93aa66c333dc3   \n",
       "\n",
       "   customer_zip_code_prefix          customer_city customer_state  \\\n",
       "0                     14409                 franca             SP   \n",
       "1                      9790  sao bernardo do campo             SP   \n",
       "\n",
       "                           order_id order_status order_purchase_timestamp  \\\n",
       "0  00e7ee1b050b8499577073aeb2a297a1    delivered      2017-05-16 15:05:35   \n",
       "1  29150127e6685892b6eab3eec79f59c7    delivered      2018-01-12 20:48:24   \n",
       "\n",
       "    order_approved_at order_delivered_carrier_date  \\\n",
       "0 2017-05-16 15:22:12          2017-05-23 10:47:57   \n",
       "1 2018-01-12 20:58:32          2018-01-15 17:14:59   \n",
       "\n",
       "  order_delivered_customer_date order_estimated_delivery_date  \\\n",
       "0           2017-05-25 10:35:35                    2017-06-05   \n",
       "1           2018-01-29 12:41:19                    2018-02-06   \n",
       "\n",
       "  order_created_month day_name  order_item_id  \\\n",
       "0             2017-05  Tuesday              1   \n",
       "1             2018-01   Friday              1   \n",
       "\n",
       "                         product_id                         seller_id  \\\n",
       "0  a9516a079e37a9c9c36b9b78b10169e8  7c67e1448b00f6e969d365cea6b010ab   \n",
       "1  4aa6014eceb682077f9dc4bffebc05b0  b8bc237ba3788b23da09c0f1f3a3288c   \n",
       "\n",
       "  shipping_limit_date   price  freight_value  \n",
       "0 2017-05-22 15:22:12  124.99          21.88  \n",
       "1 2018-01-18 20:58:32  289.00          46.48  "
      ]
     },
     "execution_count": 27,
     "metadata": {},
     "output_type": "execute_result"
    }
   ],
   "source": [
    "customer_status_and_items.head(2)"
   ]
  },
  {
   "cell_type": "markdown",
   "metadata": {},
   "source": [
    "#### кол-во уник. product_id - ид товара (аналог штрихкода)"
   ]
  },
  {
   "cell_type": "code",
   "execution_count": 85,
   "metadata": {},
   "outputs": [
    {
     "data": {
      "text/plain": [
       "32211"
      ]
     },
     "execution_count": 85,
     "metadata": {},
     "output_type": "execute_result"
    }
   ],
   "source": [
    "customer_status_and_items.product_id.nunique()"
   ]
  },
  {
   "cell_type": "markdown",
   "metadata": {},
   "source": [
    "####  "
   ]
  },
  {
   "cell_type": "code",
   "execution_count": 86,
   "metadata": {},
   "outputs": [],
   "source": [
    "#Сгрупируем таблицу #день, айди товара, количество покупок товара \n",
    "most_bought = customer_status_and_items.groupby(['day_name','product_id'],as_index=False).order_id.nunique()\n",
    "most_bought = pd.merge(most_bought, \n",
    "most_bought.groupby('product_id',as_index=False).order_id.max(),\n",
    "on='product_id').rename(columns={'order_id_x':'curr_day','order_id_y':'day_max'})\\\n",
    "    .sort_values(by='curr_day',ascending=False)\n",
    "#Товары не больше одного раза в день\n",
    "most_bought_all = most_bought[most_bought.day_max == 1]"
   ]
  },
  {
   "cell_type": "code",
   "execution_count": 87,
   "metadata": {},
   "outputs": [
    {
     "data": {
      "text/html": [
       "<div>\n",
       "<style scoped>\n",
       "    .dataframe tbody tr th:only-of-type {\n",
       "        vertical-align: middle;\n",
       "    }\n",
       "\n",
       "    .dataframe tbody tr th {\n",
       "        vertical-align: top;\n",
       "    }\n",
       "\n",
       "    .dataframe thead th {\n",
       "        text-align: right;\n",
       "    }\n",
       "</style>\n",
       "<table border=\"1\" class=\"dataframe\">\n",
       "  <thead>\n",
       "    <tr style=\"text-align: right;\">\n",
       "      <th></th>\n",
       "      <th>day_name</th>\n",
       "      <th>product_id</th>\n",
       "      <th>curr_day</th>\n",
       "      <th>day_max</th>\n",
       "    </tr>\n",
       "  </thead>\n",
       "  <tbody>\n",
       "    <tr>\n",
       "      <th>45897</th>\n",
       "      <td>Sunday</td>\n",
       "      <td>73dacc49330dc5cc9b1c1983c16200e7</td>\n",
       "      <td>1</td>\n",
       "      <td>1</td>\n",
       "    </tr>\n",
       "    <tr>\n",
       "      <th>36269</th>\n",
       "      <td>Monday</td>\n",
       "      <td>d90d7857e8369bf261bcbaeb9731b64e</td>\n",
       "      <td>1</td>\n",
       "      <td>1</td>\n",
       "    </tr>\n",
       "    <tr>\n",
       "      <th>36468</th>\n",
       "      <td>Monday</td>\n",
       "      <td>dcea90efda71f06e7a5eafd530c7ff8c</td>\n",
       "      <td>1</td>\n",
       "      <td>1</td>\n",
       "    </tr>\n",
       "  </tbody>\n",
       "</table>\n",
       "</div>"
      ],
      "text/plain": [
       "      day_name                        product_id  curr_day  day_max\n",
       "45897   Sunday  73dacc49330dc5cc9b1c1983c16200e7         1        1\n",
       "36269   Monday  d90d7857e8369bf261bcbaeb9731b64e         1        1\n",
       "36468   Monday  dcea90efda71f06e7a5eafd530c7ff8c         1        1"
      ]
     },
     "execution_count": 87,
     "metadata": {},
     "output_type": "execute_result"
    }
   ],
   "source": [
    "most_bought_all.head(3)"
   ]
  },
  {
   "cell_type": "markdown",
   "metadata": {},
   "source": [
    "#### Для товаров которые покупали больше одного раза в день найдем день недели с самым большим количеством продаж этого товара в среднем"
   ]
  },
  {
   "cell_type": "code",
   "execution_count": 88,
   "metadata": {},
   "outputs": [],
   "source": [
    "most_bought = most_bought[most_bought.curr_day > 1]\\\n",
    "    .groupby(['product_id','day_name'],as_index=False)\\\n",
    "    .agg({'curr_day':'sum'})\\\n",
    "    .groupby('product_id',as_index=False).day_name.max()"
   ]
  },
  {
   "cell_type": "code",
   "execution_count": 89,
   "metadata": {},
   "outputs": [
    {
     "data": {
      "text/html": [
       "<div>\n",
       "<style scoped>\n",
       "    .dataframe tbody tr th:only-of-type {\n",
       "        vertical-align: middle;\n",
       "    }\n",
       "\n",
       "    .dataframe tbody tr th {\n",
       "        vertical-align: top;\n",
       "    }\n",
       "\n",
       "    .dataframe thead th {\n",
       "        text-align: right;\n",
       "    }\n",
       "</style>\n",
       "<table border=\"1\" class=\"dataframe\">\n",
       "  <thead>\n",
       "    <tr style=\"text-align: right;\">\n",
       "      <th></th>\n",
       "      <th>product_id</th>\n",
       "      <th>day_name</th>\n",
       "    </tr>\n",
       "  </thead>\n",
       "  <tbody>\n",
       "    <tr>\n",
       "      <th>0</th>\n",
       "      <td>00126f27c813603687e6ce486d909d01</td>\n",
       "      <td>Sunday</td>\n",
       "    </tr>\n",
       "    <tr>\n",
       "      <th>1</th>\n",
       "      <td>001795ec6f1b187d37335e1c4704762e</td>\n",
       "      <td>Saturday</td>\n",
       "    </tr>\n",
       "    <tr>\n",
       "      <th>2</th>\n",
       "      <td>001b72dfd63e9833e8c02742adf472e3</td>\n",
       "      <td>Wednesday</td>\n",
       "    </tr>\n",
       "  </tbody>\n",
       "</table>\n",
       "</div>"
      ],
      "text/plain": [
       "                         product_id   day_name\n",
       "0  00126f27c813603687e6ce486d909d01     Sunday\n",
       "1  001795ec6f1b187d37335e1c4704762e   Saturday\n",
       "2  001b72dfd63e9833e8c02742adf472e3  Wednesday"
      ]
     },
     "execution_count": 89,
     "metadata": {},
     "output_type": "execute_result"
    }
   ],
   "source": [
    "most_bought.head(3)"
   ]
  },
  {
   "cell_type": "code",
   "execution_count": 90,
   "metadata": {},
   "outputs": [],
   "source": [
    "#объединим таблицы\n",
    "most_bought_total = pd.concat([most_bought_all.groupby('product_id',as_index=False).day_name.max(),\n",
    "           most_bought])"
   ]
  },
  {
   "cell_type": "code",
   "execution_count": 91,
   "metadata": {},
   "outputs": [
    {
     "data": {
      "text/html": [
       "<div>\n",
       "<style scoped>\n",
       "    .dataframe tbody tr th:only-of-type {\n",
       "        vertical-align: middle;\n",
       "    }\n",
       "\n",
       "    .dataframe tbody tr th {\n",
       "        vertical-align: top;\n",
       "    }\n",
       "\n",
       "    .dataframe thead th {\n",
       "        text-align: right;\n",
       "    }\n",
       "</style>\n",
       "<table border=\"1\" class=\"dataframe\">\n",
       "  <thead>\n",
       "    <tr style=\"text-align: right;\">\n",
       "      <th></th>\n",
       "      <th>product_id</th>\n",
       "      <th>day_name</th>\n",
       "    </tr>\n",
       "  </thead>\n",
       "  <tbody>\n",
       "    <tr>\n",
       "      <th>0</th>\n",
       "      <td>00066f42aeeb9f3007548bb9d3f33c38</td>\n",
       "      <td>Sunday</td>\n",
       "    </tr>\n",
       "    <tr>\n",
       "      <th>1</th>\n",
       "      <td>00088930e925c41fd95ebfe695fd2655</td>\n",
       "      <td>Tuesday</td>\n",
       "    </tr>\n",
       "    <tr>\n",
       "      <th>2</th>\n",
       "      <td>0009406fd7479715e4bef61dd91f2462</td>\n",
       "      <td>Thursday</td>\n",
       "    </tr>\n",
       "  </tbody>\n",
       "</table>\n",
       "</div>"
      ],
      "text/plain": [
       "                         product_id  day_name\n",
       "0  00066f42aeeb9f3007548bb9d3f33c38    Sunday\n",
       "1  00088930e925c41fd95ebfe695fd2655   Tuesday\n",
       "2  0009406fd7479715e4bef61dd91f2462  Thursday"
      ]
     },
     "execution_count": 91,
     "metadata": {},
     "output_type": "execute_result"
    }
   ],
   "source": [
    "most_bought_total.head(3)"
   ]
  },
  {
   "cell_type": "code",
   "execution_count": 92,
   "metadata": {},
   "outputs": [
    {
     "data": {
      "text/plain": [
       "(32211, 32211)"
      ]
     },
     "execution_count": 92,
     "metadata": {},
     "output_type": "execute_result"
    }
   ],
   "source": [
    "#проверка, посмотрим количество уникальных product_id в изначальном датафрейме и в нашем\n",
    "customer_status_and_items.product_id.nunique(), most_bought_total.product_id.nunique()"
   ]
  },
  {
   "cell_type": "code",
   "execution_count": 93,
   "metadata": {},
   "outputs": [
    {
     "data": {
      "text/plain": [
       "<matplotlib.axes._subplots.AxesSubplot at 0x7fef3a0167f0>"
      ]
     },
     "execution_count": 93,
     "metadata": {},
     "output_type": "execute_result"
    },
    {
     "data": {
      "image/png": "[encoded data removed]",
      "text/plain": [
       "<Figure size 1152x432 with 1 Axes>"
      ]
     },
     "metadata": {},
     "output_type": "display_data"
    }
   ],
   "source": [
    "#статистика\n",
    "plt.figure(figsize=(16,6))\n",
    "sns.set_style(style='whitegrid')\n",
    "sns.countplot(y=most_bought_total.day_name, palette='summer')"
   ]
  },
  {
   "cell_type": "markdown",
   "metadata": {},
   "source": [
    "#   "
   ]
  },
  {
   "cell_type": "markdown",
   "metadata": {},
   "source": [
    " "
   ]
  },
  {
   "cell_type": "markdown",
   "metadata": {},
   "source": [
    "### 4. Найдем сколько у каждого из пользователей в среднем покупок в неделю (за 7 дней) по месяцам."
   ]
  },
  {
   "cell_type": "code",
   "execution_count": 94,
   "metadata": {},
   "outputs": [],
   "source": [
    "df = customer_status"
   ]
  },
  {
   "cell_type": "code",
   "execution_count": 95,
   "metadata": {},
   "outputs": [],
   "source": [
    "#создадим колонку с количеством дней в месяце\n",
    "df['days_in_month'] = df.order_purchase_timestamp.dt.days_in_month"
   ]
  },
  {
   "cell_type": "code",
   "execution_count": 96,
   "metadata": {},
   "outputs": [],
   "source": [
    "df = customer_status[['days_in_month',\n",
    "                      'customer_unique_id',\n",
    "                      'order_id',\n",
    "                      'order_created_month']] \\\n",
    "        .groupby(['days_in_month',\n",
    "                  'order_created_month',\n",
    "                  'customer_unique_id']) \\\n",
    "        .agg({'order_id':'nunique'}) \\\n",
    "        .sort_values('order_created_month').reset_index()"
   ]
  },
  {
   "cell_type": "code",
   "execution_count": 97,
   "metadata": {},
   "outputs": [],
   "source": [
    "#получаем среднее в день * на 7 дней\n",
    "df['purchase_per_week'] = (df.order_id/df.days_in_month)*7"
   ]
  },
  {
   "cell_type": "code",
   "execution_count": 98,
   "metadata": {},
   "outputs": [
    {
     "data": {
      "text/html": [
       "<div>\n",
       "<style scoped>\n",
       "    .dataframe tbody tr th:only-of-type {\n",
       "        vertical-align: middle;\n",
       "    }\n",
       "\n",
       "    .dataframe tbody tr th {\n",
       "        vertical-align: top;\n",
       "    }\n",
       "\n",
       "    .dataframe thead th {\n",
       "        text-align: right;\n",
       "    }\n",
       "</style>\n",
       "<table border=\"1\" class=\"dataframe\">\n",
       "  <thead>\n",
       "    <tr style=\"text-align: right;\">\n",
       "      <th></th>\n",
       "      <th>days_in_month</th>\n",
       "      <th>order_created_month</th>\n",
       "      <th>customer_unique_id</th>\n",
       "      <th>order_id</th>\n",
       "      <th>purchase_per_week</th>\n",
       "    </tr>\n",
       "  </thead>\n",
       "  <tbody>\n",
       "    <tr>\n",
       "      <th>0</th>\n",
       "      <td>30</td>\n",
       "      <td>2016-09</td>\n",
       "      <td>830d5b7aaa3b6f1e9ad63703bec97d23</td>\n",
       "      <td>1</td>\n",
       "      <td>0.233333</td>\n",
       "    </tr>\n",
       "    <tr>\n",
       "      <th>1</th>\n",
       "      <td>31</td>\n",
       "      <td>2016-10</td>\n",
       "      <td>0032c76b20340da25249092a268ce66c</td>\n",
       "      <td>1</td>\n",
       "      <td>0.225806</td>\n",
       "    </tr>\n",
       "    <tr>\n",
       "      <th>2</th>\n",
       "      <td>31</td>\n",
       "      <td>2016-10</td>\n",
       "      <td>a5afc2fc6cbdb37998250ef5c42eab15</td>\n",
       "      <td>1</td>\n",
       "      <td>0.225806</td>\n",
       "    </tr>\n",
       "  </tbody>\n",
       "</table>\n",
       "</div>"
      ],
      "text/plain": [
       "   days_in_month order_created_month                customer_unique_id  \\\n",
       "0             30             2016-09  830d5b7aaa3b6f1e9ad63703bec97d23   \n",
       "1             31             2016-10  0032c76b20340da25249092a268ce66c   \n",
       "2             31             2016-10  a5afc2fc6cbdb37998250ef5c42eab15   \n",
       "\n",
       "   order_id  purchase_per_week  \n",
       "0         1           0.233333  \n",
       "1         1           0.225806  \n",
       "2         1           0.225806  "
      ]
     },
     "execution_count": 98,
     "metadata": {},
     "output_type": "execute_result"
    }
   ],
   "source": [
    "df.head(3)"
   ]
  },
  {
   "cell_type": "code",
   "execution_count": 115,
   "metadata": {},
   "outputs": [
    {
     "data": {
      "text/plain": [
       "<matplotlib.axes._subplots.AxesSubplot at 0x7fef3859e630>"
      ]
     },
     "execution_count": 115,
     "metadata": {},
     "output_type": "execute_result"
    },
    {
     "data": {
      "image/png": "[encoded data removed]",
      "text/plain": [
       "<Figure size 1152x432 with 1 Axes>"
      ]
     },
     "metadata": {},
     "output_type": "display_data"
    }
   ],
   "source": [
    "plt.figure(figsize=(16,6))\n",
    "sns.set_style(style='whitegrid')\n",
    "sns.countplot(y=round(df.purchase_per_week,4), palette='summer')"
   ]
  },
  {
   "cell_type": "markdown",
   "metadata": {},
   "source": [
    "#    "
   ]
  },
  {
   "cell_type": "markdown",
   "metadata": {},
   "source": [
    "### 5. Используя pandas, проведём когортный анализ пользователей. В период с января по декабрь выявим когорту с самым высоким retention на 3й месяц."
   ]
  },
  {
   "cell_type": "code",
   "execution_count": 118,
   "metadata": {},
   "outputs": [
    {
     "data": {
      "text/plain": [
       "2017-01     748\n",
       "2017-02    1641\n",
       "2017-03    2546\n",
       "2017-04    2303\n",
       "2017-05    3545\n",
       "2017-06    3135\n",
       "2017-07    3872\n",
       "2017-08    4193\n",
       "2017-09    4150\n",
       "2017-10    4478\n",
       "2017-11    7288\n",
       "2017-12    5513\n",
       "Freq: M, Name: order_purchase_timestamp, dtype: int64"
      ]
     },
     "execution_count": 118,
     "metadata": {},
     "output_type": "execute_result"
    }
   ],
   "source": [
    "#всего покупок по месяцам\n",
    "customer_status[(customer_status.order_purchase_timestamp >= '2017-01')&\n",
    "                (customer_status.order_purchase_timestamp < '2018-01')]\\\n",
    "    .set_index('order_purchase_timestamp').to_period(\"M\")\\\n",
    "    .index.value_counts().sort_index()"
   ]
  },
  {
   "cell_type": "markdown",
   "metadata": {},
   "source": [
    "#### Будем считат возвратом повторную покупку не раньше чем через 30 дней после первой"
   ]
  },
  {
   "cell_type": "code",
   "execution_count": 123,
   "metadata": {},
   "outputs": [],
   "source": [
    "def get_retention(customer_status):\n",
    "    ret= customer_status\\\n",
    "                .set_index('order_purchase_timestamp')\\\n",
    "                .to_period(\"d\")[['customer_unique_id','order_id']].reset_index()\n",
    "    #Устанавливаем 30 дневный порог, покупку после которого будем считать как возвращение\n",
    "    ret_30 = (ret\\\n",
    "            .groupby(['customer_unique_id'])\\\n",
    "            .order_purchase_timestamp.min()\\\n",
    "    +        pd.Timedelta('30 days')).reset_index()\n",
    "    #Объединим таблицы, переименуем столбцы, установим временные рамки\n",
    "    ret = pd.merge(ret,\n",
    "                   ret_30,\n",
    "                   on='customer_unique_id')\n",
    "    \n",
    "    ret.rename(columns={'order_purchase_timestamp_x':'purchase_date',\n",
    "                        'order_purchase_timestamp_y':'next_purch_limit'},\n",
    "                           inplace=True)\n",
    "    #установим временной отрезок \n",
    "    ret = ret[(ret.purchase_date >= '2017-01-01')\\\n",
    "              & (ret.purchase_date <= '2017-12-31')]\n",
    "    #Найдем первую дату покупки\n",
    "    first_buy = ret.groupby(['purchase_date',\n",
    "                              'customer_unique_id'], \n",
    "                             as_index=False).order_id.min()\n",
    "    #Найдем вторую дату покупки спустя 30 дней\n",
    "    #Группируем значения по customer_unique_id и берем первую строчку отсортированную по дате\n",
    "    second_buy =  ret[ret.purchase_date > ret.next_purch_limit]\\\n",
    "                    .groupby(['customer_unique_id'], \n",
    "                    as_index=False)[['customer_unique_id', 'purchase_date']].head(1)\n",
    "    #Объединим таблицы (так что бы в левой таблице остались все, даже те кто не вернулся), переименуем столбцы\n",
    "    ret = pd.merge(first_buy,second_buy, how='left', on='customer_unique_id')\n",
    "    ret.rename(columns={'purchase_date_x':'first_purchase_date',\n",
    "                        'purchase_date_y':'second_purchase_date'},inplace=True)\n",
    "    #Найдем дельту между нашими датами\n",
    "    delta =pd.to_timedelta(\\\n",
    "                            ret.groupby('customer_unique_id',as_index=False)\\\n",
    "                            .second_purchase_date.min()\\\n",
    "                            .second_purchase_date \n",
    "                            -\n",
    "                            ret.groupby('customer_unique_id',as_index=False)\\\n",
    "                            .first_purchase_date.min()\\\n",
    "                            .first_purchase_date\n",
    "                           ).dt.days\n",
    "    #Для пользователей которые не вернулись заполним пустые дельты 0\n",
    "    delta.fillna(0,inplace=True)\n",
    "    #Уберем все ненужные значения оставив только айди пользователя, дату первой покупки и через сколько дней произошла вторая покупка\n",
    "    ret = ret.groupby('customer_unique_id',as_index=False).first_purchase_date.min()\n",
    "    ret['delta'] = delta\n",
    "    ret['month'] = ret.first_purchase_date.dt.strftime('%Y-%m')\n",
    "    #поделим дельты на 30 дневные интервалы, целое и будет номером месяца возврата\n",
    "    ret['N_retention'] = (pd.to_timedelta(ret.delta,unit='d')/ np.timedelta64(1, \"M\")).astype('int64')\n",
    "    #сведем таблицу\n",
    "    reten_tab = ret.pivot_table(values='customer_unique_id', index='month',\n",
    "                         columns='N_retention', aggfunc=pd.Series.nunique)\n",
    "     #найдем 100% для каждой когорты, и посчитаем процентное соотношение\n",
    "    reten_tab[0] = reten_tab.sum(axis=1,skipna=True)\n",
    "    retention = reten_tab.div(reten_tab[0],axis=0)#.mul(100)\n",
    "    \n",
    "    return retention "
   ]
  },
  {
   "cell_type": "code",
   "execution_count": 124,
   "metadata": {},
   "outputs": [],
   "source": [
    "#стиль для таблицы\n",
    "def background_gradient(s, cmap='summer', low=0, high=0.5):\n",
    "    m=0.001\n",
    "    M=0.005\n",
    "    rng = M - m\n",
    "    norm = colors.Normalize(m - (rng * low), M + (rng * high))\n",
    "    normed = norm(s.values)\n",
    "    c = [colors.rgb2hex(x) for x in plt.cm.get_cmap(cmap)(normed)]\n",
    "    return ['background-color: %s' % color for color in c]"
   ]
  },
  {
   "cell_type": "code",
   "execution_count": 125,
   "metadata": {},
   "outputs": [
    {
     "name": "stderr",
     "output_type": "stream",
     "text": [
      "/opt/tljh/user/lib/python3.7/site-packages/pandas/core/series.py:4523: SettingWithCopyWarning: modifications to a property of a datetimelike object are not supported and are discarded. Change values on the original.\n",
      "  downcast=downcast,\n"
     ]
    },
    {
     "data": {
      "text/html": [
       "<style  type=\"text/css\" >\n",
       "#T_ec0a02aa_0fe0_11ed_bdbb_96000040dfb6row0_col0,#T_ec0a02aa_0fe0_11ed_bdbb_96000040dfb6row1_col0,#T_ec0a02aa_0fe0_11ed_bdbb_96000040dfb6row2_col0,#T_ec0a02aa_0fe0_11ed_bdbb_96000040dfb6row3_col0,#T_ec0a02aa_0fe0_11ed_bdbb_96000040dfb6row4_col0,#T_ec0a02aa_0fe0_11ed_bdbb_96000040dfb6row5_col0,#T_ec0a02aa_0fe0_11ed_bdbb_96000040dfb6row6_col0,#T_ec0a02aa_0fe0_11ed_bdbb_96000040dfb6row7_col0,#T_ec0a02aa_0fe0_11ed_bdbb_96000040dfb6row8_col0,#T_ec0a02aa_0fe0_11ed_bdbb_96000040dfb6row9_col0,#T_ec0a02aa_0fe0_11ed_bdbb_96000040dfb6row10_col0,#T_ec0a02aa_0fe0_11ed_bdbb_96000040dfb6row11_col0{\n",
       "            background-color:  #ffff66;\n",
       "        }#T_ec0a02aa_0fe0_11ed_bdbb_96000040dfb6row0_col1,#T_ec0a02aa_0fe0_11ed_bdbb_96000040dfb6row0_col3,#T_ec0a02aa_0fe0_11ed_bdbb_96000040dfb6row0_col6,#T_ec0a02aa_0fe0_11ed_bdbb_96000040dfb6row0_col7,#T_ec0a02aa_0fe0_11ed_bdbb_96000040dfb6row2_col1{\n",
       "            background-color:  #4ca666;\n",
       "        }#T_ec0a02aa_0fe0_11ed_bdbb_96000040dfb6row0_col2,#T_ec0a02aa_0fe0_11ed_bdbb_96000040dfb6row0_col8,#T_ec0a02aa_0fe0_11ed_bdbb_96000040dfb6row1_col10,#T_ec0a02aa_0fe0_11ed_bdbb_96000040dfb6row2_col10,#T_ec0a02aa_0fe0_11ed_bdbb_96000040dfb6row3_col9,#T_ec0a02aa_0fe0_11ed_bdbb_96000040dfb6row3_col10,#T_ec0a02aa_0fe0_11ed_bdbb_96000040dfb6row4_col7,#T_ec0a02aa_0fe0_11ed_bdbb_96000040dfb6row4_col8,#T_ec0a02aa_0fe0_11ed_bdbb_96000040dfb6row4_col9,#T_ec0a02aa_0fe0_11ed_bdbb_96000040dfb6row4_col10,#T_ec0a02aa_0fe0_11ed_bdbb_96000040dfb6row5_col7,#T_ec0a02aa_0fe0_11ed_bdbb_96000040dfb6row5_col8,#T_ec0a02aa_0fe0_11ed_bdbb_96000040dfb6row5_col9,#T_ec0a02aa_0fe0_11ed_bdbb_96000040dfb6row5_col10,#T_ec0a02aa_0fe0_11ed_bdbb_96000040dfb6row6_col6,#T_ec0a02aa_0fe0_11ed_bdbb_96000040dfb6row6_col7,#T_ec0a02aa_0fe0_11ed_bdbb_96000040dfb6row6_col8,#T_ec0a02aa_0fe0_11ed_bdbb_96000040dfb6row6_col9,#T_ec0a02aa_0fe0_11ed_bdbb_96000040dfb6row6_col10,#T_ec0a02aa_0fe0_11ed_bdbb_96000040dfb6row7_col5,#T_ec0a02aa_0fe0_11ed_bdbb_96000040dfb6row7_col6,#T_ec0a02aa_0fe0_11ed_bdbb_96000040dfb6row7_col7,#T_ec0a02aa_0fe0_11ed_bdbb_96000040dfb6row7_col8,#T_ec0a02aa_0fe0_11ed_bdbb_96000040dfb6row7_col9,#T_ec0a02aa_0fe0_11ed_bdbb_96000040dfb6row7_col10,#T_ec0a02aa_0fe0_11ed_bdbb_96000040dfb6row8_col4,#T_ec0a02aa_0fe0_11ed_bdbb_96000040dfb6row8_col5,#T_ec0a02aa_0fe0_11ed_bdbb_96000040dfb6row8_col6,#T_ec0a02aa_0fe0_11ed_bdbb_96000040dfb6row8_col7,#T_ec0a02aa_0fe0_11ed_bdbb_96000040dfb6row8_col8,#T_ec0a02aa_0fe0_11ed_bdbb_96000040dfb6row8_col9,#T_ec0a02aa_0fe0_11ed_bdbb_96000040dfb6row8_col10,#T_ec0a02aa_0fe0_11ed_bdbb_96000040dfb6row9_col3,#T_ec0a02aa_0fe0_11ed_bdbb_96000040dfb6row9_col4,#T_ec0a02aa_0fe0_11ed_bdbb_96000040dfb6row9_col5,#T_ec0a02aa_0fe0_11ed_bdbb_96000040dfb6row9_col6,#T_ec0a02aa_0fe0_11ed_bdbb_96000040dfb6row9_col7,#T_ec0a02aa_0fe0_11ed_bdbb_96000040dfb6row9_col8,#T_ec0a02aa_0fe0_11ed_bdbb_96000040dfb6row9_col9,#T_ec0a02aa_0fe0_11ed_bdbb_96000040dfb6row9_col10,#T_ec0a02aa_0fe0_11ed_bdbb_96000040dfb6row10_col2,#T_ec0a02aa_0fe0_11ed_bdbb_96000040dfb6row10_col3,#T_ec0a02aa_0fe0_11ed_bdbb_96000040dfb6row10_col4,#T_ec0a02aa_0fe0_11ed_bdbb_96000040dfb6row10_col5,#T_ec0a02aa_0fe0_11ed_bdbb_96000040dfb6row10_col6,#T_ec0a02aa_0fe0_11ed_bdbb_96000040dfb6row10_col7,#T_ec0a02aa_0fe0_11ed_bdbb_96000040dfb6row10_col8,#T_ec0a02aa_0fe0_11ed_bdbb_96000040dfb6row10_col9,#T_ec0a02aa_0fe0_11ed_bdbb_96000040dfb6row10_col10,#T_ec0a02aa_0fe0_11ed_bdbb_96000040dfb6row11_col1,#T_ec0a02aa_0fe0_11ed_bdbb_96000040dfb6row11_col2,#T_ec0a02aa_0fe0_11ed_bdbb_96000040dfb6row11_col3,#T_ec0a02aa_0fe0_11ed_bdbb_96000040dfb6row11_col4,#T_ec0a02aa_0fe0_11ed_bdbb_96000040dfb6row11_col5,#T_ec0a02aa_0fe0_11ed_bdbb_96000040dfb6row11_col6,#T_ec0a02aa_0fe0_11ed_bdbb_96000040dfb6row11_col7,#T_ec0a02aa_0fe0_11ed_bdbb_96000040dfb6row11_col8,#T_ec0a02aa_0fe0_11ed_bdbb_96000040dfb6row11_col9,#T_ec0a02aa_0fe0_11ed_bdbb_96000040dfb6row11_col10{\n",
       "            background-color:  #000000;\n",
       "            background-color:  white;\n",
       "        }#T_ec0a02aa_0fe0_11ed_bdbb_96000040dfb6row0_col4,#T_ec0a02aa_0fe0_11ed_bdbb_96000040dfb6row0_col5,#T_ec0a02aa_0fe0_11ed_bdbb_96000040dfb6row0_col9{\n",
       "            background-color:  #108866;\n",
       "        }#T_ec0a02aa_0fe0_11ed_bdbb_96000040dfb6row0_col10{\n",
       "            background-color:  #88c366;\n",
       "        }#T_ec0a02aa_0fe0_11ed_bdbb_96000040dfb6row1_col1,#T_ec0a02aa_0fe0_11ed_bdbb_96000040dfb6row1_col5,#T_ec0a02aa_0fe0_11ed_bdbb_96000040dfb6row1_col7{\n",
       "            background-color:  #0a8466;\n",
       "        }#T_ec0a02aa_0fe0_11ed_bdbb_96000040dfb6row1_col2{\n",
       "            background-color:  #249266;\n",
       "        }#T_ec0a02aa_0fe0_11ed_bdbb_96000040dfb6row1_col3,#T_ec0a02aa_0fe0_11ed_bdbb_96000040dfb6row3_col4{\n",
       "            background-color:  #59ac66;\n",
       "        }#T_ec0a02aa_0fe0_11ed_bdbb_96000040dfb6row1_col4,#T_ec0a02aa_0fe0_11ed_bdbb_96000040dfb6row1_col6,#T_ec0a02aa_0fe0_11ed_bdbb_96000040dfb6row1_col9{\n",
       "            background-color:  #3e9e66;\n",
       "        }#T_ec0a02aa_0fe0_11ed_bdbb_96000040dfb6row1_col8,#T_ec0a02aa_0fe0_11ed_bdbb_96000040dfb6row2_col9,#T_ec0a02aa_0fe0_11ed_bdbb_96000040dfb6row3_col3,#T_ec0a02aa_0fe0_11ed_bdbb_96000040dfb6row6_col5,#T_ec0a02aa_0fe0_11ed_bdbb_96000040dfb6row8_col3,#T_ec0a02aa_0fe0_11ed_bdbb_96000040dfb6row9_col2{\n",
       "            background-color:  #008066;\n",
       "        }#T_ec0a02aa_0fe0_11ed_bdbb_96000040dfb6row2_col2{\n",
       "            background-color:  #b2d866;\n",
       "        }#T_ec0a02aa_0fe0_11ed_bdbb_96000040dfb6row2_col3{\n",
       "            background-color:  #6eb666;\n",
       "        }#T_ec0a02aa_0fe0_11ed_bdbb_96000040dfb6row2_col4,#T_ec0a02aa_0fe0_11ed_bdbb_96000040dfb6row2_col5{\n",
       "            background-color:  #088466;\n",
       "        }#T_ec0a02aa_0fe0_11ed_bdbb_96000040dfb6row2_col6,#T_ec0a02aa_0fe0_11ed_bdbb_96000040dfb6row6_col4{\n",
       "            background-color:  #5dae66;\n",
       "        }#T_ec0a02aa_0fe0_11ed_bdbb_96000040dfb6row2_col7,#T_ec0a02aa_0fe0_11ed_bdbb_96000040dfb6row6_col2{\n",
       "            background-color:  #3b9d66;\n",
       "        }#T_ec0a02aa_0fe0_11ed_bdbb_96000040dfb6row2_col8{\n",
       "            background-color:  #2a9466;\n",
       "        }#T_ec0a02aa_0fe0_11ed_bdbb_96000040dfb6row3_col1,#T_ec0a02aa_0fe0_11ed_bdbb_96000040dfb6row3_col5{\n",
       "            background-color:  #6cb666;\n",
       "        }#T_ec0a02aa_0fe0_11ed_bdbb_96000040dfb6row3_col2{\n",
       "            background-color:  #46a266;\n",
       "        }#T_ec0a02aa_0fe0_11ed_bdbb_96000040dfb6row3_col6{\n",
       "            background-color:  #339966;\n",
       "        }#T_ec0a02aa_0fe0_11ed_bdbb_96000040dfb6row3_col7{\n",
       "            background-color:  #7fbf66;\n",
       "        }#T_ec0a02aa_0fe0_11ed_bdbb_96000040dfb6row3_col8{\n",
       "            background-color:  #0e8666;\n",
       "        }#T_ec0a02aa_0fe0_11ed_bdbb_96000040dfb6row4_col1{\n",
       "            background-color:  #82c066;\n",
       "        }#T_ec0a02aa_0fe0_11ed_bdbb_96000040dfb6row4_col2,#T_ec0a02aa_0fe0_11ed_bdbb_96000040dfb6row4_col5{\n",
       "            background-color:  #51a866;\n",
       "        }#T_ec0a02aa_0fe0_11ed_bdbb_96000040dfb6row4_col3{\n",
       "            background-color:  #1f8f66;\n",
       "        }#T_ec0a02aa_0fe0_11ed_bdbb_96000040dfb6row4_col4{\n",
       "            background-color:  #76bb66;\n",
       "        }#T_ec0a02aa_0fe0_11ed_bdbb_96000040dfb6row4_col6,#T_ec0a02aa_0fe0_11ed_bdbb_96000040dfb6row6_col1{\n",
       "            background-color:  #69b466;\n",
       "        }#T_ec0a02aa_0fe0_11ed_bdbb_96000040dfb6row5_col1{\n",
       "            background-color:  #7dbe66;\n",
       "        }#T_ec0a02aa_0fe0_11ed_bdbb_96000040dfb6row5_col2{\n",
       "            background-color:  #8bc566;\n",
       "        }#T_ec0a02aa_0fe0_11ed_bdbb_96000040dfb6row5_col3{\n",
       "            background-color:  #53a966;\n",
       "        }#T_ec0a02aa_0fe0_11ed_bdbb_96000040dfb6row5_col4,#T_ec0a02aa_0fe0_11ed_bdbb_96000040dfb6row5_col6{\n",
       "            background-color:  #0d8666;\n",
       "        }#T_ec0a02aa_0fe0_11ed_bdbb_96000040dfb6row5_col5{\n",
       "            background-color:  #b6db66;\n",
       "        }#T_ec0a02aa_0fe0_11ed_bdbb_96000040dfb6row6_col3{\n",
       "            background-color:  #309866;\n",
       "        }#T_ec0a02aa_0fe0_11ed_bdbb_96000040dfb6row7_col1{\n",
       "            background-color:  #dcee66;\n",
       "        }#T_ec0a02aa_0fe0_11ed_bdbb_96000040dfb6row7_col2{\n",
       "            background-color:  #49a466;\n",
       "        }#T_ec0a02aa_0fe0_11ed_bdbb_96000040dfb6row7_col3{\n",
       "            background-color:  #68b366;\n",
       "        }#T_ec0a02aa_0fe0_11ed_bdbb_96000040dfb6row7_col4{\n",
       "            background-color:  #098466;\n",
       "        }#T_ec0a02aa_0fe0_11ed_bdbb_96000040dfb6row8_col1{\n",
       "            background-color:  #aad466;\n",
       "        }#T_ec0a02aa_0fe0_11ed_bdbb_96000040dfb6row8_col2{\n",
       "            background-color:  #95ca66;\n",
       "        }#T_ec0a02aa_0fe0_11ed_bdbb_96000040dfb6row9_col1{\n",
       "            background-color:  #d5ea66;\n",
       "        }#T_ec0a02aa_0fe0_11ed_bdbb_96000040dfb6row10_col1{\n",
       "            background-color:  #178b66;\n",
       "        }</style><table id=\"T_ec0a02aa_0fe0_11ed_bdbb_96000040dfb6\" ><thead>    <tr>        <th class=\"index_name level0\" >N_retention</th>        <th class=\"col_heading level0 col0\" >0</th>        <th class=\"col_heading level0 col1\" >1</th>        <th class=\"col_heading level0 col2\" >2</th>        <th class=\"col_heading level0 col3\" >3</th>        <th class=\"col_heading level0 col4\" >4</th>        <th class=\"col_heading level0 col5\" >5</th>        <th class=\"col_heading level0 col6\" >6</th>        <th class=\"col_heading level0 col7\" >7</th>        <th class=\"col_heading level0 col8\" >8</th>        <th class=\"col_heading level0 col9\" >9</th>        <th class=\"col_heading level0 col10\" >10</th>    </tr>    <tr>        <th class=\"index_name level0\" >month</th>        <th class=\"blank\" ></th>        <th class=\"blank\" ></th>        <th class=\"blank\" ></th>        <th class=\"blank\" ></th>        <th class=\"blank\" ></th>        <th class=\"blank\" ></th>        <th class=\"blank\" ></th>        <th class=\"blank\" ></th>        <th class=\"blank\" ></th>        <th class=\"blank\" ></th>        <th class=\"blank\" ></th>    </tr></thead><tbody>\n",
       "                <tr>\n",
       "                        <th id=\"T_ec0a02aa_0fe0_11ed_bdbb_96000040dfb6level0_row0\" class=\"row_heading level0 row0\" >2017-01</th>\n",
       "                        <td id=\"T_ec0a02aa_0fe0_11ed_bdbb_96000040dfb6row0_col0\" class=\"data row0 col0\" >100.00%</td>\n",
       "                        <td id=\"T_ec0a02aa_0fe0_11ed_bdbb_96000040dfb6row0_col1\" class=\"data row0 col1\" >0.28%</td>\n",
       "                        <td id=\"T_ec0a02aa_0fe0_11ed_bdbb_96000040dfb6row0_col2\" class=\"data row0 col2\" ></td>\n",
       "                        <td id=\"T_ec0a02aa_0fe0_11ed_bdbb_96000040dfb6row0_col3\" class=\"data row0 col3\" >0.28%</td>\n",
       "                        <td id=\"T_ec0a02aa_0fe0_11ed_bdbb_96000040dfb6row0_col4\" class=\"data row0 col4\" >0.14%</td>\n",
       "                        <td id=\"T_ec0a02aa_0fe0_11ed_bdbb_96000040dfb6row0_col5\" class=\"data row0 col5\" >0.14%</td>\n",
       "                        <td id=\"T_ec0a02aa_0fe0_11ed_bdbb_96000040dfb6row0_col6\" class=\"data row0 col6\" >0.28%</td>\n",
       "                        <td id=\"T_ec0a02aa_0fe0_11ed_bdbb_96000040dfb6row0_col7\" class=\"data row0 col7\" >0.28%</td>\n",
       "                        <td id=\"T_ec0a02aa_0fe0_11ed_bdbb_96000040dfb6row0_col8\" class=\"data row0 col8\" ></td>\n",
       "                        <td id=\"T_ec0a02aa_0fe0_11ed_bdbb_96000040dfb6row0_col9\" class=\"data row0 col9\" >0.14%</td>\n",
       "                        <td id=\"T_ec0a02aa_0fe0_11ed_bdbb_96000040dfb6row0_col10\" class=\"data row0 col10\" >0.42%</td>\n",
       "            </tr>\n",
       "            <tr>\n",
       "                        <th id=\"T_ec0a02aa_0fe0_11ed_bdbb_96000040dfb6level0_row1\" class=\"row_heading level0 row1\" >2017-02</th>\n",
       "                        <td id=\"T_ec0a02aa_0fe0_11ed_bdbb_96000040dfb6row1_col0\" class=\"data row1 col0\" >100.00%</td>\n",
       "                        <td id=\"T_ec0a02aa_0fe0_11ed_bdbb_96000040dfb6row1_col1\" class=\"data row1 col1\" >0.12%</td>\n",
       "                        <td id=\"T_ec0a02aa_0fe0_11ed_bdbb_96000040dfb6row1_col2\" class=\"data row1 col2\" >0.19%</td>\n",
       "                        <td id=\"T_ec0a02aa_0fe0_11ed_bdbb_96000040dfb6row1_col3\" class=\"data row1 col3\" >0.31%</td>\n",
       "                        <td id=\"T_ec0a02aa_0fe0_11ed_bdbb_96000040dfb6row1_col4\" class=\"data row1 col4\" >0.25%</td>\n",
       "                        <td id=\"T_ec0a02aa_0fe0_11ed_bdbb_96000040dfb6row1_col5\" class=\"data row1 col5\" >0.12%</td>\n",
       "                        <td id=\"T_ec0a02aa_0fe0_11ed_bdbb_96000040dfb6row1_col6\" class=\"data row1 col6\" >0.25%</td>\n",
       "                        <td id=\"T_ec0a02aa_0fe0_11ed_bdbb_96000040dfb6row1_col7\" class=\"data row1 col7\" >0.12%</td>\n",
       "                        <td id=\"T_ec0a02aa_0fe0_11ed_bdbb_96000040dfb6row1_col8\" class=\"data row1 col8\" >0.06%</td>\n",
       "                        <td id=\"T_ec0a02aa_0fe0_11ed_bdbb_96000040dfb6row1_col9\" class=\"data row1 col9\" >0.25%</td>\n",
       "                        <td id=\"T_ec0a02aa_0fe0_11ed_bdbb_96000040dfb6row1_col10\" class=\"data row1 col10\" ></td>\n",
       "            </tr>\n",
       "            <tr>\n",
       "                        <th id=\"T_ec0a02aa_0fe0_11ed_bdbb_96000040dfb6level0_row2\" class=\"row_heading level0 row2\" >2017-03</th>\n",
       "                        <td id=\"T_ec0a02aa_0fe0_11ed_bdbb_96000040dfb6row2_col0\" class=\"data row2 col0\" >100.00%</td>\n",
       "                        <td id=\"T_ec0a02aa_0fe0_11ed_bdbb_96000040dfb6row2_col1\" class=\"data row2 col1\" >0.28%</td>\n",
       "                        <td id=\"T_ec0a02aa_0fe0_11ed_bdbb_96000040dfb6row2_col2\" class=\"data row2 col2\" >0.52%</td>\n",
       "                        <td id=\"T_ec0a02aa_0fe0_11ed_bdbb_96000040dfb6row2_col3\" class=\"data row2 col3\" >0.36%</td>\n",
       "                        <td id=\"T_ec0a02aa_0fe0_11ed_bdbb_96000040dfb6row2_col4\" class=\"data row2 col4\" >0.12%</td>\n",
       "                        <td id=\"T_ec0a02aa_0fe0_11ed_bdbb_96000040dfb6row2_col5\" class=\"data row2 col5\" >0.12%</td>\n",
       "                        <td id=\"T_ec0a02aa_0fe0_11ed_bdbb_96000040dfb6row2_col6\" class=\"data row2 col6\" >0.32%</td>\n",
       "                        <td id=\"T_ec0a02aa_0fe0_11ed_bdbb_96000040dfb6row2_col7\" class=\"data row2 col7\" >0.24%</td>\n",
       "                        <td id=\"T_ec0a02aa_0fe0_11ed_bdbb_96000040dfb6row2_col8\" class=\"data row2 col8\" >0.20%</td>\n",
       "                        <td id=\"T_ec0a02aa_0fe0_11ed_bdbb_96000040dfb6row2_col9\" class=\"data row2 col9\" >0.04%</td>\n",
       "                        <td id=\"T_ec0a02aa_0fe0_11ed_bdbb_96000040dfb6row2_col10\" class=\"data row2 col10\" ></td>\n",
       "            </tr>\n",
       "            <tr>\n",
       "                        <th id=\"T_ec0a02aa_0fe0_11ed_bdbb_96000040dfb6level0_row3\" class=\"row_heading level0 row3\" >2017-04</th>\n",
       "                        <td id=\"T_ec0a02aa_0fe0_11ed_bdbb_96000040dfb6row3_col0\" class=\"data row3 col0\" >100.00%</td>\n",
       "                        <td id=\"T_ec0a02aa_0fe0_11ed_bdbb_96000040dfb6row3_col1\" class=\"data row3 col1\" >0.35%</td>\n",
       "                        <td id=\"T_ec0a02aa_0fe0_11ed_bdbb_96000040dfb6row3_col2\" class=\"data row3 col2\" >0.27%</td>\n",
       "                        <td id=\"T_ec0a02aa_0fe0_11ed_bdbb_96000040dfb6row3_col3\" class=\"data row3 col3\" >0.04%</td>\n",
       "                        <td id=\"T_ec0a02aa_0fe0_11ed_bdbb_96000040dfb6row3_col4\" class=\"data row3 col4\" >0.31%</td>\n",
       "                        <td id=\"T_ec0a02aa_0fe0_11ed_bdbb_96000040dfb6row3_col5\" class=\"data row3 col5\" >0.35%</td>\n",
       "                        <td id=\"T_ec0a02aa_0fe0_11ed_bdbb_96000040dfb6row3_col6\" class=\"data row3 col6\" >0.22%</td>\n",
       "                        <td id=\"T_ec0a02aa_0fe0_11ed_bdbb_96000040dfb6row3_col7\" class=\"data row3 col7\" >0.40%</td>\n",
       "                        <td id=\"T_ec0a02aa_0fe0_11ed_bdbb_96000040dfb6row3_col8\" class=\"data row3 col8\" >0.13%</td>\n",
       "                        <td id=\"T_ec0a02aa_0fe0_11ed_bdbb_96000040dfb6row3_col9\" class=\"data row3 col9\" ></td>\n",
       "                        <td id=\"T_ec0a02aa_0fe0_11ed_bdbb_96000040dfb6row3_col10\" class=\"data row3 col10\" ></td>\n",
       "            </tr>\n",
       "            <tr>\n",
       "                        <th id=\"T_ec0a02aa_0fe0_11ed_bdbb_96000040dfb6level0_row4\" class=\"row_heading level0 row4\" >2017-05</th>\n",
       "                        <td id=\"T_ec0a02aa_0fe0_11ed_bdbb_96000040dfb6row4_col0\" class=\"data row4 col0\" >100.00%</td>\n",
       "                        <td id=\"T_ec0a02aa_0fe0_11ed_bdbb_96000040dfb6row4_col1\" class=\"data row4 col1\" >0.41%</td>\n",
       "                        <td id=\"T_ec0a02aa_0fe0_11ed_bdbb_96000040dfb6row4_col2\" class=\"data row4 col2\" >0.29%</td>\n",
       "                        <td id=\"T_ec0a02aa_0fe0_11ed_bdbb_96000040dfb6row4_col3\" class=\"data row4 col3\" >0.17%</td>\n",
       "                        <td id=\"T_ec0a02aa_0fe0_11ed_bdbb_96000040dfb6row4_col4\" class=\"data row4 col4\" >0.38%</td>\n",
       "                        <td id=\"T_ec0a02aa_0fe0_11ed_bdbb_96000040dfb6row4_col5\" class=\"data row4 col5\" >0.29%</td>\n",
       "                        <td id=\"T_ec0a02aa_0fe0_11ed_bdbb_96000040dfb6row4_col6\" class=\"data row4 col6\" >0.35%</td>\n",
       "                        <td id=\"T_ec0a02aa_0fe0_11ed_bdbb_96000040dfb6row4_col7\" class=\"data row4 col7\" ></td>\n",
       "                        <td id=\"T_ec0a02aa_0fe0_11ed_bdbb_96000040dfb6row4_col8\" class=\"data row4 col8\" ></td>\n",
       "                        <td id=\"T_ec0a02aa_0fe0_11ed_bdbb_96000040dfb6row4_col9\" class=\"data row4 col9\" ></td>\n",
       "                        <td id=\"T_ec0a02aa_0fe0_11ed_bdbb_96000040dfb6row4_col10\" class=\"data row4 col10\" ></td>\n",
       "            </tr>\n",
       "            <tr>\n",
       "                        <th id=\"T_ec0a02aa_0fe0_11ed_bdbb_96000040dfb6level0_row5\" class=\"row_heading level0 row5\" >2017-06</th>\n",
       "                        <td id=\"T_ec0a02aa_0fe0_11ed_bdbb_96000040dfb6row5_col0\" class=\"data row5 col0\" >100.00%</td>\n",
       "                        <td id=\"T_ec0a02aa_0fe0_11ed_bdbb_96000040dfb6row5_col1\" class=\"data row5 col1\" >0.40%</td>\n",
       "                        <td id=\"T_ec0a02aa_0fe0_11ed_bdbb_96000040dfb6row5_col2\" class=\"data row5 col2\" >0.43%</td>\n",
       "                        <td id=\"T_ec0a02aa_0fe0_11ed_bdbb_96000040dfb6row5_col3\" class=\"data row5 col3\" >0.30%</td>\n",
       "                        <td id=\"T_ec0a02aa_0fe0_11ed_bdbb_96000040dfb6row5_col4\" class=\"data row5 col4\" >0.13%</td>\n",
       "                        <td id=\"T_ec0a02aa_0fe0_11ed_bdbb_96000040dfb6row5_col5\" class=\"data row5 col5\" >0.53%</td>\n",
       "                        <td id=\"T_ec0a02aa_0fe0_11ed_bdbb_96000040dfb6row5_col6\" class=\"data row5 col6\" >0.13%</td>\n",
       "                        <td id=\"T_ec0a02aa_0fe0_11ed_bdbb_96000040dfb6row5_col7\" class=\"data row5 col7\" ></td>\n",
       "                        <td id=\"T_ec0a02aa_0fe0_11ed_bdbb_96000040dfb6row5_col8\" class=\"data row5 col8\" ></td>\n",
       "                        <td id=\"T_ec0a02aa_0fe0_11ed_bdbb_96000040dfb6row5_col9\" class=\"data row5 col9\" ></td>\n",
       "                        <td id=\"T_ec0a02aa_0fe0_11ed_bdbb_96000040dfb6row5_col10\" class=\"data row5 col10\" ></td>\n",
       "            </tr>\n",
       "            <tr>\n",
       "                        <th id=\"T_ec0a02aa_0fe0_11ed_bdbb_96000040dfb6level0_row6\" class=\"row_heading level0 row6\" >2017-07</th>\n",
       "                        <td id=\"T_ec0a02aa_0fe0_11ed_bdbb_96000040dfb6row6_col0\" class=\"data row6 col0\" >100.00%</td>\n",
       "                        <td id=\"T_ec0a02aa_0fe0_11ed_bdbb_96000040dfb6row6_col1\" class=\"data row6 col1\" >0.35%</td>\n",
       "                        <td id=\"T_ec0a02aa_0fe0_11ed_bdbb_96000040dfb6row6_col2\" class=\"data row6 col2\" >0.24%</td>\n",
       "                        <td id=\"T_ec0a02aa_0fe0_11ed_bdbb_96000040dfb6row6_col3\" class=\"data row6 col3\" >0.21%</td>\n",
       "                        <td id=\"T_ec0a02aa_0fe0_11ed_bdbb_96000040dfb6row6_col4\" class=\"data row6 col4\" >0.32%</td>\n",
       "                        <td id=\"T_ec0a02aa_0fe0_11ed_bdbb_96000040dfb6row6_col5\" class=\"data row6 col5\" >0.08%</td>\n",
       "                        <td id=\"T_ec0a02aa_0fe0_11ed_bdbb_96000040dfb6row6_col6\" class=\"data row6 col6\" ></td>\n",
       "                        <td id=\"T_ec0a02aa_0fe0_11ed_bdbb_96000040dfb6row6_col7\" class=\"data row6 col7\" ></td>\n",
       "                        <td id=\"T_ec0a02aa_0fe0_11ed_bdbb_96000040dfb6row6_col8\" class=\"data row6 col8\" ></td>\n",
       "                        <td id=\"T_ec0a02aa_0fe0_11ed_bdbb_96000040dfb6row6_col9\" class=\"data row6 col9\" ></td>\n",
       "                        <td id=\"T_ec0a02aa_0fe0_11ed_bdbb_96000040dfb6row6_col10\" class=\"data row6 col10\" ></td>\n",
       "            </tr>\n",
       "            <tr>\n",
       "                        <th id=\"T_ec0a02aa_0fe0_11ed_bdbb_96000040dfb6level0_row7\" class=\"row_heading level0 row7\" >2017-08</th>\n",
       "                        <td id=\"T_ec0a02aa_0fe0_11ed_bdbb_96000040dfb6row7_col0\" class=\"data row7 col0\" >100.00%</td>\n",
       "                        <td id=\"T_ec0a02aa_0fe0_11ed_bdbb_96000040dfb6row7_col1\" class=\"data row7 col1\" >0.62%</td>\n",
       "                        <td id=\"T_ec0a02aa_0fe0_11ed_bdbb_96000040dfb6row7_col2\" class=\"data row7 col2\" >0.27%</td>\n",
       "                        <td id=\"T_ec0a02aa_0fe0_11ed_bdbb_96000040dfb6row7_col3\" class=\"data row7 col3\" >0.35%</td>\n",
       "                        <td id=\"T_ec0a02aa_0fe0_11ed_bdbb_96000040dfb6row7_col4\" class=\"data row7 col4\" >0.12%</td>\n",
       "                        <td id=\"T_ec0a02aa_0fe0_11ed_bdbb_96000040dfb6row7_col5\" class=\"data row7 col5\" ></td>\n",
       "                        <td id=\"T_ec0a02aa_0fe0_11ed_bdbb_96000040dfb6row7_col6\" class=\"data row7 col6\" ></td>\n",
       "                        <td id=\"T_ec0a02aa_0fe0_11ed_bdbb_96000040dfb6row7_col7\" class=\"data row7 col7\" ></td>\n",
       "                        <td id=\"T_ec0a02aa_0fe0_11ed_bdbb_96000040dfb6row7_col8\" class=\"data row7 col8\" ></td>\n",
       "                        <td id=\"T_ec0a02aa_0fe0_11ed_bdbb_96000040dfb6row7_col9\" class=\"data row7 col9\" ></td>\n",
       "                        <td id=\"T_ec0a02aa_0fe0_11ed_bdbb_96000040dfb6row7_col10\" class=\"data row7 col10\" ></td>\n",
       "            </tr>\n",
       "            <tr>\n",
       "                        <th id=\"T_ec0a02aa_0fe0_11ed_bdbb_96000040dfb6level0_row8\" class=\"row_heading level0 row8\" >2017-09</th>\n",
       "                        <td id=\"T_ec0a02aa_0fe0_11ed_bdbb_96000040dfb6row8_col0\" class=\"data row8 col0\" >100.00%</td>\n",
       "                        <td id=\"T_ec0a02aa_0fe0_11ed_bdbb_96000040dfb6row8_col1\" class=\"data row8 col1\" >0.50%</td>\n",
       "                        <td id=\"T_ec0a02aa_0fe0_11ed_bdbb_96000040dfb6row8_col2\" class=\"data row8 col2\" >0.45%</td>\n",
       "                        <td id=\"T_ec0a02aa_0fe0_11ed_bdbb_96000040dfb6row8_col3\" class=\"data row8 col3\" >0.10%</td>\n",
       "                        <td id=\"T_ec0a02aa_0fe0_11ed_bdbb_96000040dfb6row8_col4\" class=\"data row8 col4\" ></td>\n",
       "                        <td id=\"T_ec0a02aa_0fe0_11ed_bdbb_96000040dfb6row8_col5\" class=\"data row8 col5\" ></td>\n",
       "                        <td id=\"T_ec0a02aa_0fe0_11ed_bdbb_96000040dfb6row8_col6\" class=\"data row8 col6\" ></td>\n",
       "                        <td id=\"T_ec0a02aa_0fe0_11ed_bdbb_96000040dfb6row8_col7\" class=\"data row8 col7\" ></td>\n",
       "                        <td id=\"T_ec0a02aa_0fe0_11ed_bdbb_96000040dfb6row8_col8\" class=\"data row8 col8\" ></td>\n",
       "                        <td id=\"T_ec0a02aa_0fe0_11ed_bdbb_96000040dfb6row8_col9\" class=\"data row8 col9\" ></td>\n",
       "                        <td id=\"T_ec0a02aa_0fe0_11ed_bdbb_96000040dfb6row8_col10\" class=\"data row8 col10\" ></td>\n",
       "            </tr>\n",
       "            <tr>\n",
       "                        <th id=\"T_ec0a02aa_0fe0_11ed_bdbb_96000040dfb6level0_row9\" class=\"row_heading level0 row9\" >2017-10</th>\n",
       "                        <td id=\"T_ec0a02aa_0fe0_11ed_bdbb_96000040dfb6row9_col0\" class=\"data row9 col0\" >100.00%</td>\n",
       "                        <td id=\"T_ec0a02aa_0fe0_11ed_bdbb_96000040dfb6row9_col1\" class=\"data row9 col1\" >0.60%</td>\n",
       "                        <td id=\"T_ec0a02aa_0fe0_11ed_bdbb_96000040dfb6row9_col2\" class=\"data row9 col2\" >0.05%</td>\n",
       "                        <td id=\"T_ec0a02aa_0fe0_11ed_bdbb_96000040dfb6row9_col3\" class=\"data row9 col3\" ></td>\n",
       "                        <td id=\"T_ec0a02aa_0fe0_11ed_bdbb_96000040dfb6row9_col4\" class=\"data row9 col4\" ></td>\n",
       "                        <td id=\"T_ec0a02aa_0fe0_11ed_bdbb_96000040dfb6row9_col5\" class=\"data row9 col5\" ></td>\n",
       "                        <td id=\"T_ec0a02aa_0fe0_11ed_bdbb_96000040dfb6row9_col6\" class=\"data row9 col6\" ></td>\n",
       "                        <td id=\"T_ec0a02aa_0fe0_11ed_bdbb_96000040dfb6row9_col7\" class=\"data row9 col7\" ></td>\n",
       "                        <td id=\"T_ec0a02aa_0fe0_11ed_bdbb_96000040dfb6row9_col8\" class=\"data row9 col8\" ></td>\n",
       "                        <td id=\"T_ec0a02aa_0fe0_11ed_bdbb_96000040dfb6row9_col9\" class=\"data row9 col9\" ></td>\n",
       "                        <td id=\"T_ec0a02aa_0fe0_11ed_bdbb_96000040dfb6row9_col10\" class=\"data row9 col10\" ></td>\n",
       "            </tr>\n",
       "            <tr>\n",
       "                        <th id=\"T_ec0a02aa_0fe0_11ed_bdbb_96000040dfb6level0_row10\" class=\"row_heading level0 row10\" >2017-11</th>\n",
       "                        <td id=\"T_ec0a02aa_0fe0_11ed_bdbb_96000040dfb6row10_col0\" class=\"data row10 col0\" >100.00%</td>\n",
       "                        <td id=\"T_ec0a02aa_0fe0_11ed_bdbb_96000040dfb6row10_col1\" class=\"data row10 col1\" >0.16%</td>\n",
       "                        <td id=\"T_ec0a02aa_0fe0_11ed_bdbb_96000040dfb6row10_col2\" class=\"data row10 col2\" ></td>\n",
       "                        <td id=\"T_ec0a02aa_0fe0_11ed_bdbb_96000040dfb6row10_col3\" class=\"data row10 col3\" ></td>\n",
       "                        <td id=\"T_ec0a02aa_0fe0_11ed_bdbb_96000040dfb6row10_col4\" class=\"data row10 col4\" ></td>\n",
       "                        <td id=\"T_ec0a02aa_0fe0_11ed_bdbb_96000040dfb6row10_col5\" class=\"data row10 col5\" ></td>\n",
       "                        <td id=\"T_ec0a02aa_0fe0_11ed_bdbb_96000040dfb6row10_col6\" class=\"data row10 col6\" ></td>\n",
       "                        <td id=\"T_ec0a02aa_0fe0_11ed_bdbb_96000040dfb6row10_col7\" class=\"data row10 col7\" ></td>\n",
       "                        <td id=\"T_ec0a02aa_0fe0_11ed_bdbb_96000040dfb6row10_col8\" class=\"data row10 col8\" ></td>\n",
       "                        <td id=\"T_ec0a02aa_0fe0_11ed_bdbb_96000040dfb6row10_col9\" class=\"data row10 col9\" ></td>\n",
       "                        <td id=\"T_ec0a02aa_0fe0_11ed_bdbb_96000040dfb6row10_col10\" class=\"data row10 col10\" ></td>\n",
       "            </tr>\n",
       "            <tr>\n",
       "                        <th id=\"T_ec0a02aa_0fe0_11ed_bdbb_96000040dfb6level0_row11\" class=\"row_heading level0 row11\" >2017-12</th>\n",
       "                        <td id=\"T_ec0a02aa_0fe0_11ed_bdbb_96000040dfb6row11_col0\" class=\"data row11 col0\" >100.00%</td>\n",
       "                        <td id=\"T_ec0a02aa_0fe0_11ed_bdbb_96000040dfb6row11_col1\" class=\"data row11 col1\" ></td>\n",
       "                        <td id=\"T_ec0a02aa_0fe0_11ed_bdbb_96000040dfb6row11_col2\" class=\"data row11 col2\" ></td>\n",
       "                        <td id=\"T_ec0a02aa_0fe0_11ed_bdbb_96000040dfb6row11_col3\" class=\"data row11 col3\" ></td>\n",
       "                        <td id=\"T_ec0a02aa_0fe0_11ed_bdbb_96000040dfb6row11_col4\" class=\"data row11 col4\" ></td>\n",
       "                        <td id=\"T_ec0a02aa_0fe0_11ed_bdbb_96000040dfb6row11_col5\" class=\"data row11 col5\" ></td>\n",
       "                        <td id=\"T_ec0a02aa_0fe0_11ed_bdbb_96000040dfb6row11_col6\" class=\"data row11 col6\" ></td>\n",
       "                        <td id=\"T_ec0a02aa_0fe0_11ed_bdbb_96000040dfb6row11_col7\" class=\"data row11 col7\" ></td>\n",
       "                        <td id=\"T_ec0a02aa_0fe0_11ed_bdbb_96000040dfb6row11_col8\" class=\"data row11 col8\" ></td>\n",
       "                        <td id=\"T_ec0a02aa_0fe0_11ed_bdbb_96000040dfb6row11_col9\" class=\"data row11 col9\" ></td>\n",
       "                        <td id=\"T_ec0a02aa_0fe0_11ed_bdbb_96000040dfb6row11_col10\" class=\"data row11 col10\" ></td>\n",
       "            </tr>\n",
       "    </tbody></table>"
      ],
      "text/plain": [
       "<pandas.io.formats.style.Styler at 0x7fef385d6b70>"
      ]
     },
     "execution_count": 125,
     "metadata": {},
     "output_type": "execute_result"
    }
   ],
   "source": [
    "reten_tab = get_retention(customer_status)\n",
    "reten_tab.style.apply(background_gradient,cmap='summer')\\\n",
    "        .highlight_null('white')\\\n",
    "        .format(\"{:.2%}\", na_rep=\"\")"
   ]
  },
  {
   "cell_type": "code",
   "execution_count": 133,
   "metadata": {},
   "outputs": [
    {
     "data": {
      "text/plain": [
       "Text(0.5, 0, 'Cohort registration month of 2017')"
      ]
     },
     "execution_count": 133,
     "metadata": {},
     "output_type": "execute_result"
    },
    {
     "data": {
      "image/png": "[encoded data removed]",
      "text/plain": [
       "<Figure size 1152x432 with 1 Axes>"
      ]
     },
     "metadata": {},
     "output_type": "display_data"
    }
   ],
   "source": [
    "x = reten_tab[3].sort_values(ascending=False)\n",
    "plt.figure(figsize=(16,6))\n",
    "sns.set_style(style='whitegrid')\n",
    "sns.barplot(x=x.index, y= x, palette='summer')\n",
    "            \n",
    "plt.ylabel('3-th month retention')\n",
    "plt.xlabel('Cohort registration month of 2017')"
   ]
  },
  {
   "cell_type": "markdown",
   "metadata": {},
   "source": [
    "### Вывод: \n",
    "    Наибольшее значение удержания на 3-й месяц у когорты зарегистрировавшихся в 2017-03"
   ]
  },
  {
   "cell_type": "markdown",
   "metadata": {},
   "source": [
    "#   "
   ]
  },
  {
   "cell_type": "markdown",
   "metadata": {},
   "source": [
    "# RFM"
   ]
  },
  {
   "cell_type": "markdown",
   "metadata": {},
   "source": [
    "### 6 Часто для качественного анализа аудитории использую подходы, основанные на сегментации. \n",
    "    Используя python, построим RFM-сегментацию пользователей.  \n",
    "    Так как повторных заказов мало, будем считать за все время.\n",
    "    Для кластеризации выберем следующие метрики:    \n",
    "    \n",
    "    R - время от последней покупки пользователя до текущей даты,     \n",
    "    F - суммарное количество покупок у пользователя за всё время,    \n",
    "    M - сумма покупок за всё время.     \n",
    "    "
   ]
  },
  {
   "cell_type": "code",
   "execution_count": 13,
   "metadata": {},
   "outputs": [
    {
     "data": {
      "text/plain": [
       "delivered    96456\n",
       "Name: order_status, dtype: int64"
      ]
     },
     "execution_count": 13,
     "metadata": {},
     "output_type": "execute_result"
    }
   ],
   "source": [
    "customer_status.order_status.value_counts()"
   ]
  },
  {
   "cell_type": "markdown",
   "metadata": {},
   "source": [
    "### Подготовим данные "
   ]
  },
  {
   "cell_type": "code",
   "execution_count": 144,
   "metadata": {},
   "outputs": [
    {
     "data": {
      "text/plain": [
       "Timestamp('2018-08-30 15:00:37')"
      ]
     },
     "execution_count": 144,
     "metadata": {},
     "output_type": "execute_result"
    }
   ],
   "source": [
    "last_date = customer_status_and_items['order_purchase_timestamp'].max() + pd.to_timedelta('1 day')\n",
    "last_date"
   ]
  },
  {
   "cell_type": "code",
   "execution_count": 143,
   "metadata": {},
   "outputs": [],
   "source": [
    "rfm = customer_status_and_items.groupby('customer_unique_id', as_index=False) \\\n",
    "                          .agg({'order_purchase_timestamp'    : lambda x: (last_date - x.max()).days,\n",
    "                                'customer_id'    : 'count' , \n",
    "                                'price': 'sum'})\n",
    "\n",
    "rfm.rename(columns={'order_purchase_timestamp'  : 'recency', \n",
    "                    'customer_id'    : 'frequency', \n",
    "                    'price': 'monetary'}, inplace=True)"
   ]
  },
  {
   "cell_type": "code",
   "execution_count": 145,
   "metadata": {},
   "outputs": [
    {
     "data": {
      "text/html": [
       "<div>\n",
       "<style scoped>\n",
       "    .dataframe tbody tr th:only-of-type {\n",
       "        vertical-align: middle;\n",
       "    }\n",
       "\n",
       "    .dataframe tbody tr th {\n",
       "        vertical-align: top;\n",
       "    }\n",
       "\n",
       "    .dataframe thead th {\n",
       "        text-align: right;\n",
       "    }\n",
       "</style>\n",
       "<table border=\"1\" class=\"dataframe\">\n",
       "  <thead>\n",
       "    <tr style=\"text-align: right;\">\n",
       "      <th></th>\n",
       "      <th>customer_unique_id</th>\n",
       "      <th>recency</th>\n",
       "      <th>frequency</th>\n",
       "      <th>monetary</th>\n",
       "    </tr>\n",
       "  </thead>\n",
       "  <tbody>\n",
       "    <tr>\n",
       "      <th>0</th>\n",
       "      <td>0000366f3b9a7992bf8c76cfdf3221e2</td>\n",
       "      <td>112</td>\n",
       "      <td>1</td>\n",
       "      <td>129.9</td>\n",
       "    </tr>\n",
       "    <tr>\n",
       "      <th>1</th>\n",
       "      <td>0000b849f77a49e4a4ce2b2a4ca5be3f</td>\n",
       "      <td>115</td>\n",
       "      <td>1</td>\n",
       "      <td>18.9</td>\n",
       "    </tr>\n",
       "    <tr>\n",
       "      <th>2</th>\n",
       "      <td>0000f46a3911fa3c0805444483337064</td>\n",
       "      <td>537</td>\n",
       "      <td>1</td>\n",
       "      <td>69.0</td>\n",
       "    </tr>\n",
       "  </tbody>\n",
       "</table>\n",
       "</div>"
      ],
      "text/plain": [
       "                 customer_unique_id  recency  frequency  monetary\n",
       "0  0000366f3b9a7992bf8c76cfdf3221e2      112          1     129.9\n",
       "1  0000b849f77a49e4a4ce2b2a4ca5be3f      115          1      18.9\n",
       "2  0000f46a3911fa3c0805444483337064      537          1      69.0"
      ]
     },
     "execution_count": 145,
     "metadata": {},
     "output_type": "execute_result"
    }
   ],
   "source": [
    "rfm.head(3)"
   ]
  },
  {
   "cell_type": "markdown",
   "metadata": {},
   "source": [
    "#### Поделим наши данные по квартилям на 4 группы:"
   ]
  },
  {
   "cell_type": "markdown",
   "metadata": {},
   "source": [
    "RFM -  4 = хророшо, 1 = плохо \n",
    "* recency (давность последней покупки)\n",
    "* frequency (частота)\n",
    "* monetary (как много тратит в месяц)"
   ]
  },
  {
   "cell_type": "code",
   "execution_count": 146,
   "metadata": {},
   "outputs": [
    {
     "data": {
      "text/plain": [
       "{'recency': {0.25: 114.0, 0.5: 219.0, 0.75: 346.0, 1.0: 714.0},\n",
       " 'frequency': {0.25: 1.0, 0.5: 1.0, 0.75: 1.0, 1.0: 24.0},\n",
       " 'monetary': {0.25: 47.65, 0.5: 89.7, 0.75: 154.70000000000002, 1.0: 13440.0}}"
      ]
     },
     "execution_count": 146,
     "metadata": {},
     "output_type": "execute_result"
    }
   ],
   "source": [
    "quintiles = rfm[['recency', 'frequency', 'monetary']].quantile([.25, .50, .75, 1]).to_dict()\n",
    "quintiles"
   ]
  },
  {
   "cell_type": "code",
   "execution_count": 147,
   "metadata": {},
   "outputs": [],
   "source": [
    "def r_score(x):\n",
    "    if x <= quintiles['recency'][.25]:\n",
    "        return 4\n",
    "    elif x <= quintiles['recency'][.5]:\n",
    "        return 3\n",
    "    elif x <= quintiles['recency'][.75]:\n",
    "        return 2\n",
    "    else:\n",
    "        return 1\n",
    "\n",
    "def fm_score(x, c):\n",
    "    if x <= quintiles[c][.25]:\n",
    "        return 1\n",
    "    elif x <= quintiles[c][.5]:\n",
    "        return 2\n",
    "    elif x <= quintiles[c][.75]:\n",
    "        return 3\n",
    "    else:\n",
    "        return 4 "
   ]
  },
  {
   "cell_type": "code",
   "execution_count": 148,
   "metadata": {},
   "outputs": [],
   "source": [
    "rfm['R'] = rfm['recency'].apply(lambda x: r_score(x))\n",
    "rfm['F'] = rfm['frequency'].apply(lambda x: fm_score(x, 'frequency'))\n",
    "rfm['M'] = rfm['monetary'].apply(lambda x: fm_score(x, 'monetary'))"
   ]
  },
  {
   "cell_type": "code",
   "execution_count": 149,
   "metadata": {},
   "outputs": [],
   "source": [
    "rfm['RFM_score'] = rfm.R.map(str) + rfm.F.map(str) + rfm.M.map(str)"
   ]
  },
  {
   "cell_type": "code",
   "execution_count": 150,
   "metadata": {
    "scrolled": true
   },
   "outputs": [
    {
     "data": {
      "text/plain": [
       "<matplotlib.axes._subplots.AxesSubplot at 0x7fef85ee9e80>"
      ]
     },
     "execution_count": 150,
     "metadata": {},
     "output_type": "execute_result"
    },
    {
     "data": {
      "image/png": "[encoded data removed]",
      "text/plain": [
       "<Figure size 1152x216 with 3 Axes>"
      ]
     },
     "metadata": {},
     "output_type": "display_data"
    }
   ],
   "source": [
    "f, ax=plt.subplots(1,3,figsize=(16, 3))\n",
    "rfm.R.value_counts().plot.pie(ax=ax[0])\n",
    "rfm.F.value_counts().plot.pie(ax=ax[1])\n",
    "rfm.M.value_counts().plot.pie(ax=ax[2])"
   ]
  },
  {
   "cell_type": "markdown",
   "metadata": {},
   "source": [
    "#### Так как повторных покупок слишком мало, frequency 1 - нет повторных покупок и 4 - есть повторные покупки"
   ]
  },
  {
   "cell_type": "code",
   "execution_count": 151,
   "metadata": {},
   "outputs": [
    {
     "data": {
      "text/plain": [
       "<matplotlib.axes._subplots.AxesSubplot at 0x7fef9843e160>"
      ]
     },
     "execution_count": 151,
     "metadata": {},
     "output_type": "execute_result"
    },
    {
     "data": {
      "image/png": "[encoded data removed]",
      "text/plain": [
       "<Figure size 1152x216 with 1 Axes>"
      ]
     },
     "metadata": {},
     "output_type": "display_data"
    }
   ],
   "source": [
    "plt.figure(figsize=(16, 3))\n",
    "rfm.RFM_score.value_counts(normalize=True).plot.bar()"
   ]
  },
  {
   "cell_type": "code",
   "execution_count": 164,
   "metadata": {},
   "outputs": [],
   "source": [
    "#rfm.describe()\n",
    "#rfm[rfm.M == 4]"
   ]
  },
  {
   "cell_type": "markdown",
   "metadata": {},
   "source": [
    "### Пример RFM сегментов:\n",
    "\n",
    "        RFM 111 (recency=1, frequency=1, monetary=1) имеет границы метрик recency от 346 до 714 дней,\n",
    "        frequency 1 заказ за все веремя, monetary до 47.65 у.е. за все время.\n",
    "        \n",
    "        RFM 444 (recency=4, frequency=4, monetary=4) имеет границы метрик recency не позже 114 дней назад,\n",
    "        frequency больше 1-го заказа за все веремя, monetary от 154.7 у.е. за все время."
   ]
  },
  {
   "cell_type": "code",
   "execution_count": null,
   "metadata": {},
   "outputs": [],
   "source": []
  }
 ],
 "metadata": {
  "kernelspec": {
   "display_name": "Python 3",
   "language": "python",
   "name": "python3"
  },
  "language_info": {
   "codemirror_mode": {
    "name": "ipython",
    "version": 3
   },
   "file_extension": ".py",
   "mimetype": "text/x-python",
   "name": "python",
   "nbconvert_exporter": "python",
   "pygments_lexer": "ipython3",
   "version": "3.7.3"
  }
 },
 "nbformat": 4,
 "nbformat_minor": 4
}
