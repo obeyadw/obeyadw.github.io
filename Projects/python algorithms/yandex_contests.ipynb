{
 "cells": [
  {
   "cell_type": "code",
   "execution_count": null,
   "id": "59a0b155",
   "metadata": {},
   "outputs": [],
   "source": [
    "def get_card_count(n, k, cards) -> int:\n",
    "    # your code goes here\n",
    "    return 0\n",
    "\n",
    "\n",
    "n = int(input())\n",
    "k = int(input())\n",
    "cards = list(map(int, input().split()))\n",
    "\n",
    "print(get_card_count(n, k, cards))"
   ]
  },
  {
   "cell_type": "code",
   "execution_count": 20,
   "id": "20716dd9",
   "metadata": {},
   "outputs": [
    {
     "name": "stdout",
     "output_type": "stream",
     "text": [
      "15\n"
     ]
    }
   ],
   "source": [
    "with open('input.txt') as f:\n",
    "    lines = f.readlines()\n",
    "    \n",
    "n = int(lines[0].split()[0])\n",
    "a = int(lines[1].split()[0])\n",
    "b = list(map(int, lines[2].strip().split()))\n",
    "\n",
    "cnt=[]\n",
    "l = 0\n",
    "r = -1\n",
    "for i in range(a+1):\n",
    "    r = i - a\n",
    "    cnt1 = []\n",
    "\n",
    "    for n in range(a):\n",
    "        cnt1.append(b[r+n])\n",
    "    cnt.append(sum(cnt1))  \n",
    "\n",
    "print(max(cnt))"
   ]
  },
  {
   "cell_type": "markdown",
   "id": "024ef05e",
   "metadata": {},
   "source": [
    "C. Статус 200"
   ]
  },
  {
   "cell_type": "code",
   "execution_count": 96,
   "id": "c769ed58",
   "metadata": {},
   "outputs": [
    {
     "name": "stdout",
     "output_type": "stream",
     "text": [
      "4495501\n",
      "CPU times: total: 2.7 s\n",
      "Wall time: 2.72 s\n"
     ]
    }
   ],
   "source": [
    "%%time\n",
    "\n",
    "def get_number_of_good_pairs(numbers) -> int:\n",
    "    cnt = 0\n",
    "    for i in range(n):\n",
    "        #for j in range(i+1, n):\n",
    "        j = i+1\n",
    "        while i<j and j < n-1:\n",
    "            j+=1\n",
    "            if (numbers[i]-numbers[j])%200 == 0: \n",
    "                cnt+=1\n",
    "\n",
    "    return cnt\n",
    "\n",
    "\n",
    "\n",
    "with open('input.txt') as f:\n",
    "    lines = f.readlines()\n",
    "    \n",
    "n = int(lines[0].split()[0])\n",
    "numbers = list(map(int, lines[1].strip().split()))\n",
    "\n",
    "print(get_number_of_good_pairs(numbers))"
   ]
  },
  {
   "cell_type": "markdown",
   "id": "2dc85ed0",
   "metadata": {},
   "source": [
    "https://contest.yandex.ru/contest/28738/problems/"
   ]
  },
  {
   "cell_type": "code",
   "execution_count": 141,
   "id": "fa568fa7",
   "metadata": {},
   "outputs": [
    {
     "name": "stdout",
     "output_type": "stream",
     "text": [
      "2\n"
     ]
    }
   ],
   "source": [
    "with open('input.txt') as f:\n",
    "    lines = f.readlines()\n",
    "    \n",
    "i=0   \n",
    "max_sym = int(lines[0].split()[0]) \n",
    "cnt = 0\n",
    "n = int(lines[0].split()[0]) \n",
    "\n",
    "while n != 0:\n",
    "    n = int(lines[i].split()[0])\n",
    "    i+=1\n",
    "    if n > max_sym:\n",
    "        max_sym = n\n",
    "        cnt = 1\n",
    "        \n",
    "    elif n == max_sym:\n",
    "        cnt+=1\n",
    "print(cnt)      "
   ]
  },
  {
   "cell_type": "code",
   "execution_count": null,
   "id": "66ae163a",
   "metadata": {},
   "outputs": [],
   "source": [
    "https://contest.yandex.ru/contest/28738/problems/B/"
   ]
  },
  {
   "cell_type": "code",
   "execution_count": 1,
   "id": "c3a36422",
   "metadata": {},
   "outputs": [
    {
     "name": "stdout",
     "output_type": "stream",
     "text": [
      "1\n",
      "CPU times: total: 0 ns\n",
      "Wall time: 4 ms\n"
     ]
    }
   ],
   "source": [
    "%%time\n",
    "with open('input.txt') as f:\n",
    "    lines = f.readlines()\n",
    "arr = list(map(int, lines[0].split()))\n",
    "\n",
    "cnt = 1000\n",
    "first_shop = 0\n",
    "\n",
    "left_shop_range = []\n",
    "right_shop_range = []\n",
    "\n",
    "for i in range(len(arr)):\n",
    "    if first_shop == 1:\n",
    "        cnt+=1\n",
    "        \n",
    "    if arr[i] == 2:\n",
    "        cnt=0\n",
    "        first_shop = 1\n",
    "        \n",
    "    elif arr[i] == 1:\n",
    "        left_shop_range.append(cnt)\n",
    "  \n",
    "first_left_shop = 0\n",
    "for i in range(len(arr))[::-1]:\n",
    "    if first_shop == 1:\n",
    "        cnt+=1\n",
    "        \n",
    "    if arr[i] == 2:\n",
    "        cnt=0\n",
    "        first_shop = 1\n",
    "        \n",
    "    elif arr[i] == 1:\n",
    "        right_shop_range.append(cnt) \n",
    "        \n",
    "closer_shop = []\n",
    "for a,b in zip(left_shop_range,right_shop_range[::-1]):\n",
    "    closer_shop.append(min(a,b))\n",
    "    \n",
    "print(max(closer_shop))"
   ]
  },
  {
   "cell_type": "markdown",
   "id": "cc57f672",
   "metadata": {},
   "source": [
    "https://contest.yandex.ru/contest/27472/problems/F/?success=69581623#175943/2016_10_12/2zl6DHuQj0"
   ]
  },
  {
   "cell_type": "code",
   "execution_count": 2,
   "id": "448ff3f3",
   "metadata": {},
   "outputs": [
    {
     "name": "stdout",
     "output_type": "stream",
     "text": [
      "1\n",
      "1\n"
     ]
    }
   ],
   "source": [
    "with open('input.txt') as f:\n",
    "    lines = f.readlines()\n",
    "arr = list(map(int, lines[0].split()))\n",
    "\n",
    "\n",
    "def slow(arr):\n",
    "    for start in range(len(arr)):\n",
    "        i = start\n",
    "        j = len(arr) - 1\n",
    "        while i < len(arr) and j>=0 and arr[i] == arr[j] and i <= j:\n",
    "            #print(arr[i] , arr[j])  \n",
    "            i += 1 \n",
    "            j -= 1\n",
    "\n",
    "\n",
    "            if i > j:\n",
    "                ans = []\n",
    "#                 for x in range(start -1, -1, -1):\n",
    "#                     print(x)\n",
    "#                     ans.append(arr[x])\n",
    "                ans = arr[:start]\n",
    "                #print(start)\n",
    "                return(ans)\n",
    "        \n",
    "            \n",
    "\n",
    "ans = slow(arr)\n",
    "print(len(ans))\n",
    "print(*ans[::-1])"
   ]
  },
  {
   "cell_type": "markdown",
   "id": "81eb5a8a",
   "metadata": {},
   "source": [
    "https://contest.yandex.ru/contest/28738/problems/C/"
   ]
  },
  {
   "cell_type": "code",
   "execution_count": 374,
   "id": "49fe437f",
   "metadata": {},
   "outputs": [
    {
     "name": "stdout",
     "output_type": "stream",
     "text": [
      "0 3\n",
      "c n\n",
      "0 c n False 0\n",
      "0 o g False 0\n",
      "0 2\n",
      "c g\n",
      "0 g g True 1\n",
      "0 1\n",
      "c o\n",
      "0 0\n",
      "c c\n",
      "1 3\n",
      "o n\n",
      "1 o n False 0\n",
      "1 g g True 1\n",
      "1 2\n",
      "o g\n",
      "1 1\n",
      "o o\n",
      "1 0\n",
      "o c\n",
      "2 3\n",
      "g n\n",
      "2 g n False 0\n",
      "2 2\n",
      "g g\n",
      "2 1\n",
      "g o\n",
      "2 0\n",
      "g c\n",
      "3 3\n",
      "n n\n",
      "3 n n True 1\n",
      "3 2\n",
      "n g\n",
      "3 1\n",
      "n o\n",
      "3 0\n",
      "n c\n"
     ]
    }
   ],
   "source": [
    "with open('input.txt') as f:\n",
    "    lines = f.readlines()\n",
    "arr = list(map(str, lines[0].split()[0]))\n",
    "\n",
    "for start in range(len(arr)):\n",
    "    i = start\n",
    "    \n",
    "    for last in range(len(arr))[::-1]:\n",
    "        j = last\n",
    "        cnt = 0\n",
    "\n",
    "        print(start,last)\n",
    "        print(arr[start],arr[last])\n",
    "              \n",
    "        while i < len(arr) and j >= 0 and i <= j:\n",
    "            if arr[i]==arr[j]:\n",
    "                cnt +=1\n",
    "                \n",
    "            print(start, arr[i],arr[j],arr[i]==arr[j], cnt)\n",
    "            i += 1 \n",
    "            j -= 1\n",
    "        "
   ]
  },
  {
   "cell_type": "code",
   "execution_count": null,
   "id": "8ddf1543",
   "metadata": {},
   "outputs": [],
   "source": []
  },
  {
   "cell_type": "markdown",
   "id": "00067245",
   "metadata": {},
   "source": [
    "https://contest.yandex.ru/contest/28738/problems/D/"
   ]
  },
  {
   "cell_type": "code",
   "execution_count": null,
   "id": "351011a1",
   "metadata": {},
   "outputs": [],
   "source": [
    "#692 µs ± 7.07 µs per loop (mean ± std. dev. of 7 runs, 1,000 loops each)"
   ]
  },
  {
   "cell_type": "code",
   "execution_count": 181,
   "id": "fd93d4ca",
   "metadata": {},
   "outputs": [
    {
     "name": "stdout",
     "output_type": "stream",
     "text": [
      "42 45\n"
     ]
    }
   ],
   "source": [
    "with open('input.txt') as f:\n",
    "    lines = f.readlines()\n",
    "l, n = list(map(int, lines[0].split()))\n",
    "blocks = list(map(int, lines[1].split()))\n",
    "\n",
    "one_block = -1\n",
    "true_mean = l/2\n",
    "\n",
    "if l % 2 == 0:\n",
    "    l = (l / 2) \n",
    "    \n",
    "elif l % 2 != 0:\n",
    "    l = (l // 2) + 1   \n",
    "    \n",
    "left = blocks[0] - l\n",
    "left_index = 0\n",
    "right = blocks[-1] - l\n",
    "right_index = -1\n",
    "mid_block = -1\n",
    "\n",
    "for i in range(n):\n",
    "    \n",
    "    if blocks[i] - l < 0 and blocks[i] - l >= left:\n",
    "        left = blocks[i] - l\n",
    "        left_index = i\n",
    "        \n",
    "    if blocks[i] - l >= 0 and blocks[i] - l <= right:\n",
    "        right = blocks[i] - l\n",
    "        right_index = i\n",
    "        \n",
    "    if true_mean < l and blocks[i] == l-1:\n",
    "        mid_block = blocks[i]\n",
    "        mid_index = i\n",
    "\n",
    "if mid_block == -1:\n",
    "    print(blocks[left_index], blocks[right_index])\n",
    "else:\n",
    "    print(mid_block)\n"
   ]
  },
  {
   "cell_type": "markdown",
   "id": "7f2b241b",
   "metadata": {},
   "source": [
    "https://contest.yandex.ru/contest/28738/problems/E/"
   ]
  },
  {
   "cell_type": "code",
   "execution_count": null,
   "id": "9f50d44f",
   "metadata": {},
   "outputs": [],
   "source": [
    "with open('input.txt') as f:\n",
    "    lines = f.readlines()\n",
    "n = int(lines[0].split()[0])\n",
    "m = list(map(int, lines[1].split()))\n",
    "\n",
    "m.sort()\n",
    "\n",
    "cnt = 0\n",
    "\n",
    "for i in range(n-1):\n",
    "    cnt+=m[i]\n",
    "    \n",
    "print(cnt)"
   ]
  },
  {
   "cell_type": "markdown",
   "id": "8698100b",
   "metadata": {},
   "source": [
    "https://contest.yandex.ru/contest/28730/problems/"
   ]
  },
  {
   "cell_type": "markdown",
   "id": "3312a656",
   "metadata": {},
   "source": [
    "end_code = -128 до 127\n",
    "inter = 0 - 7\n",
    "checker = 0 - 7\n",
    "\n",
    "    Если интерактор выдал вердикт 0, итоговый вердикт равен 3 в случае, если программа завершилась с ненулевым кодом, и вердикту чекера в противном случае.\n",
    "    \n",
    "    Если интерактор выдал вердикт 1, итоговый вердикт равен вердикту чекера.\n",
    "    \n",
    "    Если интерактор выдал вердикт 4, итоговый вердикт равен 3 в случае, если программа завершилась с ненулевым кодом, и 4 в противном случае.\n",
    "    \n",
    "    Если интерактор выдал вердикт 6, итоговый вердикт равен 0.\n",
    "    \n",
    "    Если интерактор выдал вердикт 7, итоговый вердикт равен 1.\n",
    "    \n",
    "В остальных случаях итоговый вердикт равен вердикту интерактора."
   ]
  },
  {
   "cell_type": "code",
   "execution_count": 221,
   "id": "0309d1fe",
   "metadata": {},
   "outputs": [
    {
     "name": "stdout",
     "output_type": "stream",
     "text": [
      "0\n"
     ]
    }
   ],
   "source": [
    "with open('input.txt') as f:\n",
    "    lines = f.readlines()\n",
    "end_code = int(lines[0].split()[0])\n",
    "inter = int(lines[1].split()[0])\n",
    "checker = int(lines[2].split()[0])\n",
    "end_output = -1\n",
    "\n",
    "\n",
    "\n",
    "if inter == 0 and end_code != 0:\n",
    "    end_output = 3\n",
    "elif inter == 0 and end_code == 0:\n",
    "    end_output = checker\n",
    "    \n",
    "if inter == 1:\n",
    "    end_output = checker\n",
    "    \n",
    "if inter == 4 and end_code != 0:\n",
    "    end_output = 3\n",
    "elif inter == 4 and end_code == 0:    \n",
    "    end_output = 4\n",
    "    \n",
    "if inter == 6:\n",
    "    end_output = 0\n",
    "    \n",
    "if inter == 7:\n",
    "    end_output = 1\n",
    "    \n",
    "if end_output == -1:\n",
    "    end_output = inter\n",
    "    \n",
    "print(end_output)"
   ]
  },
  {
   "cell_type": "code",
   "execution_count": null,
   "id": "19fb8f41",
   "metadata": {},
   "outputs": [],
   "source": []
  },
  {
   "cell_type": "code",
   "execution_count": 324,
   "id": "f257f444",
   "metadata": {},
   "outputs": [
    {
     "name": "stdout",
     "output_type": "stream",
     "text": [
      "1\n"
     ]
    }
   ],
   "source": [
    "with open('input.txt') as f:\n",
    "    lines = f.readlines()\n",
    "    \n",
    "n = int(lines[0].split()[0])\n",
    "i = int(lines[0].split()[1])\n",
    "j = int(lines[0].split()[2])\n",
    "\n",
    "\n",
    "if i < j :\n",
    "    if abs(i-j) > abs((i+n-1) - j):\n",
    "        print(abs((i+n-1) - j))\n",
    "    else:\n",
    "        print(abs(i-j)-1)\n",
    "else:\n",
    "    \n",
    "    if abs(j-i) > abs((j+n-1) - i):\n",
    "        print(abs((j+n-1) - i))\n",
    "    else:\n",
    "        print(abs(i-j)-1)"
   ]
  },
  {
   "cell_type": "markdown",
   "id": "30f3a0c4",
   "metadata": {},
   "source": [
    "https://contest.yandex.ru/contest/28736/problems/"
   ]
  },
  {
   "cell_type": "code",
   "execution_count": 355,
   "id": "9ece0bfa",
   "metadata": {},
   "outputs": [
    {
     "name": "stdout",
     "output_type": "stream",
     "text": [
      "7\n"
     ]
    }
   ],
   "source": [
    "with open('input.txt') as f:\n",
    "    lines = f.readlines()\n",
    "    \n",
    "n = int(lines[0].split()[0])\n",
    "k = int(lines[0].split()[1])\n",
    "\n",
    "arr = list(map(int, lines[1].split()))\n",
    "\n",
    "def conf(arr,n,k):\n",
    "    A = arr\n",
    "    for i in range(k):\n",
    "        B = []\n",
    "        S = 0\n",
    "        for i in range(n):\n",
    "            S +=A[i]\n",
    "        \n",
    "        for i in range(n):\n",
    "            B.append(S - A[i])\n",
    "        A=B\n",
    "    return max(B) - min(B)\n",
    "\n",
    "print(conf(arr,n,k))"
   ]
  },
  {
   "cell_type": "code",
   "execution_count": null,
   "id": "9b69bf86",
   "metadata": {},
   "outputs": [],
   "source": []
  },
  {
   "cell_type": "markdown",
   "id": "884dac6f",
   "metadata": {},
   "source": [
    "https://contest.yandex.ru/contest/28736/problems/B/"
   ]
  },
  {
   "cell_type": "code",
   "execution_count": 451,
   "id": "1d6480bd",
   "metadata": {},
   "outputs": [
    {
     "data": {
      "text/plain": [
       "(4, 6)"
      ]
     },
     "execution_count": 451,
     "metadata": {},
     "output_type": "execute_result"
    }
   ],
   "source": [
    "with open('input.txt') as f:\n",
    "    lines = f.readlines()\n",
    "    \n",
    "X = lines[0].split()[0]\n",
    "Z = lines[1].split()[0]\n",
    "i = len(Z)-1\n",
    "\n",
    "X_n = len(X)\n",
    "Z_n = len(Z)\n",
    "X_n,Z_n"
   ]
  },
  {
   "cell_type": "code",
   "execution_count": null,
   "id": "1ea85b0f",
   "metadata": {},
   "outputs": [],
   "source": []
  },
  {
   "cell_type": "code",
   "execution_count": 887,
   "id": "e09f575e",
   "metadata": {},
   "outputs": [
    {
     "name": "stdout",
     "output_type": "stream",
     "text": [
      "1\n"
     ]
    }
   ],
   "source": [
    "def eq_line(Z,X,i,j):\n",
    "    cnt = 0\n",
    "    \n",
    "    \n",
    "    X = X*( int(len(Z)/len(X))+1 )\n",
    "    j = len(X)-1\n",
    "    \n",
    "    while i >= 0 and j >= 0 and Z[i] == X[j]:\n",
    "            cnt+=1\n",
    "            i-=1\n",
    "            j-=1\n",
    "             \n",
    "            \n",
    "    return cnt\n",
    "\n",
    "\n",
    "with open('input.txt') as f:\n",
    "    lines = f.readlines()\n",
    "    \n",
    "X = lines[0].split()[0]\n",
    "Z = lines[1].split()[0]\n",
    "\n",
    "cnt = 0\n",
    "fin = {}\n",
    "\n",
    "#i = len(Z)-1\n",
    "j = len(X)-1\n",
    "cnt_x = 0 \n",
    "x_inx = 0\n",
    "\n",
    "for i in range(len(Z))[::-1]:\n",
    "    cnt = eq_line(Z,X,i,j)\n",
    "    ind_z = i\n",
    "    \n",
    "    fin.update({ind_z : cnt})\n",
    "\n",
    "max_replaced_lenth, where_replace_starts = max(zip(fin.values(), fin.keys())) \n",
    "\n",
    "if len(Z[:where_replace_starts+1]) == max_replaced_lenth:\n",
    "    print(Z[where_replace_starts+1:])\n",
    "else:\n",
    "    print(Z)"
   ]
  },
  {
   "cell_type": "markdown",
   "id": "08ad602f",
   "metadata": {},
   "source": [
    "https://contest.yandex.ru/contest/28736/problems/C/"
   ]
  },
  {
   "cell_type": "code",
   "execution_count": 140,
   "id": "b7d2a505",
   "metadata": {},
   "outputs": [
    {
     "data": {
      "text/plain": [
       "4"
      ]
     },
     "execution_count": 140,
     "metadata": {},
     "output_type": "execute_result"
    }
   ],
   "source": [
    "with open('input.txt') as f:\n",
    "    lines = f.readlines()\n",
    "    \n",
    "n = int(lines[0].split()[0])\n",
    "pair = lines[1].split()\n",
    "\n",
    "def edge_vertical(row, colomn):\n",
    "    edge_h = []\n",
    "    edge_h.append([colomn, row])\n",
    "    edge_h.append([colomn, row+1])\n",
    "    return edge_h\n",
    "\n",
    "def edge_horisontal(row, colomn):\n",
    "    edge_w = []\n",
    "    edge_w.append([row, colomn])\n",
    "    edge_w.append([row, colomn+1])\n",
    "    return edge_w\n",
    "\n",
    "\n",
    "edge_v = []\n",
    "edge_h = []\n",
    "for i in range(n):\n",
    "    row, colomn = map(int, lines[i+1].split())\n",
    "    edge_v.append(edge_vertical(row, colomn))    \n",
    "    edge_h.append(edge_horisontal(row, colomn))\n",
    "    \n",
    "    \n",
    "clear_edge_v = []\n",
    "for i in range(n):\n",
    "    \n",
    "    if edge_v[i][0] in clear_edge_v:\n",
    "        clear_edge_v.pop(clear_edge_v.index(edge_v[i][0]))\n",
    "    else:   \n",
    "        clear_edge_v.append(edge_v[i][0])   \n",
    "    \n",
    "    if edge_v[i][1] in clear_edge_v:\n",
    "        clear_edge_v.pop(clear_edge_v.index(edge_v[i][1]))\n",
    "    else:\n",
    "        clear_edge_v.append(edge_v[i][1])\n",
    "        \n",
    "\n",
    "clear_edge_h = []\n",
    "for i in range(n):\n",
    "    \n",
    "    if edge_h[i][0] in clear_edge_h:\n",
    "        clear_edge_h.pop( clear_edge_h.index( edge_h[i][0]))\n",
    "    else:   \n",
    "        clear_edge_h.append(edge_h[i][0])   \n",
    "    \n",
    "    \n",
    "    if edge_h[i][1] in clear_edge_h:\n",
    "        clear_edge_h.pop(clear_edge_h.index(edge_h[i][1]))\n",
    "    else:\n",
    "        clear_edge_h.append(edge_h[i][1])\n",
    "\n",
    "len(clear_edge_v) + len(clear_edge_h)"
   ]
  },
  {
   "cell_type": "markdown",
   "id": "da96c08f",
   "metadata": {},
   "source": [
    "https://contest.yandex.ru/contest/28736/problems/D/"
   ]
  },
  {
   "cell_type": "code",
   "execution_count": 198,
   "id": "486092eb",
   "metadata": {},
   "outputs": [
    {
     "name": "stdout",
     "output_type": "stream",
     "text": [
      "1\n"
     ]
    }
   ],
   "source": [
    "with open('input.txt') as f:\n",
    "    lines = f.readlines()\n",
    "    \n",
    "n = int(lines[0].split()[0])\n",
    "pair = list(map(int, lines[1].split()))\n",
    "\n",
    "max_l = max(pair)*2\n",
    "sum_l = 0\n",
    "for i in pair:\n",
    "    sum_l+=i\n",
    "\n",
    "if (max_l - sum_l) <= 0:\n",
    "    print(sum_l)\n",
    "else:\n",
    "    print(max_l - sum_l)"
   ]
  },
  {
   "cell_type": "markdown",
   "id": "d85c1d95",
   "metadata": {},
   "source": [
    "https://contest.yandex.ru/contest/28730/problems/C"
   ]
  },
  {
   "cell_type": "code",
   "execution_count": null,
   "id": "f1dd2ff8",
   "metadata": {},
   "outputs": [],
   "source": [
    "with open('input.txt') as f:\n",
    "    lines = f.readlines()\n",
    "    \n",
    "first, second, year = list(map(int, lines[0].split()))\n",
    "\n",
    "month_31 = [1,3,5,7,8,10,12]\n",
    "month_30 = [4,6,9,11]\n",
    "month_29 = [2]\n",
    "month_28 = [2] #fev 4\n",
    "\n",
    "if first == second:\n",
    "    print(1)\n",
    "elif first > 12:\n",
    "    print(1)\n",
    "elif second > 12:\n",
    "    print(1)\n",
    "else:\n",
    "    print(0)"
   ]
  },
  {
   "cell_type": "markdown",
   "id": "aafc3c2d",
   "metadata": {},
   "source": [
    "https://contest.yandex.ru/contest/28730/problems/D/"
   ]
  },
  {
   "cell_type": "code",
   "execution_count": 168,
   "id": "67c450bd",
   "metadata": {},
   "outputs": [
    {
     "name": "stdout",
     "output_type": "stream",
     "text": [
      "0\n"
     ]
    }
   ],
   "source": [
    "with open('input.txt') as f:\n",
    "    lines = f.readlines()\n",
    "    \n",
    "n = int(lines[0].split()[0])  \n",
    "houses = list(map(int, lines[1].split()))\n",
    "\n",
    "m  = abs(min(houses))\n",
    "\n",
    "avg = round((sum([x+m for x in houses])-m*n)/n)\n",
    "\n",
    "# if avg > 0:\n",
    "#     print(avg)\n",
    "# else:\n",
    "#     print(0)\n",
    "\n",
    "print(houses[int(n/2)])"
   ]
  },
  {
   "cell_type": "markdown",
   "id": "5167482e",
   "metadata": {},
   "source": [
    "https://contest.yandex.ru/contest/28730/problems/E/"
   ]
  },
  {
   "cell_type": "code",
   "execution_count": 45,
   "id": "a084f18d",
   "metadata": {},
   "outputs": [
    {
     "name": "stdout",
     "output_type": "stream",
     "text": [
      "1\n"
     ]
    }
   ],
   "source": [
    "with open('input.txt') as f:\n",
    "    lines = f.readlines()\n",
    "    \n",
    "d = int(lines[0].split()[0])  \n",
    "x, y = list(map(int, lines[1].split()))\n",
    "\n",
    "\n",
    "avg =  d / 2     \n",
    "        \n",
    "if x + y <= d and x >= 0 and y >= 0:\n",
    "    print(0)\n",
    "\n",
    "elif x + y > d and  x >= y and y > 0:\n",
    "    print(2)\n",
    "\n",
    "elif x + y > d and  x < y and x > 0:\n",
    "    print(3)\n",
    "\n",
    "elif x < 0 and y > avg:\n",
    "    print(3)\n",
    "\n",
    "elif x < 0 and y <= avg:\n",
    "    print(1)\n",
    "\n",
    "elif y < 0 and x > avg:\n",
    "    print(2)\n",
    "\n",
    "elif y < 0 and x <= avg:\n",
    "    print(1)"
   ]
  },
  {
   "cell_type": "markdown",
   "id": "539a96b2",
   "metadata": {},
   "source": [
    "https://contest.yandex.ru/contest/28964/problems/"
   ]
  },
  {
   "cell_type": "code",
   "execution_count": 48,
   "id": "ca2ab1d4",
   "metadata": {},
   "outputs": [],
   "source": [
    "with open('input.txt') as f:\n",
    "    lines = f.readlines()\n",
    "    \n",
    "A = list(map(int, lines[0].split()))\n",
    "B = list(map(int, lines[1].split()))\n",
    "\n",
    "print(len(set(A).intersection(set(B))))"
   ]
  },
  {
   "cell_type": "markdown",
   "id": "8252cdc5",
   "metadata": {},
   "source": [
    "https://contest.yandex.ru/contest/28964/problems/B/"
   ]
  },
  {
   "cell_type": "code",
   "execution_count": 130,
   "id": "ed14c22e",
   "metadata": {},
   "outputs": [
    {
     "name": "stdout",
     "output_type": "stream",
     "text": [
      "NO\n",
      "NO\n",
      "NO\n",
      "YES\n",
      "YES\n",
      "NO\n"
     ]
    }
   ],
   "source": [
    "with open('input.txt') as f:\n",
    "    lines = f.readlines()\n",
    "    \n",
    "A = list(map(int, lines[0].split()))\n",
    "arr = {}\n",
    "\n",
    "\n",
    "for i in range(len(A)):\n",
    "    \n",
    "    if A[i] in arr.keys():\n",
    "        arr.update({A[i]:arr[A[i]]+1})\n",
    "        print('YES')\n",
    "    else:\n",
    "        arr.update({A[i]:1})\n",
    "        print('NO')"
   ]
  },
  {
   "cell_type": "code",
   "execution_count": 137,
   "id": "4eaa21ae",
   "metadata": {},
   "outputs": [
    {
     "name": "stdout",
     "output_type": "stream",
     "text": [
      "NO\n",
      "NO\n",
      "NO\n",
      "YES\n",
      "YES\n",
      "NO\n"
     ]
    }
   ],
   "source": [
    "with open('input.txt') as f:\n",
    "    lines = f.readlines()\n",
    "    \n",
    "A = list(map(int, lines[0].split()))\n",
    "arr = {}\n",
    "\n",
    "\n",
    "for i in range(len(A)):\n",
    "    \n",
    "    if arr.get(A[i]):\n",
    "        arr.update({A[i]:arr[A[i]]+1})\n",
    "        print('YES')\n",
    "    else:\n",
    "        arr.update({A[i]:1})\n",
    "        print('NO')"
   ]
  },
  {
   "cell_type": "code",
   "execution_count": null,
   "id": "06759eda",
   "metadata": {},
   "outputs": [],
   "source": []
  },
  {
   "cell_type": "markdown",
   "id": "f5da170b",
   "metadata": {},
   "source": [
    "https://contest.yandex.ru/contest/28964/problems/C/"
   ]
  },
  {
   "cell_type": "code",
   "execution_count": 177,
   "id": "b22e8bde",
   "metadata": {},
   "outputs": [
    {
     "name": "stdout",
     "output_type": "stream",
     "text": [
      "4 2 1\n"
     ]
    }
   ],
   "source": [
    "with open('input.txt') as f:\n",
    "    lines = f.readlines()\n",
    "    \n",
    "A = list(map(int, lines[0].split()))\n",
    "\n",
    "arr = {}\n",
    "\n",
    "for i in range(len(A)):\n",
    "    \n",
    "    if arr.get(A[i]):\n",
    "        arr.update({A[i]:arr[A[i]]+1})\n",
    "    else:\n",
    "        arr.update({A[i]:1})\n",
    "\n",
    "ans = []\n",
    "        \n",
    "for i, j in zip(arr.keys(), arr.values()):\n",
    "    if j == 1:\n",
    "        ans.append(i)\n",
    "        \n",
    "print(*ans)"
   ]
  },
  {
   "cell_type": "code",
   "execution_count": null,
   "id": "f16f09cc",
   "metadata": {},
   "outputs": [],
   "source": []
  },
  {
   "cell_type": "code",
   "execution_count": null,
   "id": "7eb9d764",
   "metadata": {},
   "outputs": [],
   "source": []
  },
  {
   "cell_type": "markdown",
   "id": "af9dfa57",
   "metadata": {},
   "source": [
    "https://contest.yandex.ru/contest/28964/problems/D/"
   ]
  },
  {
   "cell_type": "code",
   "execution_count": 403,
   "id": "b6e2272c",
   "metadata": {},
   "outputs": [
    {
     "name": "stdout",
     "output_type": "stream",
     "text": [
      "23 81 83\n"
     ]
    }
   ],
   "source": [
    "with open('input.txt') as f:\n",
    "    lines = f.readlines()\n",
    "n = int(lines[0].split()[0])\n",
    "\n",
    "arr = lines[1:]\n",
    "\n",
    "N = len(arr)\n",
    "\n",
    "YES = set()\n",
    "NO = []\n",
    "\n",
    "for i in range(N):\n",
    "    if arr[i+1].split()[0] != 'HELP':\n",
    "        \n",
    "        if arr[i+1].split()[0] == 'YES' and len(YES) > 0:\n",
    "            YES = set(list(map(int, arr[i].split()))).intersection(YES)\n",
    "            \n",
    "        elif arr[i+1].split()[0] == 'YES' and len(YES) == 0:\n",
    "            YES = set(list(map(int, arr[i].split())))\n",
    "            \n",
    "        elif arr[i+1].split()[0] =='NO':\n",
    "            [NO.append(x) for x in list(map(int, arr[i].split()))]\n",
    "    elif arr[i+1].split()[0] == 'HELP':\n",
    "        break\n",
    "        \n",
    "if len(YES) == 0:\n",
    "    YES =[]\n",
    "    for i in range(n):\n",
    "        YES.append(i+1)   \n",
    "        \n",
    "        \n",
    "ans = set(YES).difference(set(NO))\n",
    "ans = list(ans)\n",
    "ans.sort()\n",
    "print(*ans)"
   ]
  },
  {
   "cell_type": "markdown",
   "id": "5b5080c6",
   "metadata": {},
   "source": [
    "https://contest.yandex.ru/contest/28964/problems/E/"
   ]
  },
  {
   "cell_type": "code",
   "execution_count": 597,
   "id": "8f9fe7f2",
   "metadata": {},
   "outputs": [
    {
     "name": "stdout",
     "output_type": "stream",
     "text": [
      "A143BC\n",
      "\n",
      "C143AB\n",
      "\n"
     ]
    }
   ],
   "source": [
    "with open('input.txt') as f:\n",
    "    lines = f.readlines()\n",
    "    \n",
    "n = int(lines[0].split()[0])\n",
    "\n",
    "obs = lines[1:n+1]\n",
    "\n",
    "k = int(lines[n+1].split()[0])\n",
    "\n",
    "num = lines[n+2:]\n",
    "\n",
    "\n",
    "\n",
    "number_cnt = {}\n",
    "\n",
    "zeros = []\n",
    "\n",
    "for i in range(k):\n",
    "    number_i = set(num[i].split()[0])\n",
    "    \n",
    "    for j in range(n):\n",
    "        obs_i = set(obs[j].split()[0])\n",
    "        \n",
    "        if len(obs_i - number_i) ==  0:\n",
    "            if number_cnt.get(i):\n",
    "                number_cnt.update({i:number_cnt[i]+1})\n",
    "            else:\n",
    "                number_cnt.update({i:1})\n",
    "        else:\n",
    "            zeros.append(i)\n",
    "            \n",
    "            \n",
    "if number_cnt:                \n",
    "    max_num = max(number_cnt.values())   \n",
    "else:\n",
    "    max_num = 0\n",
    "\n",
    "    \n",
    "if max_num != 0:\n",
    "    for i, j in zip(number_cnt.keys(), number_cnt.values()):\n",
    "        if j == max_num:\n",
    "            print(num[i])\n",
    "else:\n",
    "    for i in set(zeros):\n",
    "        print(num[i])\n"
   ]
  },
  {
   "cell_type": "markdown",
   "id": "08990482",
   "metadata": {},
   "source": [
    "https://contest.yandex.ru/contest/28970/problems/"
   ]
  },
  {
   "cell_type": "code",
   "execution_count": 54,
   "id": "43b92c4d",
   "metadata": {},
   "outputs": [
    {
     "name": "stdout",
     "output_type": "stream",
     "text": [
      "1 15\n",
      "4 2\n",
      "10 -5\n"
     ]
    }
   ],
   "source": [
    "with open('input.txt') as f:\n",
    "    lines = f.readlines()\n",
    "    \n",
    "n = int(lines[0].split()[0])\n",
    "\n",
    "pairs = lines[1:n+1]\n",
    "\n",
    "arr = {}\n",
    "for i in pairs:\n",
    "    key = list(map(int, i.split()))[0]\n",
    "    value = list(map(int, i.split()))[1]\n",
    "    \n",
    "    if arr.get(key):\n",
    "        arr.update({key:arr[key]+value})\n",
    "    else:\n",
    "        arr.update({key:value})\n",
    "\n",
    "        \n",
    "arr = dict(sorted(arr.items(), key=lambda x:int(x[0]) ) )\n",
    "\n",
    "for i in arr.keys():\n",
    "    print(i, arr[i])"
   ]
  },
  {
   "cell_type": "code",
   "execution_count": 52,
   "id": "64beceae",
   "metadata": {},
   "outputs": [
    {
     "data": {
      "text/plain": [
       "{-5: -200000000000, 0: 10000000000000, 5: -10000, 10: 2000000000000}"
      ]
     },
     "execution_count": 52,
     "metadata": {},
     "output_type": "execute_result"
    }
   ],
   "source": [
    "dict(sorted(arr.items(), key=lambda x:int(x[0]) ) )"
   ]
  },
  {
   "cell_type": "markdown",
   "id": "c8da98d7",
   "metadata": {},
   "source": [
    "https://contest.yandex.ru/contest/28970/problems/B/"
   ]
  },
  {
   "cell_type": "code",
   "execution_count": 92,
   "id": "43c09d72",
   "metadata": {},
   "outputs": [
    {
     "name": "stdout",
     "output_type": "stream",
     "text": [
      "McCain 16\n",
      "Obama 17\n"
     ]
    }
   ],
   "source": [
    "with open('input.txt') as f:\n",
    "    lines = f.readlines()\n",
    "    \n",
    "pairs = lines\n",
    "\n",
    "arr = {}\n",
    "for i in range(len(pairs)):\n",
    "    key = pairs[i].split()[0]\n",
    "    value = int(pairs[i].split()[1])\n",
    "    \n",
    "    if arr.get(key):\n",
    "        arr.update({key:arr[key]+value})\n",
    "    else:\n",
    "        arr.update({key:value})\n",
    "\n",
    "        \n",
    "arr = dict(sorted(arr.items(), key=lambda x: x[0] ) )\n",
    "\n",
    "for i in arr.keys():\n",
    "    print(i, arr[i])"
   ]
  },
  {
   "cell_type": "markdown",
   "id": "73cff028",
   "metadata": {},
   "source": [
    "https://contest.yandex.ru/contest/28970/problems/C/"
   ]
  },
  {
   "cell_type": "code",
   "execution_count": 157,
   "id": "3735803c",
   "metadata": {},
   "outputs": [
    {
     "name": "stdout",
     "output_type": "stream",
     "text": [
      "damme\n",
      "is\n",
      "name\n",
      "van\n",
      "bond\n",
      "claude\n",
      "hi\n",
      "my\n",
      "james\n",
      "jean\n",
      "what\n",
      "your\n"
     ]
    }
   ],
   "source": [
    "with open('input.txt') as f:\n",
    "    lines = f.readlines()\n",
    "    \n",
    "pairs = lines\n",
    "\n",
    "\n",
    "arr = {}\n",
    "ans = []\n",
    "for i in range(len(pairs)):\n",
    "    value = pairs[i].split()\n",
    "    \n",
    "    for n in range(len(value)):\n",
    "        if arr.get(value[n]):\n",
    "            arr.update({value[n]:arr[value[n]]+1})\n",
    "        else:\n",
    "            arr.update({value[n]: 1})\n",
    "        \n",
    "for i,j in zip(arr.keys(),arr.values()):\n",
    "    ans.append((j, i))\n",
    "    \n",
    "ans = sorted(ans, key=lambda name: name[1])\n",
    "ans = sorted(ans, key=lambda name: name[0], reverse=True) \n",
    "\n",
    "for i in range(len(ans)):\n",
    "    print(ans[i][1])"
   ]
  },
  {
   "cell_type": "markdown",
   "id": "bf30560a",
   "metadata": {},
   "source": [
    "https://contest.yandex.ru/contest/28970/problems/D/"
   ]
  },
  {
   "cell_type": "code",
   "execution_count": 22,
   "id": "fda43ec2",
   "metadata": {},
   "outputs": [
    {
     "name": "stdout",
     "output_type": "stream",
     "text": [
      "84838432 188529.8488888889\n",
      "Dream team 450\n"
     ]
    }
   ],
   "source": [
    "with open('input.txt') as f:\n",
    "    lines = f.readlines()\n",
    "    \n",
    "party = lines\n",
    "N = len(party)\n",
    "\n",
    "min_vote = 0\n",
    "\n",
    "party_vote_cnt = []\n",
    "party_name = []\n",
    "\n",
    "\n",
    "def print_res():\n",
    "    for i in range(N):\n",
    "        for j in range(N):\n",
    "            if party_name[i] == place_dist[j][0]:\n",
    "                print(party_name[i], int(place_dist[j][-1]))\n",
    "    \n",
    "for i in range(N):\n",
    "    party_vote_cnt.append(int(party[i].split()[-1]))\n",
    "    party_name.append(' '.join(party[i].split()[:-1])) \n",
    "\n",
    "min_vote  = sum(party_vote_cnt) / 450\n",
    "\n",
    "place_dist = []\n",
    "places = 0\n",
    "\n",
    "for i in range(N):\n",
    "    place_dist.append(( (party_name[i]), party_vote_cnt[i] / min_vote ))\n",
    "    places+=party_vote_cnt[i] // min_vote\n",
    "\n",
    "    \n",
    "print(party_vote_cnt[i], min_vote)    \n",
    "if places < 450 and place_dist[0][1] < 450:\n",
    "    \n",
    "    place_dist = sorted(place_dist, key = lambda x : x[1], reverse=True) \n",
    "    place_dist = sorted(place_dist, key = lambda x : x[1]%1, reverse=True) \n",
    "    n = 450-places \n",
    "\n",
    "    j = 0    \n",
    "    while n != 0 and j < N:\n",
    "        n -= 1\n",
    "        change_tuple = list(place_dist[j])[1] + 1\n",
    "        place_dist[j] = (place_dist[j][0], change_tuple)\n",
    "        j += 1\n",
    "\n",
    "        if place_dist[j][1] % 1 == 0:\n",
    "            j = 0\n",
    "          \n",
    "print_res()"
   ]
  },
  {
   "cell_type": "markdown",
   "id": "e02d0df2",
   "metadata": {},
   "source": [
    "https://contest.yandex.ru/contest/28969/problems/"
   ]
  },
  {
   "cell_type": "code",
   "execution_count": 371,
   "id": "015352a9",
   "metadata": {},
   "outputs": [
    {
     "name": "stdout",
     "output_type": "stream",
     "text": [
      "AA\n"
     ]
    }
   ],
   "source": [
    "with open('input.txt') as f:\n",
    "    lines = f.readlines()\n",
    "\n",
    "N = int(lines[0].split()[0])\n",
    "letters = lines[1].split()[0]\n",
    "\n",
    "\n",
    "letters = sorted(letters)\n",
    "arr = {}\n",
    "for i in range(N):\n",
    "    curr_l = letters[i]\n",
    "    \n",
    "    if arr.get(letters[i]):\n",
    "        arr.update({curr_l:arr[curr_l]+1})\n",
    "    else:\n",
    "        arr.update({curr_l:1})\n",
    "        \n",
    "        \n",
    "        \n",
    "start = []\n",
    "mid = []\n",
    "\n",
    "for i in arr:\n",
    "    j = arr[i]\n",
    "    while j > 1:\n",
    "        if arr[i] > 1:\n",
    "            start.append(i)\n",
    "            arr.update({i:arr[i]-2})\n",
    "            j -= 2\n",
    "    if len(mid) < 1 and arr[i] == 1:\n",
    "        mid.append(i)\n",
    "        \n",
    "        \n",
    "        \n",
    "if len(mid) > 0:\n",
    "    print(''.join(start)+''.join(mid[0])+''.join(start[::-1]))\n",
    "else:\n",
    "    print(''.join(start)+''.join(start[::-1]))"
   ]
  },
  {
   "cell_type": "markdown",
   "id": "cfc48f76",
   "metadata": {},
   "source": [
    "https://contest.yandex.ru/contest/28969/problems/B\n"
   ]
  },
  {
   "cell_type": "code",
   "execution_count": 153,
   "id": "96d97ea2",
   "metadata": {},
   "outputs": [],
   "source": [
    "def coord_add(coordinate, word_letter, coor_i, coor_j):\n",
    "    \n",
    "    if len(coordinate) > 0 and word_letter < word_len:\n",
    "        if coor_i+1 == coordinate[-1][0] or coor_i-1 == coordinate[-1][0] \\\n",
    "        or coor_j+1 == coordinate[-1][1] or coor_j-1 == coordinate[-1][1]:\n",
    "            coordinate.append([coor_i, coor_j])\n",
    "            \n",
    "    else:\n",
    "        coordinate.append([coor_i, coor_j])\n",
    "        \n",
    "    return coordinate"
   ]
  },
  {
   "cell_type": "code",
   "execution_count": 154,
   "id": "102769ff",
   "metadata": {},
   "outputs": [
    {
     "name": "stdout",
     "output_type": "stream",
     "text": [
      "0 1\n",
      "0 2\n",
      "1 2\n",
      "1 3\n",
      "0 0\n",
      "2 2\n",
      "2 1\n",
      "3 1\n"
     ]
    },
    {
     "ename": "TypeError",
     "evalue": "cannot unpack non-iterable NoneType object",
     "output_type": "error",
     "traceback": [
      "\u001b[1;31m---------------------------------------------------------------------------\u001b[0m",
      "\u001b[1;31mTypeError\u001b[0m                                 Traceback (most recent call last)",
      "Input \u001b[1;32mIn [154]\u001b[0m, in \u001b[0;36m<cell line: 3>\u001b[1;34m()\u001b[0m\n\u001b[0;32m      5\u001b[0m word_len \u001b[38;5;241m=\u001b[39m \u001b[38;5;28mlen\u001b[39m(word_i)\n\u001b[0;32m      8\u001b[0m \u001b[38;5;28;01mfor\u001b[39;00m j \u001b[38;5;129;01min\u001b[39;00m  \u001b[38;5;28mrange\u001b[39m(word_len):\n\u001b[1;32m----> 9\u001b[0m     coor_i, coor_j  \u001b[38;5;241m=\u001b[39m isin_matrix(word_i[j])\n\u001b[0;32m     10\u001b[0m     \u001b[38;5;28mprint\u001b[39m(coor_i, coor_j)  \n\u001b[0;32m     12\u001b[0m     word_letter \u001b[38;5;241m=\u001b[39m j\n",
      "\u001b[1;31mTypeError\u001b[0m: cannot unpack non-iterable NoneType object"
     ]
    }
   ],
   "source": [
    "coordinate = []\n",
    "\n",
    "for i in range(m):\n",
    "    word_i = letters[n+i]\n",
    "    word_len = len(word_i)\n",
    "    \n",
    "    \n",
    "    for j in  range(word_len):\n",
    "        coor_i, coor_j  = isin_matrix(word_i[j])\n",
    "        print(coor_i, coor_j)  \n",
    "        \n",
    "        word_letter = j\n",
    "        coordinate = coord_add(coordinate, word_letter, coor_i, coor_j)                "
   ]
  },
  {
   "cell_type": "code",
   "execution_count": 159,
   "id": "592bf8bf",
   "metadata": {},
   "outputs": [],
   "source": [
    "a, b = isin_matrix(word_i[1])"
   ]
  },
  {
   "cell_type": "code",
   "execution_count": 2,
   "id": "b634c4b7",
   "metadata": {},
   "outputs": [],
   "source": [
    "with open('input.txt') as f:\n",
    "    lines = f.readlines()\n",
    "\n",
    "n = int(lines[0].split()[0])\n",
    "m = int(lines[0].split()[1])\n",
    "letters = lines[1:]"
   ]
  },
  {
   "cell_type": "code",
   "execution_count": 3,
   "id": "54564697",
   "metadata": {},
   "outputs": [],
   "source": [
    "matrix = []\n",
    "for i in range(n):\n",
    "    matrix.append(letters[i].split())"
   ]
  },
  {
   "cell_type": "code",
   "execution_count": 4,
   "id": "3913eb25",
   "metadata": {},
   "outputs": [],
   "source": [
    "def isin_matrix(letter):\n",
    "    \n",
    "    out = []\n",
    "    for i in range(n):\n",
    "        mat_len = len(matrix[i][0])\n",
    "        \n",
    "        for j in range(mat_len):\n",
    "            if letters[i].split()[0][j] == letter:\n",
    "                out.append([i,j])\n",
    "                #break\n",
    "    return out      \n",
    "                \n",
    "                "
   ]
  },
  {
   "cell_type": "code",
   "execution_count": 231,
   "id": "4072f8d7",
   "metadata": {},
   "outputs": [
    {
     "name": "stdout",
     "output_type": "stream",
     "text": [
      "O\n",
      "L\n",
      "Y\n",
      "M\n",
      "P\n",
      "I\n",
      "A\n",
      "D\n",
      "\n",
      "\n",
      "P\n",
      "R\n",
      "O\n",
      "B\n",
      "L\n",
      "E\n",
      "M\n",
      "\n",
      "\n",
      "T\n",
      "E\n",
      "S\n",
      "T\n"
     ]
    }
   ],
   "source": [
    "for i in range(m):\n",
    "    word_i = letters[n+i]\n",
    "    word_len = len(word_i)\n",
    "    \n",
    "    for j in range(word_len):\n",
    "        print(word_i[j])\n",
    "        coord_word = isin_matrix(word_i[j])\n",
    "        coor_len = len(coord_word)\n",
    "        coordinates.append(coord_word)"
   ]
  },
  {
   "cell_type": "code",
   "execution_count": 234,
   "id": "7c32d5f4",
   "metadata": {},
   "outputs": [
    {
     "ename": "SyntaxError",
     "evalue": "invalid syntax (334313.py, line 2)",
     "output_type": "error",
     "traceback": [
      "\u001b[1;36m  Input \u001b[1;32mIn [234]\u001b[1;36m\u001b[0m\n\u001b[1;33m    if coordinates[i]\u001b[0m\n\u001b[1;37m                     ^\u001b[0m\n\u001b[1;31mSyntaxError\u001b[0m\u001b[1;31m:\u001b[0m invalid syntax\n"
     ]
    }
   ],
   "source": [
    "for i in range(1,len(coordinates)):\n",
    "    w_l = len(coordinates[i])\n",
    "    for j in range(w_l):\n",
    "        \n",
    "        if coordinates[i][j][0] == coordinates[i-1][j][0] or coordinates[i][j][1] == coordinates[i-1][j][1]:\n",
    "            cnt +=1"
   ]
  },
  {
   "cell_type": "code",
   "execution_count": 258,
   "id": "6fa879d0",
   "metadata": {},
   "outputs": [],
   "source": [
    "def recur(coordinates):\n",
    "    i = 0\n",
    "    j = 0\n",
    "    cnt = 0\n",
    "    rec = 1\n",
    "    \n",
    "    while rec > 0:\n",
    "        \n",
    "        cnt+=1\n",
    "        while j < len(coordinates[i]):\n",
    "            cur_cor_i = coordinates[i][j][0]\n",
    "            cur_cor_j = coordinates[i][j][1]\n",
    "            if j > 0:\n",
    "                rec = checker(coordinates, i, j)\n",
    "            j+=1\n",
    "        i+=1\n",
    "    return cnt"
   ]
  },
  {
   "cell_type": "code",
   "execution_count": 257,
   "id": "842feb9b",
   "metadata": {},
   "outputs": [],
   "source": [
    "def checker(coordinates, i, j): \n",
    "    if  coordinates[i][j-1][0] -1 == coordinates[i][j][0] or coordinates[i][j-1][0] +1 == coordinates[i][j][0]:\n",
    "        rec=1\n",
    "    elif coordinates[i][j-1][1] -1 == coordinates[i][j][1] or coordinates[i][j-1][1] +1 == coordinates[i][j][1]:\n",
    "        rec=1\n",
    "    else:\n",
    "        rec = 0 \n",
    "    return rec"
   ]
  },
  {
   "cell_type": "code",
   "execution_count": 25,
   "id": "a2c8c4e8",
   "metadata": {},
   "outputs": [
    {
     "name": "stdout",
     "output_type": "stream",
     "text": [
      "1\n"
     ]
    }
   ],
   "source": [
    "i, j = 0,1\n",
    "letter = 'O'\n",
    "cell_check(i, j)"
   ]
  },
  {
   "cell_type": "code",
   "execution_count": 35,
   "id": "fb3a300d",
   "metadata": {},
   "outputs": [],
   "source": [
    "def cell_check(i, j):\n",
    "    if matrix[i][0][j] == letter:\n",
    "        return 1"
   ]
  },
  {
   "cell_type": "code",
   "execution_count": 47,
   "id": "a7039fac",
   "metadata": {},
   "outputs": [],
   "source": [
    "def isin_matrix(letter):\n",
    "    \n",
    "    out = []\n",
    "    for i in range(n):\n",
    "        mat_len = len(matrix[i][0])\n",
    "        \n",
    "        for j in range(mat_len):\n",
    "            if letters[i].split()[0][j] == letter:\n",
    "                out.append([i,j])\n",
    "    return out   "
   ]
  },
  {
   "cell_type": "code",
   "execution_count": 52,
   "id": "10d4764f",
   "metadata": {},
   "outputs": [],
   "source": [
    "def cell_4(word):\n",
    "    coor = isin_matrix(letter[0])\n",
    "    cnt = 0\n",
    "    \n",
    "    for i in range(len(coor)):\n",
    "        i, j = coor[i]\n",
    "        cnt +=(cell_check(i, j))\n",
    "    return coor, cnt"
   ]
  },
  {
   "cell_type": "code",
   "execution_count": 63,
   "id": "e4199346",
   "metadata": {},
   "outputs": [
    {
     "name": "stdout",
     "output_type": "stream",
     "text": [
      "[0, 1]\n"
     ]
    },
    {
     "ename": "IndexError",
     "evalue": "list index out of range",
     "output_type": "error",
     "traceback": [
      "\u001b[1;31m---------------------------------------------------------------------------\u001b[0m",
      "\u001b[1;31mIndexError\u001b[0m                                Traceback (most recent call last)",
      "Input \u001b[1;32mIn [63]\u001b[0m, in \u001b[0;36m<cell line: 3>\u001b[1;34m()\u001b[0m\n\u001b[0;32m      7\u001b[0m coor_word \u001b[38;5;241m=\u001b[39m [coor[i]]\n\u001b[0;32m      8\u001b[0m \u001b[38;5;28;01mwhile\u001b[39;00m j \u001b[38;5;241m<\u001b[39m \u001b[38;5;28mlen\u001b[39m(word):\n\u001b[1;32m----> 9\u001b[0m     near(word[j\u001b[38;5;241m+\u001b[39m\u001b[38;5;241m1\u001b[39m],\u001b[43mcoor_word\u001b[49m\u001b[43m[\u001b[49m\u001b[43mj\u001b[49m\u001b[43m]\u001b[49m[\u001b[38;5;241m0\u001b[39m],coor_word[j][\u001b[38;5;241m1\u001b[39m])\n\u001b[0;32m     10\u001b[0m     j\u001b[38;5;241m+\u001b[39m\u001b[38;5;241m=\u001b[39m\u001b[38;5;241m1\u001b[39m\n",
      "\u001b[1;31mIndexError\u001b[0m: list index out of range"
     ]
    }
   ],
   "source": [
    "word = 'OLYMPIAD'\n",
    "coor, first_cells = cell_4(word)\n",
    "if first_cells > 0:\n",
    "    for i in range(first_cells):\n",
    "        print(coor[i])\n",
    "        j = 0\n",
    "        coor_word = [coor[i]]\n",
    "        while j < len(word):\n",
    "            near(word[j+1],coor_word[j][0],coor_word[j][1])\n",
    "            j+=1"
   ]
  },
  {
   "cell_type": "code",
   "execution_count": 64,
   "id": "35a1c01a",
   "metadata": {},
   "outputs": [],
   "source": [
    "def near(letter,i,j):\n",
    "    cnt =0\n",
    "    coor =[]\n",
    "    if matrix[i][0][j+1] == letter:\n",
    "        cnt+=1\n",
    "        \n",
    "    if matrix[i][0][j-1] == letter:\n",
    "        cnt+=1   \n",
    "    if matrix[i+1][0][j] == letter:\n",
    "        cnt+=1\n",
    "    if matrix[i-1][0][j] == letter:\n",
    "        cnt+=1 \n",
    "        \n",
    "    return cnt\n",
    "    "
   ]
  },
  {
   "cell_type": "code",
   "execution_count": 69,
   "id": "2e086c9b",
   "metadata": {},
   "outputs": [
    {
     "data": {
      "text/plain": [
       "1"
      ]
     },
     "execution_count": 69,
     "metadata": {},
     "output_type": "execute_result"
    }
   ],
   "source": [
    "coor_word[0][1]"
   ]
  },
  {
   "cell_type": "markdown",
   "id": "37dc1dc6",
   "metadata": {},
   "source": [
    "https://contest.yandex.ru/contest/28969/problems/C/"
   ]
  },
  {
   "cell_type": "code",
   "execution_count": 71,
   "id": "38016531",
   "metadata": {},
   "outputs": [
    {
     "name": "stdout",
     "output_type": "stream",
     "text": [
      "7\n"
     ]
    }
   ],
   "source": [
    "with open('input.txt') as f:\n",
    "    lines = f.readlines()\n",
    "\n",
    "n_gem = int(lines[0].split()[0])\n",
    "n_pair = int(lines[0].split()[1])\n",
    "gems = lines[1].split()\n",
    "pairs = lines[2:]\n",
    "\n",
    "clear_p = {}\n",
    "for i in range(n_pair):\n",
    "    pair = pairs[i].split()[0]\n",
    "    if pair[0] not in clear_p:\n",
    "        clear_p[pair[0]] = []\n",
    "    clear_p[pair[0]].append(pair[1])\n",
    "    \n",
    "\n",
    "cnt = {}\n",
    "ans = 0\n",
    "\n",
    "for i in range(n_gem)[::-1]:\n",
    "    if gems[0][i] in clear_p:\n",
    "        for next in clear_p[gems[0][i]]:\n",
    "            if next  in cnt:\n",
    "                ans+= cnt[next]\n",
    "    \n",
    "    if gems[0][i] not in cnt:\n",
    "        cnt[gems[0][i]] = 0\n",
    "    cnt[gems[0][i]] += 1\n",
    "        \n",
    "print(ans)    "
   ]
  },
  {
   "cell_type": "markdown",
   "id": "bc4a7439",
   "metadata": {},
   "source": [
    "https://contest.yandex.ru/contest/28969/problems/D/"
   ]
  },
  {
   "cell_type": "code",
   "execution_count": 129,
   "id": "8c87ff40",
   "metadata": {},
   "outputs": [
    {
     "name": "stdout",
     "output_type": "stream",
     "text": [
      "8810\n"
     ]
    }
   ],
   "source": [
    "with open('input.txt') as f:\n",
    "    lines = f.readlines()\n",
    "first = lines[0].split()[0]\n",
    "second = lines[1].split()[0]\n",
    "\n",
    "def get_dict(values):\n",
    "    def_dict = {}\n",
    "    for i in range(len(first)):\n",
    "        if not def_dict.get(values[i]):\n",
    "            def_dict.update({values[i]:0})\n",
    "        def_dict.update({values[i]:int(def_dict[values[i]])+1})\n",
    "        \n",
    "    return def_dict\n",
    "\n",
    "def get_min(first_, second_):\n",
    "    if first_ < second_:\n",
    "        return first_\n",
    "    else: \n",
    "        return second_\n",
    "\n",
    "first_dict = get_dict(first)\n",
    "second_dict = get_dict(second)\n",
    "\n",
    "    \n",
    "final_dict = {}\n",
    "for i in first_dict.keys():\n",
    "    for j in second_dict.keys():\n",
    "        if i == j:\n",
    "            if first_dict[i]-second_dict[j] == 0:\n",
    "                final_dict.update({\n",
    "                                j:first_dict[i]\n",
    "                                  })\n",
    "            else:\n",
    "                val= get_min(first_dict[i],second_dict[j])\n",
    "                final_dict.update({\n",
    "                                j:val\n",
    "                                  })\n",
    "                \n",
    "                \n",
    "final_lst = []\n",
    "for i in sorted(final_dict.keys(),reverse=True):\n",
    "    for j in range(final_dict[i]):\n",
    "        final_lst.append(i)\n",
    "  \n",
    "if len(final_lst) > 0:\n",
    "    print(int(''.join(final_lst)))\n",
    "else:\n",
    "    print(-1)"
   ]
  },
  {
   "cell_type": "markdown",
   "id": "2b5378de",
   "metadata": {},
   "source": [
    "https://contest.yandex.ru/contest/28969/problems/E/"
   ]
  },
  {
   "cell_type": "code",
   "execution_count": 216,
   "id": "e197a2f1",
   "metadata": {},
   "outputs": [
    {
     "name": "stdout",
     "output_type": "stream",
     "text": [
      "ccba\n"
     ]
    }
   ],
   "source": [
    "with open('input.txt') as f:\n",
    "    lines = f.readlines()\n",
    "mom = lines[0].split()[0]\n",
    "dad = lines[1].split()[0]\n",
    "\n",
    "def get_dict(arr):\n",
    "    dictt = {}\n",
    "    \n",
    "    for i in range(len(arr)):\n",
    "        if not dictt.get(arr[i]):\n",
    "            dictt.update({arr[i]:0})\n",
    "        dictt.update({arr[i]:int(dictt[arr[i]])+1})\n",
    "    return dictt\n",
    "\n",
    "dict_mom = get_dict(mom)\n",
    "dict_dad = get_dict(dad)\n",
    "\n",
    "lst_max = dict_mom.keys() & dict_dad.keys()\n",
    "\n",
    "ans = []\n",
    "while len(lst_max) > 0:\n",
    "    maxsymb = max(lst_max)\n",
    "    cnt_maxsymb = min(dict_mom[maxsymb], dict_dad[maxsymb])\n",
    "    ans.append(maxsymb*cnt_maxsymb) \n",
    "    \n",
    "    mom = mom.replace(maxsymb, '#', cnt_maxsymb)\n",
    "    mom = mom[mom.rfind('#')+1:]\n",
    "    \n",
    "    dad = dad.replace(maxsymb, '#', cnt_maxsymb)\n",
    "    dad = dad[dad.rfind('#')+1:]\n",
    "    \n",
    "    dict_mom = get_dict(mom)\n",
    "    dict_dad = get_dict(dad)\n",
    "    \n",
    "    lst_max = dict_mom.keys() & dict_dad.keys()\n",
    "    \n",
    "print(''.join(ans))    "
   ]
  },
  {
   "cell_type": "code",
   "execution_count": null,
   "id": "739957eb",
   "metadata": {},
   "outputs": [],
   "source": []
  }
 ],
 "metadata": {
  "kernelspec": {
   "display_name": "Python 3 (ipykernel)",
   "language": "python",
   "name": "python3"
  },
  "language_info": {
   "codemirror_mode": {
    "name": "ipython",
    "version": 3
   },
   "file_extension": ".py",
   "mimetype": "text/x-python",
   "name": "python",
   "nbconvert_exporter": "python",
   "pygments_lexer": "ipython3",
   "version": "3.9.7"
  }
 },
 "nbformat": 4,
 "nbformat_minor": 5
}
